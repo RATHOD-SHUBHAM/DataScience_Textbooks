{
 "cells": [
  {
   "cell_type": "code",
   "execution_count": 1,
   "metadata": {},
   "outputs": [],
   "source": [
    "import numpy as np\n",
    "import matplotlib.pyplot as plt\n",
    "import sklearn.metrics"
   ]
  },
  {
   "cell_type": "code",
   "execution_count": 4,
   "metadata": {},
   "outputs": [
    {
     "name": "stdout",
     "output_type": "stream",
     "text": [
      "['positive', 'negative', 'positive', 'positive', 'positive', 'positive', 'negative', 'negative', 'negative', 'negative']\n"
     ]
    }
   ],
   "source": [
    "y_true = [\"positive\", \"negative\", \"negative\", \"positive\", \"positive\", \"positive\", \"negative\", \"positive\", \"negative\", \"positive\"]\n",
    "pred_scores = [0.7, 0.3, 0.5, 0.6, 0.55, 0.9, 0.4, 0.2, 0.4, 0.3]\n",
    "\n",
    "threshold = 0.5\n",
    "y_pred = [\"positive\" if score>=threshold else \"negative\" for score in pred_scores]\n",
    "\n",
    "print(y_pred)"
   ]
  },
  {
   "cell_type": "code",
   "execution_count": 7,
   "metadata": {},
   "outputs": [
    {
     "name": "stdout",
     "output_type": "stream",
     "text": [
      "[[4 2]\n",
      " [1 3]]\n"
     ]
    }
   ],
   "source": [
    "r = np.flip(sklearn.metrics.confusion_matrix(y_true, y_pred))\n",
    "\n",
    "print(r)"
   ]
  },
  {
   "cell_type": "code",
   "execution_count": 8,
   "metadata": {},
   "outputs": [
    {
     "name": "stdout",
     "output_type": "stream",
     "text": [
      "0.8\n",
      "0.6666666666666666\n"
     ]
    }
   ],
   "source": [
    "precision = sklearn.metrics.precision_score(y_true, y_pred, pos_label=\"positive\")\n",
    "print(precision)\n",
    "\n",
    "recall = sklearn.metrics.recall_score(y_true, y_pred, pos_label=\"positive\")\n",
    "print(recall)"
   ]
  },
  {
   "cell_type": "code",
   "execution_count": 9,
   "metadata": {},
   "outputs": [
    {
     "name": "stdout",
     "output_type": "stream",
     "text": [
      "[0.2  0.25 0.3  0.35 0.4  0.45 0.5  0.55 0.6  0.65]\n"
     ]
    }
   ],
   "source": [
    "thresholds = np.arange(start=0.2, stop=0.7, step=0.05)\n",
    "print(thresholds)"
   ]
  },
  {
   "cell_type": "code",
   "execution_count": 17,
   "metadata": {},
   "outputs": [],
   "source": [
    "def precision_recall_curve(y_true, y_pred, thresholds):\n",
    "    precisions=[]\n",
    "    recalls=[]\n",
    "    \n",
    "    for threshold in thresholds:\n",
    "        y_pred = ['positive' if score>=threshold else 'negative' for score in pred_scores]\n",
    "        \n",
    "        precision = sklearn.metrics.precision_score(y_true, y_pred, pos_label='positive')\n",
    "        recall = sklearn.metrics.recall_score(y_true, y_pred, pos_label='positive')\n",
    "        \n",
    "        precisions.append(precision)\n",
    "        recalls.append(recall)\n",
    "    \n",
    "    return precisions, recalls"
   ]
  },
  {
   "cell_type": "code",
   "execution_count": 18,
   "metadata": {},
   "outputs": [],
   "source": [
    "precisions, recalls = precision_recall_curve(y_true, y_pred, thresholds)"
   ]
  },
  {
   "cell_type": "code",
   "execution_count": 19,
   "metadata": {},
   "outputs": [
    {
     "name": "stdout",
     "output_type": "stream",
     "text": [
      "[0.6, 0.5555555555555556, 0.5555555555555556, 0.5714285714285714, 0.5714285714285714, 0.8, 0.8, 1.0, 1.0, 1.0]\n",
      "[1.0, 0.8333333333333334, 0.8333333333333334, 0.6666666666666666, 0.6666666666666666, 0.6666666666666666, 0.6666666666666666, 0.6666666666666666, 0.5, 0.3333333333333333]\n"
     ]
    }
   ],
   "source": [
    "print(precisions)\n",
    "print(recalls)"
   ]
  },
  {
   "cell_type": "code",
   "execution_count": 20,
   "metadata": {},
   "outputs": [
    {
     "data": {
      "image/png": "[encoded data removed]",
      "text/plain": [
       "<Figure size 432x288 with 1 Axes>"
      ]
     },
     "metadata": {
      "needs_background": "light"
     },
     "output_type": "display_data"
    }
   ],
   "source": [
    "plt.plot(recalls, precisions, linewidth=4, color=\"red\")\n",
    "plt.xlabel(\"Recall\", fontsize=12, fontweight='bold')\n",
    "plt.ylabel(\"Precision\", fontsize=12, fontweight='bold')\n",
    "plt.title(\"Precision-Recall Curve\", fontsize=15, fontweight=\"bold\")\n",
    "plt.show()"
   ]
  },
  {
   "cell_type": "code",
   "execution_count": null,
   "metadata": {},
   "outputs": [],
   "source": []
  }
 ],
 "metadata": {
  "kernelspec": {
   "display_name": "Python 3",
   "language": "python",
   "name": "python3"
  },
  "language_info": {
   "codemirror_mode": {
    "name": "ipython",
    "version": 3
   },
   "file_extension": ".py",
   "mimetype": "text/x-python",
   "name": "python",
   "nbconvert_exporter": "python",
   "pygments_lexer": "ipython3",
   "version": "3.7.6"
  }
 },
 "nbformat": 4,
 "nbformat_minor": 4
}
