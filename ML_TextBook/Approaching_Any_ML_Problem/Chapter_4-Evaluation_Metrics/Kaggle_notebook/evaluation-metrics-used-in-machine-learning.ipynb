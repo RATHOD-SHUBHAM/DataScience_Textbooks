{
 "cells": [
  {
   "cell_type": "code",
   "execution_count": 1,
   "id": "7ea70bf9",
   "metadata": {
    "execution": {
     "iopub.execute_input": "2022-11-11T05:51:32.562414Z",
     "iopub.status.busy": "2022-11-11T05:51:32.561408Z",
     "iopub.status.idle": "2022-11-11T05:51:32.582943Z",
     "shell.execute_reply": "2022-11-11T05:51:32.582062Z"
    },
    "papermill": {
     "duration": 0.045051,
     "end_time": "2022-11-11T05:51:32.585833",
     "exception": false,
     "start_time": "2022-11-11T05:51:32.540782",
     "status": "completed"
    },
    "tags": []
   },
   "outputs": [
    {
     "name": "stdout",
     "output_type": "stream",
     "text": [
      "/kaggle/input/heart-failure-prediction/heart.csv\n"
     ]
    }
   ],
   "source": [
    "# This Python 3 environment comes with many helpful analytics libraries installed\n",
    "# It is defined by the kaggle/python Docker image: https://github.com/kaggle/docker-python\n",
    "# For example, here's several helpful packages to load\n",
    "\n",
    "import numpy as np # linear algebra\n",
    "import pandas as pd # data processing, CSV file I/O (e.g. pd.read_csv)\n",
    "\n",
    "# Input data files are available in the read-only \"../input/\" directory\n",
    "# For example, running this (by clicking run or pressing Shift+Enter) will list all files under the input directory\n",
    "\n",
    "import os\n",
    "for dirname, _, filenames in os.walk('/kaggle/input'):\n",
    "    for filename in filenames:\n",
    "        print(os.path.join(dirname, filename))\n",
    "\n",
    "# You can write up to 20GB to the current directory (/kaggle/working/) that gets preserved as output when you create a version using \"Save & Run All\" \n",
    "# You can also write temporary files to /kaggle/temp/, but they won't be saved outside of the current session"
   ]
  },
  {
   "cell_type": "markdown",
   "id": "eb352341",
   "metadata": {
    "papermill": {
     "duration": 0.018023,
     "end_time": "2022-11-11T05:51:32.620798",
     "exception": false,
     "start_time": "2022-11-11T05:51:32.602775",
     "status": "completed"
    },
    "tags": []
   },
   "source": [
    "<div style=\"color:white;background-color:Fuchsia;padding:3%;border-radius:150px 150px;font-size:1.5em;text-align:center\"> <font color=\"White\" size=+2.5 face=\"Lucida Calligraphy\"><div style=\"align:center: justify\">Evaluation Metrics in ML/AI for Classification </font></div>"
   ]
  },
  {
   "cell_type": "markdown",
   "id": "cd8a3179",
   "metadata": {
    "papermill": {
     "duration": 0.016751,
     "end_time": "2022-11-11T05:51:32.655497",
     "exception": false,
     "start_time": "2022-11-11T05:51:32.638746",
     "status": "completed"
    },
    "tags": []
   },
   "source": [
    "<font color=\"Fuchsia\"><h1 style=\"text-align: justify; font-family: 'Lucida Calligraphy'; font-size:30px; color:Fuchsia\"> Introduction  </h1>"
   ]
  },
  {
   "cell_type": "markdown",
   "id": "279a294b",
   "metadata": {
    "papermill": {
     "duration": 0.017269,
     "end_time": "2022-11-11T05:51:32.690212",
     "exception": false,
     "start_time": "2022-11-11T05:51:32.672943",
     "status": "completed"
    },
    "tags": []
   },
   "source": [
    "<font color=\"Fuchsia\"><h2 style=\"text-align: justify; font-family: 'Lucida Calligraphy'; font-size:25px; color:Fuchsia\"> This notebook aims to:  </h2>"
   ]
  },
  {
   "cell_type": "markdown",
   "id": "0425e523",
   "metadata": {
    "papermill": {
     "duration": 0.016207,
     "end_time": "2022-11-11T05:51:32.723824",
     "exception": false,
     "start_time": "2022-11-11T05:51:32.707617",
     "status": "completed"
    },
    "tags": []
   },
   "source": [
    " <div style=\"color:white;\n",
    "           display:fill;\n",
    "           border-radius:5px;\n",
    "           background-color:#5F1666;\n",
    "           font-size:22px;\n",
    "           font-family:Nexa;\n",
    "           letter-spacing:0.5px\">\n",
    "        <p style=\"padding: 15px;\n",
    "              color:white;\">\n",
    "            <b>Explain different types of Evaluation Metrics used in ML/AI</b>\n",
    "        </p>"
   ]
  },
  {
   "cell_type": "markdown",
   "id": "38426034",
   "metadata": {
    "papermill": {
     "duration": 0.016239,
     "end_time": "2022-11-11T05:51:32.756518",
     "exception": false,
     "start_time": "2022-11-11T05:51:32.740279",
     "status": "completed"
    },
    "tags": []
   },
   "source": [
    "<font color=\"Fuchsia\"><h1 style=\"text-align: justify; font-family: 'Lucida Calligraphy'; font-size:20px; color:Fuchsia\"> The different types of Evaluation Metrics used in this project are:  </h1>"
   ]
  },
  {
   "cell_type": "markdown",
   "id": "2b7fa871",
   "metadata": {
    "papermill": {
     "duration": 0.016217,
     "end_time": "2022-11-11T05:51:32.789327",
     "exception": false,
     "start_time": "2022-11-11T05:51:32.773110",
     "status": "completed"
    },
    "tags": []
   },
   "source": [
    "1.Confusion Matrix\n",
    "\n",
    "2.Classification Report\n",
    "\n",
    "3.Classification accuracy \n",
    "\n",
    "4.Classification Error\n",
    "\n",
    "5.Precision\n",
    "\n",
    "6.Recall \n",
    "\n",
    "7.True Positive Rate\n",
    "\n",
    "8.True False Positive Rate\n",
    "\n",
    "9.Specificity\n",
    "\n",
    "10.Sensitivity\n",
    "\n",
    "11.F1 Score \n",
    "\n",
    "12.Support \n",
    "\n",
    "13.ROC CUrve\n",
    "\n",
    "14.Precision Recall Curve"
   ]
  },
  {
   "cell_type": "markdown",
   "id": "f8242740",
   "metadata": {
    "papermill": {
     "duration": 0.016139,
     "end_time": "2022-11-11T05:51:32.821918",
     "exception": false,
     "start_time": "2022-11-11T05:51:32.805779",
     "status": "completed"
    },
    "tags": []
   },
   "source": [
    "<font color=\"Fuchsia\"><h1 style=\"text-align: justify; font-family: 'Lucida Calligraphy'; font-size:30px; color:Fuchsia\"> Library Importing  </h1>"
   ]
  },
  {
   "cell_type": "code",
   "execution_count": 2,
   "id": "0abc901d",
   "metadata": {
    "execution": {
     "iopub.execute_input": "2022-11-11T05:51:32.857016Z",
     "iopub.status.busy": "2022-11-11T05:51:32.856283Z",
     "iopub.status.idle": "2022-11-11T05:51:34.128852Z",
     "shell.execute_reply": "2022-11-11T05:51:34.127752Z"
    },
    "papermill": {
     "duration": 1.293293,
     "end_time": "2022-11-11T05:51:34.131631",
     "exception": false,
     "start_time": "2022-11-11T05:51:32.838338",
     "status": "completed"
    },
    "tags": []
   },
   "outputs": [],
   "source": [
    "import pandas as pd \n",
    "import numpy as np \n",
    "import seaborn as sns \n",
    "import matplotlib.pyplot as plt \n",
    "%matplotlib inline \n",
    "\n",
    "from sklearn.metrics import plot_confusion_matrix,roc_auc_score, roc_curve, f1_score, accuracy_score\n",
    "from sklearn.metrics import make_scorer, precision_score, precision_recall_curve, plot_precision_recall_curve\n",
    "from sklearn.metrics import recall_score, plot_roc_curve\n",
    "\n",
    "import warnings\n",
    "warnings.filterwarnings('ignore')"
   ]
  },
  {
   "cell_type": "code",
   "execution_count": 3,
   "id": "3dd4a03d",
   "metadata": {
    "execution": {
     "iopub.execute_input": "2022-11-11T05:51:34.167325Z",
     "iopub.status.busy": "2022-11-11T05:51:34.166380Z",
     "iopub.status.idle": "2022-11-11T05:51:34.171892Z",
     "shell.execute_reply": "2022-11-11T05:51:34.170783Z"
    },
    "papermill": {
     "duration": 0.025586,
     "end_time": "2022-11-11T05:51:34.174223",
     "exception": false,
     "start_time": "2022-11-11T05:51:34.148637",
     "status": "completed"
    },
    "tags": []
   },
   "outputs": [],
   "source": [
    "pd.set_option('display.max_columns',None)\n",
    "pd.set_option('display.max_rows',None)\n",
    "pd.set_option(\"display.precision\", 3)"
   ]
  },
  {
   "cell_type": "code",
   "execution_count": 4,
   "id": "9781cdc9",
   "metadata": {
    "execution": {
     "iopub.execute_input": "2022-11-11T05:51:34.208909Z",
     "iopub.status.busy": "2022-11-11T05:51:34.208496Z",
     "iopub.status.idle": "2022-11-11T05:51:34.312489Z",
     "shell.execute_reply": "2022-11-11T05:51:34.311320Z"
    },
    "papermill": {
     "duration": 0.124258,
     "end_time": "2022-11-11T05:51:34.314918",
     "exception": false,
     "start_time": "2022-11-11T05:51:34.190660",
     "status": "completed"
    },
    "tags": []
   },
   "outputs": [
    {
     "data": {
      "text/html": [
       "<style type=\"text/css\">\n",
       "#T_278fb_row0_col0, #T_278fb_row0_col1, #T_278fb_row0_col2, #T_278fb_row0_col3, #T_278fb_row0_col4, #T_278fb_row0_col5, #T_278fb_row0_col6, #T_278fb_row0_col7, #T_278fb_row0_col8, #T_278fb_row0_col9, #T_278fb_row0_col10, #T_278fb_row0_col11, #T_278fb_row1_col0, #T_278fb_row1_col1, #T_278fb_row1_col2, #T_278fb_row1_col3, #T_278fb_row1_col4, #T_278fb_row1_col5, #T_278fb_row1_col6, #T_278fb_row1_col7, #T_278fb_row1_col8, #T_278fb_row1_col9, #T_278fb_row1_col10, #T_278fb_row1_col11, #T_278fb_row2_col0, #T_278fb_row2_col1, #T_278fb_row2_col2, #T_278fb_row2_col3, #T_278fb_row2_col4, #T_278fb_row2_col5, #T_278fb_row2_col6, #T_278fb_row2_col7, #T_278fb_row2_col8, #T_278fb_row2_col9, #T_278fb_row2_col10, #T_278fb_row2_col11, #T_278fb_row3_col0, #T_278fb_row3_col1, #T_278fb_row3_col2, #T_278fb_row3_col3, #T_278fb_row3_col4, #T_278fb_row3_col5, #T_278fb_row3_col6, #T_278fb_row3_col7, #T_278fb_row3_col8, #T_278fb_row3_col9, #T_278fb_row3_col10, #T_278fb_row3_col11, #T_278fb_row4_col0, #T_278fb_row4_col1, #T_278fb_row4_col2, #T_278fb_row4_col3, #T_278fb_row4_col4, #T_278fb_row4_col5, #T_278fb_row4_col6, #T_278fb_row4_col7, #T_278fb_row4_col8, #T_278fb_row4_col9, #T_278fb_row4_col10, #T_278fb_row4_col11 {\n",
       "  background-color: Olive;\n",
       "  color: white;\n",
       "  border-color: darkblack;\n",
       "}\n",
       "</style>\n",
       "<table id=\"T_278fb_\">\n",
       "  <thead>\n",
       "    <tr>\n",
       "      <th class=\"blank level0\" >&nbsp;</th>\n",
       "      <th class=\"col_heading level0 col0\" >Age</th>\n",
       "      <th class=\"col_heading level0 col1\" >Sex</th>\n",
       "      <th class=\"col_heading level0 col2\" >ChestPainType</th>\n",
       "      <th class=\"col_heading level0 col3\" >RestingBP</th>\n",
       "      <th class=\"col_heading level0 col4\" >Cholesterol</th>\n",
       "      <th class=\"col_heading level0 col5\" >FastingBS</th>\n",
       "      <th class=\"col_heading level0 col6\" >RestingECG</th>\n",
       "      <th class=\"col_heading level0 col7\" >MaxHR</th>\n",
       "      <th class=\"col_heading level0 col8\" >ExerciseAngina</th>\n",
       "      <th class=\"col_heading level0 col9\" >Oldpeak</th>\n",
       "      <th class=\"col_heading level0 col10\" >ST_Slope</th>\n",
       "      <th class=\"col_heading level0 col11\" >HeartDisease</th>\n",
       "    </tr>\n",
       "  </thead>\n",
       "  <tbody>\n",
       "    <tr>\n",
       "      <th id=\"T_278fb_level0_row0\" class=\"row_heading level0 row0\" >0</th>\n",
       "      <td id=\"T_278fb_row0_col0\" class=\"data row0 col0\" >40</td>\n",
       "      <td id=\"T_278fb_row0_col1\" class=\"data row0 col1\" >M</td>\n",
       "      <td id=\"T_278fb_row0_col2\" class=\"data row0 col2\" >ATA</td>\n",
       "      <td id=\"T_278fb_row0_col3\" class=\"data row0 col3\" >140</td>\n",
       "      <td id=\"T_278fb_row0_col4\" class=\"data row0 col4\" >289</td>\n",
       "      <td id=\"T_278fb_row0_col5\" class=\"data row0 col5\" >0</td>\n",
       "      <td id=\"T_278fb_row0_col6\" class=\"data row0 col6\" >Normal</td>\n",
       "      <td id=\"T_278fb_row0_col7\" class=\"data row0 col7\" >172</td>\n",
       "      <td id=\"T_278fb_row0_col8\" class=\"data row0 col8\" >N</td>\n",
       "      <td id=\"T_278fb_row0_col9\" class=\"data row0 col9\" >0.000</td>\n",
       "      <td id=\"T_278fb_row0_col10\" class=\"data row0 col10\" >Up</td>\n",
       "      <td id=\"T_278fb_row0_col11\" class=\"data row0 col11\" >0</td>\n",
       "    </tr>\n",
       "    <tr>\n",
       "      <th id=\"T_278fb_level0_row1\" class=\"row_heading level0 row1\" >1</th>\n",
       "      <td id=\"T_278fb_row1_col0\" class=\"data row1 col0\" >49</td>\n",
       "      <td id=\"T_278fb_row1_col1\" class=\"data row1 col1\" >F</td>\n",
       "      <td id=\"T_278fb_row1_col2\" class=\"data row1 col2\" >NAP</td>\n",
       "      <td id=\"T_278fb_row1_col3\" class=\"data row1 col3\" >160</td>\n",
       "      <td id=\"T_278fb_row1_col4\" class=\"data row1 col4\" >180</td>\n",
       "      <td id=\"T_278fb_row1_col5\" class=\"data row1 col5\" >0</td>\n",
       "      <td id=\"T_278fb_row1_col6\" class=\"data row1 col6\" >Normal</td>\n",
       "      <td id=\"T_278fb_row1_col7\" class=\"data row1 col7\" >156</td>\n",
       "      <td id=\"T_278fb_row1_col8\" class=\"data row1 col8\" >N</td>\n",
       "      <td id=\"T_278fb_row1_col9\" class=\"data row1 col9\" >1.000</td>\n",
       "      <td id=\"T_278fb_row1_col10\" class=\"data row1 col10\" >Flat</td>\n",
       "      <td id=\"T_278fb_row1_col11\" class=\"data row1 col11\" >1</td>\n",
       "    </tr>\n",
       "    <tr>\n",
       "      <th id=\"T_278fb_level0_row2\" class=\"row_heading level0 row2\" >2</th>\n",
       "      <td id=\"T_278fb_row2_col0\" class=\"data row2 col0\" >37</td>\n",
       "      <td id=\"T_278fb_row2_col1\" class=\"data row2 col1\" >M</td>\n",
       "      <td id=\"T_278fb_row2_col2\" class=\"data row2 col2\" >ATA</td>\n",
       "      <td id=\"T_278fb_row2_col3\" class=\"data row2 col3\" >130</td>\n",
       "      <td id=\"T_278fb_row2_col4\" class=\"data row2 col4\" >283</td>\n",
       "      <td id=\"T_278fb_row2_col5\" class=\"data row2 col5\" >0</td>\n",
       "      <td id=\"T_278fb_row2_col6\" class=\"data row2 col6\" >ST</td>\n",
       "      <td id=\"T_278fb_row2_col7\" class=\"data row2 col7\" >98</td>\n",
       "      <td id=\"T_278fb_row2_col8\" class=\"data row2 col8\" >N</td>\n",
       "      <td id=\"T_278fb_row2_col9\" class=\"data row2 col9\" >0.000</td>\n",
       "      <td id=\"T_278fb_row2_col10\" class=\"data row2 col10\" >Up</td>\n",
       "      <td id=\"T_278fb_row2_col11\" class=\"data row2 col11\" >0</td>\n",
       "    </tr>\n",
       "    <tr>\n",
       "      <th id=\"T_278fb_level0_row3\" class=\"row_heading level0 row3\" >3</th>\n",
       "      <td id=\"T_278fb_row3_col0\" class=\"data row3 col0\" >48</td>\n",
       "      <td id=\"T_278fb_row3_col1\" class=\"data row3 col1\" >F</td>\n",
       "      <td id=\"T_278fb_row3_col2\" class=\"data row3 col2\" >ASY</td>\n",
       "      <td id=\"T_278fb_row3_col3\" class=\"data row3 col3\" >138</td>\n",
       "      <td id=\"T_278fb_row3_col4\" class=\"data row3 col4\" >214</td>\n",
       "      <td id=\"T_278fb_row3_col5\" class=\"data row3 col5\" >0</td>\n",
       "      <td id=\"T_278fb_row3_col6\" class=\"data row3 col6\" >Normal</td>\n",
       "      <td id=\"T_278fb_row3_col7\" class=\"data row3 col7\" >108</td>\n",
       "      <td id=\"T_278fb_row3_col8\" class=\"data row3 col8\" >Y</td>\n",
       "      <td id=\"T_278fb_row3_col9\" class=\"data row3 col9\" >1.500</td>\n",
       "      <td id=\"T_278fb_row3_col10\" class=\"data row3 col10\" >Flat</td>\n",
       "      <td id=\"T_278fb_row3_col11\" class=\"data row3 col11\" >1</td>\n",
       "    </tr>\n",
       "    <tr>\n",
       "      <th id=\"T_278fb_level0_row4\" class=\"row_heading level0 row4\" >4</th>\n",
       "      <td id=\"T_278fb_row4_col0\" class=\"data row4 col0\" >54</td>\n",
       "      <td id=\"T_278fb_row4_col1\" class=\"data row4 col1\" >M</td>\n",
       "      <td id=\"T_278fb_row4_col2\" class=\"data row4 col2\" >NAP</td>\n",
       "      <td id=\"T_278fb_row4_col3\" class=\"data row4 col3\" >150</td>\n",
       "      <td id=\"T_278fb_row4_col4\" class=\"data row4 col4\" >195</td>\n",
       "      <td id=\"T_278fb_row4_col5\" class=\"data row4 col5\" >0</td>\n",
       "      <td id=\"T_278fb_row4_col6\" class=\"data row4 col6\" >Normal</td>\n",
       "      <td id=\"T_278fb_row4_col7\" class=\"data row4 col7\" >122</td>\n",
       "      <td id=\"T_278fb_row4_col8\" class=\"data row4 col8\" >N</td>\n",
       "      <td id=\"T_278fb_row4_col9\" class=\"data row4 col9\" >0.000</td>\n",
       "      <td id=\"T_278fb_row4_col10\" class=\"data row4 col10\" >Up</td>\n",
       "      <td id=\"T_278fb_row4_col11\" class=\"data row4 col11\" >0</td>\n",
       "    </tr>\n",
       "  </tbody>\n",
       "</table>\n"
      ],
      "text/plain": [
       "<pandas.io.formats.style.Styler at 0x7fd1009e2690>"
      ]
     },
     "execution_count": 4,
     "metadata": {},
     "output_type": "execute_result"
    }
   ],
   "source": [
    "heart = pd.read_csv('../input/heart-failure-prediction/heart.csv')\n",
    "heart.head().style.set_properties(**{'background-color': 'Olive',\n",
    "                           'color': 'white',\n",
    "                           'border-color': 'darkblack'})"
   ]
  },
  {
   "cell_type": "markdown",
   "id": "8b68e5bc",
   "metadata": {
    "papermill": {
     "duration": 0.016404,
     "end_time": "2022-11-11T05:51:34.348138",
     "exception": false,
     "start_time": "2022-11-11T05:51:34.331734",
     "status": "completed"
    },
    "tags": []
   },
   "source": [
    "<font color=\"DarkGreen\" size=+2 face=\"Lucida Calligraphy\"><div style=\"text-align: justify\"> Attributes:</font>\n",
    "    \n",
    "- **Age:** Age of the patient [years]\n",
    "    \n",
    "- **Sex:** Sex of the patient [M: Male, F: Female]\n",
    "    \n",
    "- **ChestPainType:** Chest Pain Type [TA: Typical Angina, ATA: Atypical Angina, NAP: Non-Anginal Pain, ASY: Asymptomatic]\n",
    "\n",
    "- **RestingBP:** Resting blood pressure [mm Hg]\n",
    "\n",
    "- **Cholesterol:** Serum cholesterol [mm/dl]\n",
    "    \n",
    "- **FastingBS:** Fasting blood sugar [1: if FastingBS > 120 mg/dl, 0: otherwise]\n",
    "    \n",
    "- **RestingECG**: Resting electrocardiogram results [Normal: Normal, ST: having ST-T wave abnormality (T wave inversions and/or ST elevation or depression of > 0.05 mV), LVH: showing probable or definite left ventricular hypertrophy by Estes' criteria]\n",
    "    \n",
    "- **MaxHR:** Maximum heart rate achieved [Numeric value between 60 and 202]\n",
    "    \n",
    "- **ExerciseAngina:** Exercise-induced angina [Y: Yes, N: No]\n",
    "    \n",
    "- **Oldpeak:** Oldpeak = ST [Numeric value measured in depression]\n",
    "    \n",
    "- **ST_Slope:** The slope of the peak exercise ST segment [Up: upsloping, Flat: flat, Down: downsloping]\n",
    "    \n",
    "- **HeartDisease:** Output class [1: heart disease, 0: Normal]"
   ]
  },
  {
   "cell_type": "code",
   "execution_count": 5,
   "id": "29aa9ec4",
   "metadata": {
    "execution": {
     "iopub.execute_input": "2022-11-11T05:51:34.384059Z",
     "iopub.status.busy": "2022-11-11T05:51:34.383171Z",
     "iopub.status.idle": "2022-11-11T05:51:34.392319Z",
     "shell.execute_reply": "2022-11-11T05:51:34.391489Z"
    },
    "papermill": {
     "duration": 0.029395,
     "end_time": "2022-11-11T05:51:34.394449",
     "exception": false,
     "start_time": "2022-11-11T05:51:34.365054",
     "status": "completed"
    },
    "tags": []
   },
   "outputs": [
    {
     "data": {
      "text/plain": [
       "(918, 12)"
      ]
     },
     "metadata": {},
     "output_type": "display_data"
    },
    {
     "data": {
      "text/plain": [
       "11016"
      ]
     },
     "metadata": {},
     "output_type": "display_data"
    }
   ],
   "source": [
    "display(heart.shape)\n",
    "display(heart.size)"
   ]
  },
  {
   "cell_type": "code",
   "execution_count": 6,
   "id": "28609b21",
   "metadata": {
    "execution": {
     "iopub.execute_input": "2022-11-11T05:51:34.430316Z",
     "iopub.status.busy": "2022-11-11T05:51:34.429704Z",
     "iopub.status.idle": "2022-11-11T05:51:34.450242Z",
     "shell.execute_reply": "2022-11-11T05:51:34.449013Z"
    },
    "papermill": {
     "duration": 0.042868,
     "end_time": "2022-11-11T05:51:34.454146",
     "exception": false,
     "start_time": "2022-11-11T05:51:34.411278",
     "status": "completed"
    },
    "tags": []
   },
   "outputs": [
    {
     "name": "stdout",
     "output_type": "stream",
     "text": [
      "<class 'pandas.core.frame.DataFrame'>\n",
      "RangeIndex: 918 entries, 0 to 917\n",
      "Data columns (total 12 columns):\n",
      " #   Column          Non-Null Count  Dtype  \n",
      "---  ------          --------------  -----  \n",
      " 0   Age             918 non-null    int64  \n",
      " 1   Sex             918 non-null    object \n",
      " 2   ChestPainType   918 non-null    object \n",
      " 3   RestingBP       918 non-null    int64  \n",
      " 4   Cholesterol     918 non-null    int64  \n",
      " 5   FastingBS       918 non-null    int64  \n",
      " 6   RestingECG      918 non-null    object \n",
      " 7   MaxHR           918 non-null    int64  \n",
      " 8   ExerciseAngina  918 non-null    object \n",
      " 9   Oldpeak         918 non-null    float64\n",
      " 10  ST_Slope        918 non-null    object \n",
      " 11  HeartDisease    918 non-null    int64  \n",
      "dtypes: float64(1), int64(6), object(5)\n",
      "memory usage: 86.2+ KB\n"
     ]
    }
   ],
   "source": [
    "heart.info()"
   ]
  },
  {
   "cell_type": "code",
   "execution_count": 7,
   "id": "c125b42c",
   "metadata": {
    "execution": {
     "iopub.execute_input": "2022-11-11T05:51:34.491795Z",
     "iopub.status.busy": "2022-11-11T05:51:34.491351Z",
     "iopub.status.idle": "2022-11-11T05:51:34.529905Z",
     "shell.execute_reply": "2022-11-11T05:51:34.528827Z"
    },
    "papermill": {
     "duration": 0.060295,
     "end_time": "2022-11-11T05:51:34.532668",
     "exception": false,
     "start_time": "2022-11-11T05:51:34.472373",
     "status": "completed"
    },
    "tags": []
   },
   "outputs": [
    {
     "data": {
      "text/html": [
       "<div>\n",
       "<style scoped>\n",
       "    .dataframe tbody tr th:only-of-type {\n",
       "        vertical-align: middle;\n",
       "    }\n",
       "\n",
       "    .dataframe tbody tr th {\n",
       "        vertical-align: top;\n",
       "    }\n",
       "\n",
       "    .dataframe thead th {\n",
       "        text-align: right;\n",
       "    }\n",
       "</style>\n",
       "<table border=\"1\" class=\"dataframe\">\n",
       "  <thead>\n",
       "    <tr style=\"text-align: right;\">\n",
       "      <th></th>\n",
       "      <th>Age</th>\n",
       "      <th>RestingBP</th>\n",
       "      <th>Cholesterol</th>\n",
       "      <th>FastingBS</th>\n",
       "      <th>MaxHR</th>\n",
       "      <th>Oldpeak</th>\n",
       "      <th>HeartDisease</th>\n",
       "    </tr>\n",
       "  </thead>\n",
       "  <tbody>\n",
       "    <tr>\n",
       "      <th>count</th>\n",
       "      <td>918.000</td>\n",
       "      <td>918.000</td>\n",
       "      <td>918.000</td>\n",
       "      <td>918.000</td>\n",
       "      <td>918.000</td>\n",
       "      <td>918.000</td>\n",
       "      <td>918.000</td>\n",
       "    </tr>\n",
       "    <tr>\n",
       "      <th>mean</th>\n",
       "      <td>53.511</td>\n",
       "      <td>132.397</td>\n",
       "      <td>198.800</td>\n",
       "      <td>0.233</td>\n",
       "      <td>136.809</td>\n",
       "      <td>0.887</td>\n",
       "      <td>0.553</td>\n",
       "    </tr>\n",
       "    <tr>\n",
       "      <th>std</th>\n",
       "      <td>9.433</td>\n",
       "      <td>18.514</td>\n",
       "      <td>109.384</td>\n",
       "      <td>0.423</td>\n",
       "      <td>25.460</td>\n",
       "      <td>1.067</td>\n",
       "      <td>0.497</td>\n",
       "    </tr>\n",
       "    <tr>\n",
       "      <th>min</th>\n",
       "      <td>28.000</td>\n",
       "      <td>0.000</td>\n",
       "      <td>0.000</td>\n",
       "      <td>0.000</td>\n",
       "      <td>60.000</td>\n",
       "      <td>-2.600</td>\n",
       "      <td>0.000</td>\n",
       "    </tr>\n",
       "    <tr>\n",
       "      <th>25%</th>\n",
       "      <td>47.000</td>\n",
       "      <td>120.000</td>\n",
       "      <td>173.250</td>\n",
       "      <td>0.000</td>\n",
       "      <td>120.000</td>\n",
       "      <td>0.000</td>\n",
       "      <td>0.000</td>\n",
       "    </tr>\n",
       "    <tr>\n",
       "      <th>50%</th>\n",
       "      <td>54.000</td>\n",
       "      <td>130.000</td>\n",
       "      <td>223.000</td>\n",
       "      <td>0.000</td>\n",
       "      <td>138.000</td>\n",
       "      <td>0.600</td>\n",
       "      <td>1.000</td>\n",
       "    </tr>\n",
       "    <tr>\n",
       "      <th>75%</th>\n",
       "      <td>60.000</td>\n",
       "      <td>140.000</td>\n",
       "      <td>267.000</td>\n",
       "      <td>0.000</td>\n",
       "      <td>156.000</td>\n",
       "      <td>1.500</td>\n",
       "      <td>1.000</td>\n",
       "    </tr>\n",
       "    <tr>\n",
       "      <th>max</th>\n",
       "      <td>77.000</td>\n",
       "      <td>200.000</td>\n",
       "      <td>603.000</td>\n",
       "      <td>1.000</td>\n",
       "      <td>202.000</td>\n",
       "      <td>6.200</td>\n",
       "      <td>1.000</td>\n",
       "    </tr>\n",
       "  </tbody>\n",
       "</table>\n",
       "</div>"
      ],
      "text/plain": [
       "           Age  RestingBP  Cholesterol  FastingBS    MaxHR  Oldpeak  \\\n",
       "count  918.000    918.000      918.000    918.000  918.000  918.000   \n",
       "mean    53.511    132.397      198.800      0.233  136.809    0.887   \n",
       "std      9.433     18.514      109.384      0.423   25.460    1.067   \n",
       "min     28.000      0.000        0.000      0.000   60.000   -2.600   \n",
       "25%     47.000    120.000      173.250      0.000  120.000    0.000   \n",
       "50%     54.000    130.000      223.000      0.000  138.000    0.600   \n",
       "75%     60.000    140.000      267.000      0.000  156.000    1.500   \n",
       "max     77.000    200.000      603.000      1.000  202.000    6.200   \n",
       "\n",
       "       HeartDisease  \n",
       "count       918.000  \n",
       "mean          0.553  \n",
       "std           0.497  \n",
       "min           0.000  \n",
       "25%           0.000  \n",
       "50%           1.000  \n",
       "75%           1.000  \n",
       "max           1.000  "
      ]
     },
     "execution_count": 7,
     "metadata": {},
     "output_type": "execute_result"
    }
   ],
   "source": [
    "heart.describe()"
   ]
  },
  {
   "cell_type": "code",
   "execution_count": 8,
   "id": "a644d333",
   "metadata": {
    "execution": {
     "iopub.execute_input": "2022-11-11T05:51:34.571183Z",
     "iopub.status.busy": "2022-11-11T05:51:34.570750Z",
     "iopub.status.idle": "2022-11-11T05:51:35.163865Z",
     "shell.execute_reply": "2022-11-11T05:51:35.162618Z"
    },
    "papermill": {
     "duration": 0.61601,
     "end_time": "2022-11-11T05:51:35.166809",
     "exception": false,
     "start_time": "2022-11-11T05:51:34.550799",
     "status": "completed"
    },
    "tags": []
   },
   "outputs": [
    {
     "data": {
      "image/png": "[encoded data removed]",
      "text/plain": [
       "<Figure size 432x432 with 3 Axes>"
      ]
     },
     "metadata": {
      "needs_background": "light"
     },
     "output_type": "display_data"
    }
   ],
   "source": [
    "## Combining multiple views on the data\n",
    "\n",
    "sns.jointplot(data=heart, x=\"Cholesterol\", y=\"RestingBP\", hue=\"ChestPainType\");"
   ]
  },
  {
   "cell_type": "code",
   "execution_count": 9,
   "id": "5b05f3a9",
   "metadata": {
    "execution": {
     "iopub.execute_input": "2022-11-11T05:51:35.206808Z",
     "iopub.status.busy": "2022-11-11T05:51:35.205686Z",
     "iopub.status.idle": "2022-11-11T05:51:36.551846Z",
     "shell.execute_reply": "2022-11-11T05:51:36.550725Z"
    },
    "papermill": {
     "duration": 1.368782,
     "end_time": "2022-11-11T05:51:36.554495",
     "exception": false,
     "start_time": "2022-11-11T05:51:35.185713",
     "status": "completed"
    },
    "tags": []
   },
   "outputs": [
    {
     "data": {
      "image/png": "[encoded data removed]",
      "text/plain": [
       "<Figure size 432x432 with 4 Axes>"
      ]
     },
     "metadata": {
      "needs_background": "light"
     },
     "output_type": "display_data"
    }
   ],
   "source": [
    "g = sns.catplot(x=\"Cholesterol\", y=\"HeartDisease\", row=\"ChestPainType\",\n",
    "                kind=\"box\", orient=\"h\", height=1.5, aspect=4,\n",
    "                data=heart.query(\"Cholesterol > 0\"))\n",
    "g.set(xscale=\"log\");"
   ]
  },
  {
   "cell_type": "code",
   "execution_count": 10,
   "id": "e0235579",
   "metadata": {
    "execution": {
     "iopub.execute_input": "2022-11-11T05:51:36.594628Z",
     "iopub.status.busy": "2022-11-11T05:51:36.594176Z",
     "iopub.status.idle": "2022-11-11T05:51:37.776727Z",
     "shell.execute_reply": "2022-11-11T05:51:37.775594Z"
    },
    "papermill": {
     "duration": 1.205204,
     "end_time": "2022-11-11T05:51:37.779272",
     "exception": false,
     "start_time": "2022-11-11T05:51:36.574068",
     "status": "completed"
    },
    "tags": []
   },
   "outputs": [
    {
     "data": {
      "image/png": "[encoded data removed]",
      "text/plain": [
       "<Figure size 432x288 with 1 Axes>"
      ]
     },
     "metadata": {
      "needs_background": "light"
     },
     "output_type": "display_data"
    }
   ],
   "source": [
    "sns.boxplot(y=\"Cholesterol\", x=\"ChestPainType\", data=heart, whis=np.inf)\n",
    "sns.swarmplot(y=\"Cholesterol\",x=\"ChestPainType\", data=heart, color=\"r\");"
   ]
  },
  {
   "cell_type": "code",
   "execution_count": 11,
   "id": "034b3d2d",
   "metadata": {
    "execution": {
     "iopub.execute_input": "2022-11-11T05:51:37.823110Z",
     "iopub.status.busy": "2022-11-11T05:51:37.822604Z",
     "iopub.status.idle": "2022-11-11T05:51:37.834435Z",
     "shell.execute_reply": "2022-11-11T05:51:37.833255Z"
    },
    "papermill": {
     "duration": 0.037271,
     "end_time": "2022-11-11T05:51:37.836661",
     "exception": false,
     "start_time": "2022-11-11T05:51:37.799390",
     "status": "completed"
    },
    "tags": []
   },
   "outputs": [
    {
     "data": {
      "text/plain": [
       "Age               0.0\n",
       "Sex               0.0\n",
       "ChestPainType     0.0\n",
       "RestingBP         0.0\n",
       "Cholesterol       0.0\n",
       "FastingBS         0.0\n",
       "RestingECG        0.0\n",
       "MaxHR             0.0\n",
       "ExerciseAngina    0.0\n",
       "Oldpeak           0.0\n",
       "ST_Slope          0.0\n",
       "HeartDisease      0.0\n",
       "dtype: float64"
      ]
     },
     "execution_count": 11,
     "metadata": {},
     "output_type": "execute_result"
    }
   ],
   "source": [
    "heart.isnull().mean()*100"
   ]
  },
  {
   "cell_type": "code",
   "execution_count": 12,
   "id": "e9d9b5ce",
   "metadata": {
    "execution": {
     "iopub.execute_input": "2022-11-11T05:51:37.878091Z",
     "iopub.status.busy": "2022-11-11T05:51:37.877392Z",
     "iopub.status.idle": "2022-11-11T05:51:38.533908Z",
     "shell.execute_reply": "2022-11-11T05:51:38.532607Z"
    },
    "papermill": {
     "duration": 0.680144,
     "end_time": "2022-11-11T05:51:38.536420",
     "exception": false,
     "start_time": "2022-11-11T05:51:37.856276",
     "status": "completed"
    },
    "tags": []
   },
   "outputs": [
    {
     "data": {
      "image/png": "[encoded data removed]",
      "text/plain": [
       "<Figure size 1800x720 with 2 Axes>"
      ]
     },
     "metadata": {
      "needs_background": "light"
     },
     "output_type": "display_data"
    }
   ],
   "source": [
    "import missingno as msno\n",
    "msno.matrix(heart)\n",
    "plt.show()"
   ]
  },
  {
   "cell_type": "code",
   "execution_count": 13,
   "id": "090fe739",
   "metadata": {
    "execution": {
     "iopub.execute_input": "2022-11-11T05:51:38.578713Z",
     "iopub.status.busy": "2022-11-11T05:51:38.578287Z",
     "iopub.status.idle": "2022-11-11T05:51:38.584513Z",
     "shell.execute_reply": "2022-11-11T05:51:38.583143Z"
    },
    "papermill": {
     "duration": 0.031054,
     "end_time": "2022-11-11T05:51:38.587793",
     "exception": false,
     "start_time": "2022-11-11T05:51:38.556739",
     "status": "completed"
    },
    "tags": []
   },
   "outputs": [
    {
     "name": "stdout",
     "output_type": "stream",
     "text": [
      "We have 918 instances with the 11 features and 1 output variable\n"
     ]
    }
   ],
   "source": [
    "print(f'We have {heart.shape[0]} instances with the {heart.shape[1]-1} features and 1 output variable')"
   ]
  },
  {
   "cell_type": "code",
   "execution_count": 14,
   "id": "7b5c9ba6",
   "metadata": {
    "execution": {
     "iopub.execute_input": "2022-11-11T05:51:38.631387Z",
     "iopub.status.busy": "2022-11-11T05:51:38.630509Z",
     "iopub.status.idle": "2022-11-11T05:51:38.642179Z",
     "shell.execute_reply": "2022-11-11T05:51:38.641205Z"
    },
    "papermill": {
     "duration": 0.035158,
     "end_time": "2022-11-11T05:51:38.644161",
     "exception": false,
     "start_time": "2022-11-11T05:51:38.609003",
     "status": "completed"
    },
    "tags": []
   },
   "outputs": [
    {
     "data": {
      "text/html": [
       "<div>\n",
       "<style scoped>\n",
       "    .dataframe tbody tr th:only-of-type {\n",
       "        vertical-align: middle;\n",
       "    }\n",
       "\n",
       "    .dataframe tbody tr th {\n",
       "        vertical-align: top;\n",
       "    }\n",
       "\n",
       "    .dataframe thead th {\n",
       "        text-align: right;\n",
       "    }\n",
       "</style>\n",
       "<table border=\"1\" class=\"dataframe\">\n",
       "  <thead>\n",
       "    <tr style=\"text-align: right;\">\n",
       "      <th></th>\n",
       "      <th>HeartDisease</th>\n",
       "    </tr>\n",
       "  </thead>\n",
       "  <tbody>\n",
       "    <tr>\n",
       "      <th>Age</th>\n",
       "      <td>0.282</td>\n",
       "    </tr>\n",
       "    <tr>\n",
       "      <th>RestingBP</th>\n",
       "      <td>0.108</td>\n",
       "    </tr>\n",
       "    <tr>\n",
       "      <th>Cholesterol</th>\n",
       "      <td>0.233</td>\n",
       "    </tr>\n",
       "    <tr>\n",
       "      <th>FastingBS</th>\n",
       "      <td>0.267</td>\n",
       "    </tr>\n",
       "    <tr>\n",
       "      <th>MaxHR</th>\n",
       "      <td>0.400</td>\n",
       "    </tr>\n",
       "    <tr>\n",
       "      <th>Oldpeak</th>\n",
       "      <td>0.404</td>\n",
       "    </tr>\n",
       "    <tr>\n",
       "      <th>HeartDisease</th>\n",
       "      <td>1.000</td>\n",
       "    </tr>\n",
       "  </tbody>\n",
       "</table>\n",
       "</div>"
      ],
      "text/plain": [
       "              HeartDisease\n",
       "Age                  0.282\n",
       "RestingBP            0.108\n",
       "Cholesterol          0.233\n",
       "FastingBS            0.267\n",
       "MaxHR                0.400\n",
       "Oldpeak              0.404\n",
       "HeartDisease         1.000"
      ]
     },
     "execution_count": 14,
     "metadata": {},
     "output_type": "execute_result"
    }
   ],
   "source": [
    "pd.DataFrame(abs(heart.corr()['HeartDisease']))"
   ]
  },
  {
   "cell_type": "markdown",
   "id": "f2d35a6d",
   "metadata": {
    "papermill": {
     "duration": 0.020028,
     "end_time": "2022-11-11T05:51:38.684831",
     "exception": false,
     "start_time": "2022-11-11T05:51:38.664803",
     "status": "completed"
    },
    "tags": []
   },
   "source": [
    "<font color=\"Fuchsia\"><h1 style=\"text-align: justify; font-family: 'Lucida Calligraphy'; font-size:30px; color:Fuchsia\"> Data train test split  </h1>"
   ]
  },
  {
   "cell_type": "code",
   "execution_count": 15,
   "id": "f640de3a",
   "metadata": {
    "execution": {
     "iopub.execute_input": "2022-11-11T05:51:38.727233Z",
     "iopub.status.busy": "2022-11-11T05:51:38.726811Z",
     "iopub.status.idle": "2022-11-11T05:51:38.742134Z",
     "shell.execute_reply": "2022-11-11T05:51:38.741062Z"
    },
    "papermill": {
     "duration": 0.039098,
     "end_time": "2022-11-11T05:51:38.744321",
     "exception": false,
     "start_time": "2022-11-11T05:51:38.705223",
     "status": "completed"
    },
    "tags": []
   },
   "outputs": [
    {
     "data": {
      "text/html": [
       "<div>\n",
       "<style scoped>\n",
       "    .dataframe tbody tr th:only-of-type {\n",
       "        vertical-align: middle;\n",
       "    }\n",
       "\n",
       "    .dataframe tbody tr th {\n",
       "        vertical-align: top;\n",
       "    }\n",
       "\n",
       "    .dataframe thead th {\n",
       "        text-align: right;\n",
       "    }\n",
       "</style>\n",
       "<table border=\"1\" class=\"dataframe\">\n",
       "  <thead>\n",
       "    <tr style=\"text-align: right;\">\n",
       "      <th></th>\n",
       "      <th>Age</th>\n",
       "      <th>Sex</th>\n",
       "      <th>ChestPainType</th>\n",
       "      <th>RestingBP</th>\n",
       "      <th>Cholesterol</th>\n",
       "      <th>FastingBS</th>\n",
       "      <th>RestingECG</th>\n",
       "      <th>MaxHR</th>\n",
       "      <th>ExerciseAngina</th>\n",
       "      <th>Oldpeak</th>\n",
       "      <th>ST_Slope</th>\n",
       "      <th>HeartDisease</th>\n",
       "    </tr>\n",
       "  </thead>\n",
       "  <tbody>\n",
       "    <tr>\n",
       "      <th>0</th>\n",
       "      <td>40</td>\n",
       "      <td>M</td>\n",
       "      <td>ATA</td>\n",
       "      <td>140</td>\n",
       "      <td>289</td>\n",
       "      <td>0</td>\n",
       "      <td>Normal</td>\n",
       "      <td>172</td>\n",
       "      <td>N</td>\n",
       "      <td>0.0</td>\n",
       "      <td>Up</td>\n",
       "      <td>0</td>\n",
       "    </tr>\n",
       "  </tbody>\n",
       "</table>\n",
       "</div>"
      ],
      "text/plain": [
       "   Age Sex ChestPainType  RestingBP  Cholesterol  FastingBS RestingECG  MaxHR  \\\n",
       "0   40   M           ATA        140          289          0     Normal    172   \n",
       "\n",
       "  ExerciseAngina  Oldpeak ST_Slope  HeartDisease  \n",
       "0              N      0.0       Up             0  "
      ]
     },
     "execution_count": 15,
     "metadata": {},
     "output_type": "execute_result"
    }
   ],
   "source": [
    "heart.head(1)\n"
   ]
  },
  {
   "cell_type": "code",
   "execution_count": 16,
   "id": "6d45524e",
   "metadata": {
    "execution": {
     "iopub.execute_input": "2022-11-11T05:51:38.787370Z",
     "iopub.status.busy": "2022-11-11T05:51:38.786946Z",
     "iopub.status.idle": "2022-11-11T05:51:38.793278Z",
     "shell.execute_reply": "2022-11-11T05:51:38.792316Z"
    },
    "papermill": {
     "duration": 0.030669,
     "end_time": "2022-11-11T05:51:38.795500",
     "exception": false,
     "start_time": "2022-11-11T05:51:38.764831",
     "status": "completed"
    },
    "tags": []
   },
   "outputs": [],
   "source": [
    "X = heart.drop('HeartDisease',axis=1) \n",
    "y = heart['HeartDisease']"
   ]
  },
  {
   "cell_type": "code",
   "execution_count": 17,
   "id": "4c8e7b0d",
   "metadata": {
    "execution": {
     "iopub.execute_input": "2022-11-11T05:51:38.838160Z",
     "iopub.status.busy": "2022-11-11T05:51:38.837745Z",
     "iopub.status.idle": "2022-11-11T05:51:39.077558Z",
     "shell.execute_reply": "2022-11-11T05:51:39.076363Z"
    },
    "papermill": {
     "duration": 0.264431,
     "end_time": "2022-11-11T05:51:39.080469",
     "exception": false,
     "start_time": "2022-11-11T05:51:38.816038",
     "status": "completed"
    },
    "tags": []
   },
   "outputs": [
    {
     "data": {
      "text/html": [
       "<div>\n",
       "<style scoped>\n",
       "    .dataframe tbody tr th:only-of-type {\n",
       "        vertical-align: middle;\n",
       "    }\n",
       "\n",
       "    .dataframe tbody tr th {\n",
       "        vertical-align: top;\n",
       "    }\n",
       "\n",
       "    .dataframe thead th {\n",
       "        text-align: right;\n",
       "    }\n",
       "</style>\n",
       "<table border=\"1\" class=\"dataframe\">\n",
       "  <thead>\n",
       "    <tr style=\"text-align: right;\">\n",
       "      <th></th>\n",
       "      <th>Age</th>\n",
       "      <th>Sex</th>\n",
       "      <th>ChestPainType</th>\n",
       "      <th>RestingBP</th>\n",
       "      <th>Cholesterol</th>\n",
       "      <th>FastingBS</th>\n",
       "      <th>RestingECG</th>\n",
       "      <th>MaxHR</th>\n",
       "      <th>ExerciseAngina</th>\n",
       "      <th>Oldpeak</th>\n",
       "      <th>ST_Slope</th>\n",
       "    </tr>\n",
       "  </thead>\n",
       "  <tbody>\n",
       "    <tr>\n",
       "      <th>0</th>\n",
       "      <td>40</td>\n",
       "      <td>1</td>\n",
       "      <td>1</td>\n",
       "      <td>140</td>\n",
       "      <td>289</td>\n",
       "      <td>0</td>\n",
       "      <td>1</td>\n",
       "      <td>172</td>\n",
       "      <td>1</td>\n",
       "      <td>0.0</td>\n",
       "      <td>1</td>\n",
       "    </tr>\n",
       "    <tr>\n",
       "      <th>1</th>\n",
       "      <td>49</td>\n",
       "      <td>2</td>\n",
       "      <td>2</td>\n",
       "      <td>160</td>\n",
       "      <td>180</td>\n",
       "      <td>0</td>\n",
       "      <td>1</td>\n",
       "      <td>156</td>\n",
       "      <td>1</td>\n",
       "      <td>1.0</td>\n",
       "      <td>2</td>\n",
       "    </tr>\n",
       "    <tr>\n",
       "      <th>2</th>\n",
       "      <td>37</td>\n",
       "      <td>1</td>\n",
       "      <td>1</td>\n",
       "      <td>130</td>\n",
       "      <td>283</td>\n",
       "      <td>0</td>\n",
       "      <td>2</td>\n",
       "      <td>98</td>\n",
       "      <td>1</td>\n",
       "      <td>0.0</td>\n",
       "      <td>1</td>\n",
       "    </tr>\n",
       "    <tr>\n",
       "      <th>3</th>\n",
       "      <td>48</td>\n",
       "      <td>2</td>\n",
       "      <td>3</td>\n",
       "      <td>138</td>\n",
       "      <td>214</td>\n",
       "      <td>0</td>\n",
       "      <td>1</td>\n",
       "      <td>108</td>\n",
       "      <td>2</td>\n",
       "      <td>1.5</td>\n",
       "      <td>2</td>\n",
       "    </tr>\n",
       "    <tr>\n",
       "      <th>4</th>\n",
       "      <td>54</td>\n",
       "      <td>1</td>\n",
       "      <td>2</td>\n",
       "      <td>150</td>\n",
       "      <td>195</td>\n",
       "      <td>0</td>\n",
       "      <td>1</td>\n",
       "      <td>122</td>\n",
       "      <td>1</td>\n",
       "      <td>0.0</td>\n",
       "      <td>1</td>\n",
       "    </tr>\n",
       "  </tbody>\n",
       "</table>\n",
       "</div>"
      ],
      "text/plain": [
       "   Age  Sex  ChestPainType  RestingBP  Cholesterol  FastingBS  RestingECG  \\\n",
       "0   40    1              1        140          289          0           1   \n",
       "1   49    2              2        160          180          0           1   \n",
       "2   37    1              1        130          283          0           2   \n",
       "3   48    2              3        138          214          0           1   \n",
       "4   54    1              2        150          195          0           1   \n",
       "\n",
       "   MaxHR  ExerciseAngina  Oldpeak  ST_Slope  \n",
       "0    172               1      0.0         1  \n",
       "1    156               1      1.0         2  \n",
       "2     98               1      0.0         1  \n",
       "3    108               2      1.5         2  \n",
       "4    122               1      0.0         1  "
      ]
     },
     "execution_count": 17,
     "metadata": {},
     "output_type": "execute_result"
    }
   ],
   "source": [
    "import category_encoders as ce\n",
    "encoder = ce.OrdinalEncoder(cols=['Sex','ChestPainType','RestingECG','ExerciseAngina','ST_Slope'],drop_invariant=True)\n",
    "X = encoder.fit_transform(X)\n",
    "X.head()"
   ]
  },
  {
   "cell_type": "code",
   "execution_count": 18,
   "id": "abe44967",
   "metadata": {
    "execution": {
     "iopub.execute_input": "2022-11-11T05:51:39.125399Z",
     "iopub.status.busy": "2022-11-11T05:51:39.124576Z",
     "iopub.status.idle": "2022-11-11T05:51:39.143005Z",
     "shell.execute_reply": "2022-11-11T05:51:39.141829Z"
    },
    "papermill": {
     "duration": 0.043794,
     "end_time": "2022-11-11T05:51:39.145654",
     "exception": false,
     "start_time": "2022-11-11T05:51:39.101860",
     "status": "completed"
    },
    "tags": []
   },
   "outputs": [],
   "source": [
    "from sklearn.model_selection import train_test_split\n",
    "X_train,X_test,y_train,y_test = train_test_split(X,y,test_size=0.2,random_state=21)"
   ]
  },
  {
   "cell_type": "markdown",
   "id": "3c3f82c7",
   "metadata": {
    "papermill": {
     "duration": 0.021021,
     "end_time": "2022-11-11T05:51:39.187696",
     "exception": false,
     "start_time": "2022-11-11T05:51:39.166675",
     "status": "completed"
    },
    "tags": []
   },
   "source": [
    "<font color=\"Fuchsia\"><h1 style=\"text-align: justify; font-family: 'Lucida Calligraphy'; font-size:25px; color:Fuchsia\"> Standardizing the data by using MinMaxScaler  </h1>"
   ]
  },
  {
   "cell_type": "code",
   "execution_count": 19,
   "id": "01bb9c49",
   "metadata": {
    "execution": {
     "iopub.execute_input": "2022-11-11T05:51:39.232233Z",
     "iopub.status.busy": "2022-11-11T05:51:39.231065Z",
     "iopub.status.idle": "2022-11-11T05:51:39.270429Z",
     "shell.execute_reply": "2022-11-11T05:51:39.269353Z"
    },
    "papermill": {
     "duration": 0.064293,
     "end_time": "2022-11-11T05:51:39.273007",
     "exception": false,
     "start_time": "2022-11-11T05:51:39.208714",
     "status": "completed"
    },
    "tags": []
   },
   "outputs": [
    {
     "data": {
      "text/html": [
       "<div>\n",
       "<style scoped>\n",
       "    .dataframe tbody tr th:only-of-type {\n",
       "        vertical-align: middle;\n",
       "    }\n",
       "\n",
       "    .dataframe tbody tr th {\n",
       "        vertical-align: top;\n",
       "    }\n",
       "\n",
       "    .dataframe thead th {\n",
       "        text-align: right;\n",
       "    }\n",
       "</style>\n",
       "<table border=\"1\" class=\"dataframe\">\n",
       "  <thead>\n",
       "    <tr style=\"text-align: right;\">\n",
       "      <th></th>\n",
       "      <th>Age</th>\n",
       "      <th>Sex</th>\n",
       "      <th>ChestPainType</th>\n",
       "      <th>RestingBP</th>\n",
       "      <th>Cholesterol</th>\n",
       "      <th>FastingBS</th>\n",
       "      <th>RestingECG</th>\n",
       "      <th>MaxHR</th>\n",
       "      <th>ExerciseAngina</th>\n",
       "      <th>Oldpeak</th>\n",
       "      <th>ST_Slope</th>\n",
       "    </tr>\n",
       "  </thead>\n",
       "  <tbody>\n",
       "    <tr>\n",
       "      <th>0</th>\n",
       "      <td>0.531</td>\n",
       "      <td>0.0</td>\n",
       "      <td>0.333</td>\n",
       "      <td>0.75</td>\n",
       "      <td>0.346</td>\n",
       "      <td>0.0</td>\n",
       "      <td>0.0</td>\n",
       "      <td>0.437</td>\n",
       "      <td>0.0</td>\n",
       "      <td>0.295</td>\n",
       "      <td>0.0</td>\n",
       "    </tr>\n",
       "    <tr>\n",
       "      <th>1</th>\n",
       "      <td>0.531</td>\n",
       "      <td>1.0</td>\n",
       "      <td>0.000</td>\n",
       "      <td>0.70</td>\n",
       "      <td>0.548</td>\n",
       "      <td>0.0</td>\n",
       "      <td>0.5</td>\n",
       "      <td>0.563</td>\n",
       "      <td>0.0</td>\n",
       "      <td>0.295</td>\n",
       "      <td>0.0</td>\n",
       "    </tr>\n",
       "    <tr>\n",
       "      <th>2</th>\n",
       "      <td>0.551</td>\n",
       "      <td>0.0</td>\n",
       "      <td>0.667</td>\n",
       "      <td>0.66</td>\n",
       "      <td>0.626</td>\n",
       "      <td>0.0</td>\n",
       "      <td>0.0</td>\n",
       "      <td>0.507</td>\n",
       "      <td>1.0</td>\n",
       "      <td>0.432</td>\n",
       "      <td>0.5</td>\n",
       "    </tr>\n",
       "    <tr>\n",
       "      <th>3</th>\n",
       "      <td>0.306</td>\n",
       "      <td>1.0</td>\n",
       "      <td>0.333</td>\n",
       "      <td>0.75</td>\n",
       "      <td>0.450</td>\n",
       "      <td>0.0</td>\n",
       "      <td>0.0</td>\n",
       "      <td>0.810</td>\n",
       "      <td>0.0</td>\n",
       "      <td>0.295</td>\n",
       "      <td>0.0</td>\n",
       "    </tr>\n",
       "    <tr>\n",
       "      <th>4</th>\n",
       "      <td>0.449</td>\n",
       "      <td>0.0</td>\n",
       "      <td>0.667</td>\n",
       "      <td>0.70</td>\n",
       "      <td>0.410</td>\n",
       "      <td>0.0</td>\n",
       "      <td>0.5</td>\n",
       "      <td>0.563</td>\n",
       "      <td>1.0</td>\n",
       "      <td>0.864</td>\n",
       "      <td>0.5</td>\n",
       "    </tr>\n",
       "  </tbody>\n",
       "</table>\n",
       "</div>"
      ],
      "text/plain": [
       "     Age  Sex  ChestPainType  RestingBP  Cholesterol  FastingBS  RestingECG  \\\n",
       "0  0.531  0.0          0.333       0.75        0.346        0.0         0.0   \n",
       "1  0.531  1.0          0.000       0.70        0.548        0.0         0.5   \n",
       "2  0.551  0.0          0.667       0.66        0.626        0.0         0.0   \n",
       "3  0.306  1.0          0.333       0.75        0.450        0.0         0.0   \n",
       "4  0.449  0.0          0.667       0.70        0.410        0.0         0.5   \n",
       "\n",
       "   MaxHR  ExerciseAngina  Oldpeak  ST_Slope  \n",
       "0  0.437             0.0    0.295       0.0  \n",
       "1  0.563             0.0    0.295       0.0  \n",
       "2  0.507             1.0    0.432       0.5  \n",
       "3  0.810             0.0    0.295       0.0  \n",
       "4  0.563             1.0    0.864       0.5  "
      ]
     },
     "metadata": {},
     "output_type": "display_data"
    },
    {
     "data": {
      "text/html": [
       "<div>\n",
       "<style scoped>\n",
       "    .dataframe tbody tr th:only-of-type {\n",
       "        vertical-align: middle;\n",
       "    }\n",
       "\n",
       "    .dataframe tbody tr th {\n",
       "        vertical-align: top;\n",
       "    }\n",
       "\n",
       "    .dataframe thead th {\n",
       "        text-align: right;\n",
       "    }\n",
       "</style>\n",
       "<table border=\"1\" class=\"dataframe\">\n",
       "  <thead>\n",
       "    <tr style=\"text-align: right;\">\n",
       "      <th></th>\n",
       "      <th>Age</th>\n",
       "      <th>Sex</th>\n",
       "      <th>ChestPainType</th>\n",
       "      <th>RestingBP</th>\n",
       "      <th>Cholesterol</th>\n",
       "      <th>FastingBS</th>\n",
       "      <th>RestingECG</th>\n",
       "      <th>MaxHR</th>\n",
       "      <th>ExerciseAngina</th>\n",
       "      <th>Oldpeak</th>\n",
       "      <th>ST_Slope</th>\n",
       "    </tr>\n",
       "  </thead>\n",
       "  <tbody>\n",
       "    <tr>\n",
       "      <th>0</th>\n",
       "      <td>0.592</td>\n",
       "      <td>1.0</td>\n",
       "      <td>1.000</td>\n",
       "      <td>0.65</td>\n",
       "      <td>0.546</td>\n",
       "      <td>0.0</td>\n",
       "      <td>0.0</td>\n",
       "      <td>0.268</td>\n",
       "      <td>0.0</td>\n",
       "      <td>0.409</td>\n",
       "      <td>0.5</td>\n",
       "    </tr>\n",
       "    <tr>\n",
       "      <th>1</th>\n",
       "      <td>0.306</td>\n",
       "      <td>0.0</td>\n",
       "      <td>0.667</td>\n",
       "      <td>0.60</td>\n",
       "      <td>0.310</td>\n",
       "      <td>0.0</td>\n",
       "      <td>0.0</td>\n",
       "      <td>0.423</td>\n",
       "      <td>1.0</td>\n",
       "      <td>0.409</td>\n",
       "      <td>0.5</td>\n",
       "    </tr>\n",
       "    <tr>\n",
       "      <th>2</th>\n",
       "      <td>0.245</td>\n",
       "      <td>0.0</td>\n",
       "      <td>0.667</td>\n",
       "      <td>0.60</td>\n",
       "      <td>0.826</td>\n",
       "      <td>1.0</td>\n",
       "      <td>0.0</td>\n",
       "      <td>0.648</td>\n",
       "      <td>1.0</td>\n",
       "      <td>0.409</td>\n",
       "      <td>0.5</td>\n",
       "    </tr>\n",
       "    <tr>\n",
       "      <th>3</th>\n",
       "      <td>0.306</td>\n",
       "      <td>0.0</td>\n",
       "      <td>0.667</td>\n",
       "      <td>0.60</td>\n",
       "      <td>0.314</td>\n",
       "      <td>0.0</td>\n",
       "      <td>1.0</td>\n",
       "      <td>0.423</td>\n",
       "      <td>1.0</td>\n",
       "      <td>0.580</td>\n",
       "      <td>0.5</td>\n",
       "    </tr>\n",
       "    <tr>\n",
       "      <th>4</th>\n",
       "      <td>0.571</td>\n",
       "      <td>0.0</td>\n",
       "      <td>0.333</td>\n",
       "      <td>0.85</td>\n",
       "      <td>0.000</td>\n",
       "      <td>0.0</td>\n",
       "      <td>1.0</td>\n",
       "      <td>0.444</td>\n",
       "      <td>1.0</td>\n",
       "      <td>0.580</td>\n",
       "      <td>0.5</td>\n",
       "    </tr>\n",
       "  </tbody>\n",
       "</table>\n",
       "</div>"
      ],
      "text/plain": [
       "     Age  Sex  ChestPainType  RestingBP  Cholesterol  FastingBS  RestingECG  \\\n",
       "0  0.592  1.0          1.000       0.65        0.546        0.0         0.0   \n",
       "1  0.306  0.0          0.667       0.60        0.310        0.0         0.0   \n",
       "2  0.245  0.0          0.667       0.60        0.826        1.0         0.0   \n",
       "3  0.306  0.0          0.667       0.60        0.314        0.0         1.0   \n",
       "4  0.571  0.0          0.333       0.85        0.000        0.0         1.0   \n",
       "\n",
       "   MaxHR  ExerciseAngina  Oldpeak  ST_Slope  \n",
       "0  0.268             0.0    0.409       0.5  \n",
       "1  0.423             1.0    0.409       0.5  \n",
       "2  0.648             1.0    0.409       0.5  \n",
       "3  0.423             1.0    0.580       0.5  \n",
       "4  0.444             1.0    0.580       0.5  "
      ]
     },
     "metadata": {},
     "output_type": "display_data"
    }
   ],
   "source": [
    "# scaling dataset with robust scaler\n",
    "from sklearn.preprocessing import MinMaxScaler\n",
    "scaler = MinMaxScaler()\n",
    "scaler.fit(X)\n",
    "X_train=scaler.fit_transform(X_train)\n",
    "X_test=scaler.transform(X_test)\n",
    "\n",
    "X_train = pd.DataFrame(X_train, columns=X.columns)\n",
    "X_test = pd.DataFrame(X_test, columns=X.columns)\n",
    "\n",
    "\n",
    "display(X_train.head())\n",
    "display(X_test.head())"
   ]
  },
  {
   "cell_type": "markdown",
   "id": "66aba02b",
   "metadata": {
    "papermill": {
     "duration": 0.021546,
     "end_time": "2022-11-11T05:51:39.316066",
     "exception": false,
     "start_time": "2022-11-11T05:51:39.294520",
     "status": "completed"
    },
    "tags": []
   },
   "source": [
    "<font color=\"Fuchsia\"><h1 style=\"text-align: justify; font-family: 'Lucida Calligraphy'; font-size:30px; color:Fuchsia\"> Model Building  </h1>"
   ]
  },
  {
   "cell_type": "markdown",
   "id": "e6889865",
   "metadata": {
    "papermill": {
     "duration": 0.021138,
     "end_time": "2022-11-11T05:51:39.358618",
     "exception": false,
     "start_time": "2022-11-11T05:51:39.337480",
     "status": "completed"
    },
    "tags": []
   },
   "source": [
    "<font color=\"Fuchsia\"><h2 style=\"text-align: justify; font-family: 'Lucida Calligraphy'; font-size:25px; color:Fuchsia\"> RandomForestClassifier  </h2>"
   ]
  },
  {
   "cell_type": "code",
   "execution_count": 20,
   "id": "1b9a1c7d",
   "metadata": {
    "execution": {
     "iopub.execute_input": "2022-11-11T05:51:39.403510Z",
     "iopub.status.busy": "2022-11-11T05:51:39.403125Z",
     "iopub.status.idle": "2022-11-11T05:51:39.849501Z",
     "shell.execute_reply": "2022-11-11T05:51:39.847875Z"
    },
    "papermill": {
     "duration": 0.472139,
     "end_time": "2022-11-11T05:51:39.852197",
     "exception": false,
     "start_time": "2022-11-11T05:51:39.380058",
     "status": "completed"
    },
    "tags": []
   },
   "outputs": [
    {
     "name": "stdout",
     "output_type": "stream",
     "text": [
      "Training Accuracy    : 100.0 %\n",
      "\u001b[1m---------------------------------\u001b[0m\n",
      "Model Accuracy Score : 86.41 %\n"
     ]
    }
   ],
   "source": [
    "plt.rcParams['figure.figsize'] = (8,6)\n",
    "plt.rcParams['font.size'] = 20\n",
    "\n",
    "from sklearn.metrics import accuracy_score,confusion_matrix,classification_report,f1_score\n",
    "# Logistic Regression\n",
    "from sklearn.ensemble import RandomForestClassifier\n",
    "Rm = RandomForestClassifier()\n",
    "Rm.fit(X_train, y_train)\n",
    "y_pred_Rm = Rm.predict(X_test)\n",
    "\n",
    "Rm_train = round(Rm.score(X_train, y_train) * 100, 2)\n",
    "Rm_accuracy = round(accuracy_score(y_pred_Rm, y_test) * 100, 2)\n",
    "Rm_f1 = round(f1_score(y_pred_Rm, y_test) * 100, 2)\n",
    "\n",
    "print(\"Training Accuracy    :\",Rm_train,\"%\")\n",
    "print(\"\\033[1m---------------------------------\\033[0m\")\n",
    "print(\"Model Accuracy Score :\",Rm_accuracy,\"%\")"
   ]
  },
  {
   "cell_type": "markdown",
   "id": "7b73745b",
   "metadata": {
    "papermill": {
     "duration": 0.023639,
     "end_time": "2022-11-11T05:51:39.897681",
     "exception": false,
     "start_time": "2022-11-11T05:51:39.874042",
     "status": "completed"
    },
    "tags": []
   },
   "source": [
    "> **Accuracy is determining out of all the classifications, how many did we classify correctly? This can be represented mathematically as:**\n",
    "\n",
    "<center><img src=\"https://miro.medium.com/max/1400/1*tZaJpElbscJgmpDxWORQJw.png\" alt=\"Heart Disease\" width=\"50%\" width=\"50%\"></center>"
   ]
  },
  {
   "cell_type": "markdown",
   "id": "4a668bd9",
   "metadata": {
    "papermill": {
     "duration": 0.021435,
     "end_time": "2022-11-11T05:51:39.940907",
     "exception": false,
     "start_time": "2022-11-11T05:51:39.919472",
     "status": "completed"
    },
    "tags": []
   },
   "source": [
    "<font color=\"Olive\"><h1 style=\"text-align: justify; font-family: 'Lucida Calligraphy'; font-size:30px; color:Olive\"> Classification metrices  </h1>"
   ]
  },
  {
   "cell_type": "markdown",
   "id": "ec8de05d",
   "metadata": {
    "papermill": {
     "duration": 0.02121,
     "end_time": "2022-11-11T05:51:39.984184",
     "exception": false,
     "start_time": "2022-11-11T05:51:39.962974",
     "status": "completed"
    },
    "tags": []
   },
   "source": [
    "<font color=\"Fuchsia\"><h2 style=\"text-align: justify; font-family: 'Lucida Calligraphy'; font-size:25px; color:Fuchsia\"> Confusion Matrix </h2>"
   ]
  },
  {
   "cell_type": "markdown",
   "id": "f25b3dd8",
   "metadata": {
    "papermill": {
     "duration": 0.021187,
     "end_time": "2022-11-11T05:51:40.028927",
     "exception": false,
     "start_time": "2022-11-11T05:51:40.007740",
     "status": "completed"
    },
    "tags": []
   },
   "source": [
    "A confusion matrix is a tool for summarizing the performance of a classification algorithm. A confusion matrix will give us a clear picture of classification model performance and the types of errors produced by the model. It gives us a summary of correct and incorrect predictions broken down by each category. The summary is represented in a tabular form.\n",
    "\n",
    "\n",
    "*Four types of outcomes are possible while evaluating a classification model performance. These four outcomes are described below:*"
   ]
  },
  {
   "cell_type": "markdown",
   "id": "bd23d8a9",
   "metadata": {
    "papermill": {
     "duration": 0.021212,
     "end_time": "2022-11-11T05:51:40.071722",
     "exception": false,
     "start_time": "2022-11-11T05:51:40.050510",
     "status": "completed"
    },
    "tags": []
   },
   "source": [
    "<center>\n",
    "    <img src=\"https://brewcode.stringlab.org/wp-content/uploads/2020/09/image-9.png\" alt=\"Confusion Matrix\" width=\"40%\" >\n",
    "</center>"
   ]
  },
  {
   "cell_type": "markdown",
   "id": "0423cbf8",
   "metadata": {
    "papermill": {
     "duration": 0.021371,
     "end_time": "2022-11-11T05:51:40.115108",
     "exception": false,
     "start_time": "2022-11-11T05:51:40.093737",
     "status": "completed"
    },
    "tags": []
   },
   "source": [
    "> True Positives (TP) – True Positives occur when we predict an observation belongs to a certain class and the observation actually belongs to that class.\n",
    "\n",
    "> True Negatives (TN) – True Negatives occur when we predict an observation does not belong to a certain class and the observation actually does not belong to that class.\n",
    "\n",
    "> False Positives (FP) – False Positives occur when we predict an observation belongs to a certain class but the observation actually does not belong to that class. This type of error is called Type I error.\n",
    "\n",
    "> False Negatives (FN) – False Negatives occur when we predict an observation does not belong to a certain class but the observation actually belongs to that class. This is a very serious error and it is called Type II error.\n",
    "\n",
    "These four outcomes are summarized in a confusion matrix given below."
   ]
  },
  {
   "cell_type": "code",
   "execution_count": 21,
   "id": "d7a820f2",
   "metadata": {
    "execution": {
     "iopub.execute_input": "2022-11-11T05:51:40.160052Z",
     "iopub.status.busy": "2022-11-11T05:51:40.159626Z",
     "iopub.status.idle": "2022-11-11T05:51:40.421518Z",
     "shell.execute_reply": "2022-11-11T05:51:40.420313Z"
    },
    "papermill": {
     "duration": 0.287485,
     "end_time": "2022-11-11T05:51:40.424156",
     "exception": false,
     "start_time": "2022-11-11T05:51:40.136671",
     "status": "completed"
    },
    "tags": []
   },
   "outputs": [
    {
     "data": {
      "image/png": "[encoded data removed]",
      "text/plain": [
       "<Figure size 576x432 with 2 Axes>"
      ]
     },
     "metadata": {
      "needs_background": "light"
     },
     "output_type": "display_data"
    }
   ],
   "source": [
    "plot_confusion_matrix(Rm, X_test, y_test);\n",
    "plt.title('Confusion Matrix');"
   ]
  },
  {
   "cell_type": "markdown",
   "id": "3d60d5b0",
   "metadata": {
    "papermill": {
     "duration": 0.023272,
     "end_time": "2022-11-11T05:51:40.470612",
     "exception": false,
     "start_time": "2022-11-11T05:51:40.447340",
     "status": "completed"
    },
    "tags": []
   },
   "source": [
    "<center>\n",
    "    <img src=\"https://brewcode.stringlab.org/wp-content/uploads/2020/09/image-8.png\" alt=\"Confusion Matrix\" width=\"40%\" >\n",
    "</center>"
   ]
  },
  {
   "cell_type": "code",
   "execution_count": 22,
   "id": "4efe2e1e",
   "metadata": {
    "execution": {
     "iopub.execute_input": "2022-11-11T05:51:40.518316Z",
     "iopub.status.busy": "2022-11-11T05:51:40.517880Z",
     "iopub.status.idle": "2022-11-11T05:51:40.528432Z",
     "shell.execute_reply": "2022-11-11T05:51:40.526698Z"
    },
    "papermill": {
     "duration": 0.037995,
     "end_time": "2022-11-11T05:51:40.531389",
     "exception": false,
     "start_time": "2022-11-11T05:51:40.493394",
     "status": "completed"
    },
    "tags": []
   },
   "outputs": [
    {
     "name": "stdout",
     "output_type": "stream",
     "text": [
      "Confusion matrix:\n",
      "\n",
      " [[61 15]\n",
      " [10 98]]\n",
      "\u001b[1m-----------------------------\u001b[0m\n",
      "\n",
      "True Positives(TP) =  61\n",
      "\u001b[1m-----------------------------\u001b[0m\n",
      "\n",
      "True Negatives(TN) =  98\n",
      "\u001b[1m-----------------------------\u001b[0m\n",
      "\n",
      "False Positives(FP) =  15\n",
      "\u001b[1m-----------------------------\u001b[0m\n",
      "\n",
      "False Negatives(FN) =  10\n"
     ]
    }
   ],
   "source": [
    "# Print the Confusion Matrix and slice it into four pieces\n",
    "\n",
    "from sklearn.metrics import confusion_matrix\n",
    "\n",
    "cm = confusion_matrix(y_test, y_pred_Rm)\n",
    "\n",
    "print('Confusion matrix:\\n\\n', cm)\n",
    "print(\"\\033[1m-----------------------------\\033[0m\")\n",
    "print('\\nTrue Positives(TP) = ', cm[0,0])\n",
    "print(\"\\033[1m-----------------------------\\033[0m\")\n",
    "print('\\nTrue Negatives(TN) = ', cm[1,1])\n",
    "print(\"\\033[1m-----------------------------\\033[0m\")\n",
    "print('\\nFalse Positives(FP) = ', cm[0,1])\n",
    "print(\"\\033[1m-----------------------------\\033[0m\")\n",
    "print('\\nFalse Negatives(FN) = ', cm[1,0])"
   ]
  },
  {
   "cell_type": "markdown",
   "id": "fff65297",
   "metadata": {
    "papermill": {
     "duration": 0.022856,
     "end_time": "2022-11-11T05:51:40.576901",
     "exception": false,
     "start_time": "2022-11-11T05:51:40.554045",
     "status": "completed"
    },
    "tags": []
   },
   "source": [
    "<div style=\"color:white;\n",
    "       display:fill;\n",
    "       border-radius:5px;\n",
    "       background-color:#AC0000;\n",
    "       font-size:110%;\n",
    "       font-family:Nexa;\n",
    "       letter-spacing:0.5px\">\n",
    "    <p style=\"padding: 10px;\n",
    "          color:white;\">\n",
    "        The confusion matrix shows 59 + 98 = 157 correct predictions and 10 + 17 = 27 incorrect predictions. \n",
    "    </p>\n",
    "</div>"
   ]
  },
  {
   "cell_type": "markdown",
   "id": "6d1c563e",
   "metadata": {
    "papermill": {
     "duration": 0.023264,
     "end_time": "2022-11-11T05:51:40.623037",
     "exception": false,
     "start_time": "2022-11-11T05:51:40.599773",
     "status": "completed"
    },
    "tags": []
   },
   "source": [
    " **In this case, we have**"
   ]
  },
  {
   "cell_type": "markdown",
   "id": "4449c227",
   "metadata": {
    "papermill": {
     "duration": 0.021675,
     "end_time": "2022-11-11T05:51:40.666704",
     "exception": false,
     "start_time": "2022-11-11T05:51:40.645029",
     "status": "completed"
    },
    "tags": []
   },
   "source": [
    "<div style=\"color:white;\n",
    "       display:fill;\n",
    "       border-radius:5px;\n",
    "       background-color:Green;\n",
    "       font-size:110%;\n",
    "       font-family:Nexa;\n",
    "       letter-spacing:0.5px\">\n",
    "    <p style=\"padding: 10px;\n",
    "          color:white;\">\n",
    "        True Positives (Actual Positive:1 and Predict Positive:1) - 59\n",
    "    </p>\n",
    "</div>"
   ]
  },
  {
   "cell_type": "markdown",
   "id": "98f419e6",
   "metadata": {
    "papermill": {
     "duration": 0.02162,
     "end_time": "2022-11-11T05:51:40.710352",
     "exception": false,
     "start_time": "2022-11-11T05:51:40.688732",
     "status": "completed"
    },
    "tags": []
   },
   "source": [
    "<div style=\"color:white;\n",
    "       display:fill;\n",
    "       border-radius:5px;\n",
    "       background-color:Red;\n",
    "       font-size:110%;\n",
    "       font-family:Nexa;\n",
    "       letter-spacing:0.5px\">\n",
    "    <p style=\"padding: 10px;\n",
    "          color:white;\">\n",
    "        True Negatives (Actual Negative:0 and Predict Negative:0) - 98\n",
    "    </p>\n",
    "</div>"
   ]
  },
  {
   "cell_type": "markdown",
   "id": "3bbdb536",
   "metadata": {
    "papermill": {
     "duration": 0.021992,
     "end_time": "2022-11-11T05:51:40.754652",
     "exception": false,
     "start_time": "2022-11-11T05:51:40.732660",
     "status": "completed"
    },
    "tags": []
   },
   "source": [
    "<div style=\"color:white;\n",
    "       display:fill;\n",
    "       border-radius:5px;\n",
    "       background-color:DarkOrange;\n",
    "       font-size:110%;\n",
    "       font-family:Nexa;\n",
    "       letter-spacing:0.5px\">\n",
    "    <p style=\"padding: 10px;\n",
    "          color:white;\">\n",
    "        False Positives (Actual Negative:0 but Predict Positive:1) - 17 (Type I error) \n",
    "    </p>\n",
    "</div>"
   ]
  },
  {
   "cell_type": "markdown",
   "id": "be92a423",
   "metadata": {
    "papermill": {
     "duration": 0.021687,
     "end_time": "2022-11-11T05:51:40.798167",
     "exception": false,
     "start_time": "2022-11-11T05:51:40.776480",
     "status": "completed"
    },
    "tags": []
   },
   "source": [
    "<div style=\"color:white;\n",
    "       display:fill;\n",
    "       border-radius:5px;\n",
    "       background-color:DarkSlateGray;\n",
    "       font-size:110%;\n",
    "       font-family:Nexa;\n",
    "       letter-spacing:0.5px\">\n",
    "    <p style=\"padding: 10px;\n",
    "          color:white;\">\n",
    "        False Negatives (Actual Positive:1 but Predict Negative:0) - 10 (Type II error)\n",
    "    </p>\n",
    "</div>"
   ]
  },
  {
   "cell_type": "markdown",
   "id": "1c6fb307",
   "metadata": {
    "papermill": {
     "duration": 0.021435,
     "end_time": "2022-11-11T05:51:40.841622",
     "exception": false,
     "start_time": "2022-11-11T05:51:40.820187",
     "status": "completed"
    },
    "tags": []
   },
   "source": [
    "<font color=\"Fuchsia\"><h2 style=\"text-align: justify; font-family: 'Comic Sans MS'; font-size:25px; color:Fuchsia\"> Classification Report  </h2>"
   ]
  },
  {
   "cell_type": "markdown",
   "id": "853281f8",
   "metadata": {
    "papermill": {
     "duration": 0.021903,
     "end_time": "2022-11-11T05:51:40.885076",
     "exception": false,
     "start_time": "2022-11-11T05:51:40.863173",
     "status": "completed"
    },
    "tags": []
   },
   "source": [
    "<div style=\"color:white;\n",
    "       display:fill;\n",
    "       border-radius:5px;\n",
    "       background-color:Fuchsia;\n",
    "       font-size:140%;\n",
    "       font-family:Nexa;\n",
    "       letter-spacing:0.5px\">\n",
    "    <p style=\"padding: 10px;\n",
    "          color:white;\">\n",
    "        Classification report is another way to evaluate the classification model performance. It displays the  precision, recall, f1 and support scores for the model.\n",
    "    </p>\n",
    "</div>"
   ]
  },
  {
   "cell_type": "markdown",
   "id": "7106c311",
   "metadata": {
    "papermill": {
     "duration": 0.021471,
     "end_time": "2022-11-11T05:51:40.929046",
     "exception": false,
     "start_time": "2022-11-11T05:51:40.907575",
     "status": "completed"
    },
    "tags": []
   },
   "source": [
    "> If we want a more comprehensive summary of precision, recall, and f1-score, we can use the classification_report convenience function to compute all three at once, and print them in a nice format.\n",
    "\n",
    "> The classification_report function produces one line per class (here, True and False) and reports precision, recall, and f-score with this class as the positive class.\n",
    "\n",
    "> The last column next to the f-score provides the support of each class, which simply means the number of samples in this class according to the ground truth.\n",
    "\n",
    "> The last row in the classification report shows a weighted (by the number of samples in the class) average of the numbers for each class."
   ]
  },
  {
   "cell_type": "code",
   "execution_count": 23,
   "id": "709627f0",
   "metadata": {
    "execution": {
     "iopub.execute_input": "2022-11-11T05:51:40.974737Z",
     "iopub.status.busy": "2022-11-11T05:51:40.974265Z",
     "iopub.status.idle": "2022-11-11T05:51:40.986352Z",
     "shell.execute_reply": "2022-11-11T05:51:40.984775Z"
    },
    "papermill": {
     "duration": 0.038048,
     "end_time": "2022-11-11T05:51:40.988923",
     "exception": false,
     "start_time": "2022-11-11T05:51:40.950875",
     "status": "completed"
    },
    "tags": []
   },
   "outputs": [
    {
     "name": "stdout",
     "output_type": "stream",
     "text": [
      "              precision    recall  f1-score   support\n",
      "\n",
      "           0       0.86      0.80      0.83        76\n",
      "           1       0.87      0.91      0.89       108\n",
      "\n",
      "    accuracy                           0.86       184\n",
      "   macro avg       0.86      0.86      0.86       184\n",
      "weighted avg       0.86      0.86      0.86       184\n",
      "\n"
     ]
    }
   ],
   "source": [
    "from sklearn.metrics import classification_report\n",
    "\n",
    "print(classification_report(y_test, y_pred_Rm))"
   ]
  },
  {
   "cell_type": "markdown",
   "id": "ba11743f",
   "metadata": {
    "papermill": {
     "duration": 0.021746,
     "end_time": "2022-11-11T05:51:41.033258",
     "exception": false,
     "start_time": "2022-11-11T05:51:41.011512",
     "status": "completed"
    },
    "tags": []
   },
   "source": [
    "<center><img src=\"https://kickassdataprojects.com/wp-content/uploads/2018/10/image29.png\" alt=\"Heart Disease\" width=\"70%\" width=\"70%\"></center>"
   ]
  },
  {
   "cell_type": "markdown",
   "id": "8f2feae8",
   "metadata": {
    "papermill": {
     "duration": 0.021601,
     "end_time": "2022-11-11T05:51:41.076782",
     "exception": false,
     "start_time": "2022-11-11T05:51:41.055181",
     "status": "completed"
    },
    "tags": []
   },
   "source": [
    "<font color=\"Fuchsia\"><h2 style=\"text-align: justify; font-family: 'Comic Sans MS'; font-size:25px; color:Fuchsia\"> Classification accuracy  </h2>"
   ]
  },
  {
   "cell_type": "code",
   "execution_count": 24,
   "id": "65640c64",
   "metadata": {
    "execution": {
     "iopub.execute_input": "2022-11-11T05:51:41.123007Z",
     "iopub.status.busy": "2022-11-11T05:51:41.122170Z",
     "iopub.status.idle": "2022-11-11T05:51:41.127099Z",
     "shell.execute_reply": "2022-11-11T05:51:41.126319Z"
    },
    "papermill": {
     "duration": 0.03049,
     "end_time": "2022-11-11T05:51:41.129222",
     "exception": false,
     "start_time": "2022-11-11T05:51:41.098732",
     "status": "completed"
    },
    "tags": []
   },
   "outputs": [],
   "source": [
    "TP = cm[0,0]\n",
    "TN = cm[1,1]\n",
    "FP = cm[0,1]\n",
    "FN = cm[1,0]"
   ]
  },
  {
   "cell_type": "code",
   "execution_count": 25,
   "id": "e3a8d8c3",
   "metadata": {
    "execution": {
     "iopub.execute_input": "2022-11-11T05:51:41.175919Z",
     "iopub.status.busy": "2022-11-11T05:51:41.175279Z",
     "iopub.status.idle": "2022-11-11T05:51:41.180975Z",
     "shell.execute_reply": "2022-11-11T05:51:41.179712Z"
    },
    "papermill": {
     "duration": 0.031943,
     "end_time": "2022-11-11T05:51:41.183643",
     "exception": false,
     "start_time": "2022-11-11T05:51:41.151700",
     "status": "completed"
    },
    "tags": []
   },
   "outputs": [
    {
     "name": "stdout",
     "output_type": "stream",
     "text": [
      "Classification accuracy : 86.41 %\n"
     ]
    }
   ],
   "source": [
    "# print classification accuracy\n",
    "\n",
    "classification_accuracy = ((TP + TN) / float(TP + TN + FP + FN)*100)\n",
    "\n",
    "print('Classification accuracy : {0:0.2f}'.format(classification_accuracy),'%')"
   ]
  },
  {
   "cell_type": "markdown",
   "id": "d432a4c2",
   "metadata": {
    "papermill": {
     "duration": 0.02221,
     "end_time": "2022-11-11T05:51:41.228700",
     "exception": false,
     "start_time": "2022-11-11T05:51:41.206490",
     "status": "completed"
    },
    "tags": []
   },
   "source": [
    "<font color=\"Fuchsia\"><h2 style=\"text-align: justify; font-family: 'Comic Sans MS'; font-size:25px; color:Fuchsia\"> Classification error  </h2>"
   ]
  },
  {
   "cell_type": "code",
   "execution_count": 26,
   "id": "2ea2813a",
   "metadata": {
    "execution": {
     "iopub.execute_input": "2022-11-11T05:51:41.275361Z",
     "iopub.status.busy": "2022-11-11T05:51:41.274975Z",
     "iopub.status.idle": "2022-11-11T05:51:41.280817Z",
     "shell.execute_reply": "2022-11-11T05:51:41.279608Z"
    },
    "papermill": {
     "duration": 0.033478,
     "end_time": "2022-11-11T05:51:41.284255",
     "exception": false,
     "start_time": "2022-11-11T05:51:41.250777",
     "status": "completed"
    },
    "tags": []
   },
   "outputs": [
    {
     "name": "stdout",
     "output_type": "stream",
     "text": [
      "Classification error : 13.59 %\n"
     ]
    }
   ],
   "source": [
    "classification_error = ((FP + FN) / float(TP + TN + FP + FN)*100)\n",
    "\n",
    "print('Classification error : {0:0.2f}'.format(classification_error),'%')"
   ]
  },
  {
   "cell_type": "markdown",
   "id": "81867191",
   "metadata": {
    "papermill": {
     "duration": 0.021748,
     "end_time": "2022-11-11T05:51:41.328195",
     "exception": false,
     "start_time": "2022-11-11T05:51:41.306447",
     "status": "completed"
    },
    "tags": []
   },
   "source": [
    "<font color=\"Fuchsia\"><h2 style=\"text-align: justify; font-family: 'Comic Sans MS'; font-size:25px; color:Fuchsia\"> Precision  </h2>"
   ]
  },
  {
   "cell_type": "markdown",
   "id": "bf693ca2",
   "metadata": {
    "papermill": {
     "duration": 0.022413,
     "end_time": "2022-11-11T05:51:41.372663",
     "exception": false,
     "start_time": "2022-11-11T05:51:41.350250",
     "status": "completed"
    },
    "tags": []
   },
   "source": [
    "> **Precision** can be defined as the percentage of correctly predicted positive outcomes out of all the predicted positive outcomes. It can be given as the ratio of true positives (TP) to the sum of true and false positives (TP + FP).\n",
    "\n",
    "> So, **Precision** identifies the proportion of correctly predicted positive outcome. It is more concerned with the positive class than the negative class.</font>\n",
    "\n",
    "> Mathematically, precision can be defined as the ratio of **TP to (TP + FP).**"
   ]
  },
  {
   "cell_type": "markdown",
   "id": "6d8e6db4",
   "metadata": {
    "papermill": {
     "duration": 0.021815,
     "end_time": "2022-11-11T05:51:41.417136",
     "exception": false,
     "start_time": "2022-11-11T05:51:41.395321",
     "status": "completed"
    },
    "tags": []
   },
   "source": [
    "<center>\n",
    "    <img src=\"https://miro.medium.com/max/832/1*YLe6E6v9-GVln7TxzvgKJg.png\" alt=\"Confusion Matrix\" width=\"40%\">\n",
    "</center>"
   ]
  },
  {
   "cell_type": "code",
   "execution_count": 27,
   "id": "b0f80fee",
   "metadata": {
    "execution": {
     "iopub.execute_input": "2022-11-11T05:51:41.463024Z",
     "iopub.status.busy": "2022-11-11T05:51:41.462647Z",
     "iopub.status.idle": "2022-11-11T05:51:41.468484Z",
     "shell.execute_reply": "2022-11-11T05:51:41.467354Z"
    },
    "papermill": {
     "duration": 0.031955,
     "end_time": "2022-11-11T05:51:41.471166",
     "exception": false,
     "start_time": "2022-11-11T05:51:41.439211",
     "status": "completed"
    },
    "tags": []
   },
   "outputs": [
    {
     "name": "stdout",
     "output_type": "stream",
     "text": [
      "Precision : 80.26 %\n"
     ]
    }
   ],
   "source": [
    "# precision score\n",
    "\n",
    "precision = (TP / float(TP + FP)*100)\n",
    "\n",
    "\n",
    "print('Precision : {0:0.2f}'.format(precision),\"%\")"
   ]
  },
  {
   "cell_type": "markdown",
   "id": "61d088db",
   "metadata": {
    "papermill": {
     "duration": 0.021737,
     "end_time": "2022-11-11T05:51:41.515193",
     "exception": false,
     "start_time": "2022-11-11T05:51:41.493456",
     "status": "completed"
    },
    "tags": []
   },
   "source": [
    "<font color=\"Fuchsia\"><h2 style=\"text-align: justify; font-family: 'Comic Sans MS'; font-size:25px; color:Fuchsia\"> Recall  </h2>"
   ]
  },
  {
   "cell_type": "markdown",
   "id": "8ad424c5",
   "metadata": {
    "papermill": {
     "duration": 0.02175,
     "end_time": "2022-11-11T05:51:41.559577",
     "exception": false,
     "start_time": "2022-11-11T05:51:41.537827",
     "status": "completed"
    },
    "tags": []
   },
   "source": [
    "> Recall can be defined as the percentage of correctly predicted positive outcomes out of all the actual positive outcomes.\n",
    "It can be given as the ratio of true positives (TP) to the sum of true positives and false negatives (TP + FN). **Recall** is also called **Sensitivity**.\n",
    "\n",
    "> **Recall** identifies the proportion of correctly predicted actual positives.</font>\n",
    "\n",
    "> Mathematically, recall can be given as the ratio of **TP to (TP + FN).**</font>"
   ]
  },
  {
   "cell_type": "markdown",
   "id": "1b4aaaa0",
   "metadata": {
    "papermill": {
     "duration": 0.02438,
     "end_time": "2022-11-11T05:51:41.606361",
     "exception": false,
     "start_time": "2022-11-11T05:51:41.581981",
     "status": "completed"
    },
    "tags": []
   },
   "source": [
    "<center><img src=\"https://miro.medium.com/max/1044/1*B8FQvNug5B6bfME14N8Www.png\" alt=\"Heart Disease\" width=\"50%\" width=\"50%\"></center>"
   ]
  },
  {
   "cell_type": "code",
   "execution_count": 28,
   "id": "99f83284",
   "metadata": {
    "execution": {
     "iopub.execute_input": "2022-11-11T05:51:41.653202Z",
     "iopub.status.busy": "2022-11-11T05:51:41.652436Z",
     "iopub.status.idle": "2022-11-11T05:51:41.658870Z",
     "shell.execute_reply": "2022-11-11T05:51:41.657298Z"
    },
    "papermill": {
     "duration": 0.033113,
     "end_time": "2022-11-11T05:51:41.661855",
     "exception": false,
     "start_time": "2022-11-11T05:51:41.628742",
     "status": "completed"
    },
    "tags": []
   },
   "outputs": [
    {
     "name": "stdout",
     "output_type": "stream",
     "text": [
      "Recall or Sensitivity : 85.92 %\n"
     ]
    }
   ],
   "source": [
    "# recall score\n",
    "\n",
    "recall = (TP / float(TP + FN)*100)\n",
    "\n",
    "print('Recall or Sensitivity : {0:0.2f}'.format(recall),\"%\")"
   ]
  },
  {
   "cell_type": "markdown",
   "id": "f6c03f18",
   "metadata": {
    "papermill": {
     "duration": 0.021941,
     "end_time": "2022-11-11T05:51:41.706351",
     "exception": false,
     "start_time": "2022-11-11T05:51:41.684410",
     "status": "completed"
    },
    "tags": []
   },
   "source": [
    "<font color=\"Fuchsia\"><h2 style=\"text-align: justify; font-family: 'Comic Sans MS'; font-size:25px; color:Fuchsia\"> True Positive Rate  </h2>\n",
    "\n",
    "**True Positive Rate** is synonymous with **Recall**."
   ]
  },
  {
   "cell_type": "markdown",
   "id": "856e6e67",
   "metadata": {
    "papermill": {
     "duration": 0.022011,
     "end_time": "2022-11-11T05:51:41.751045",
     "exception": false,
     "start_time": "2022-11-11T05:51:41.729034",
     "status": "completed"
    },
    "tags": []
   },
   "source": [
    "<center><img src=\"https://miro.medium.com/max/1400/1*3PW4C6ME1kHcU_YcZnmX1w.png\" alt=\"Heart Disease\" width=\"100%\" width=\"100%\"></center>"
   ]
  },
  {
   "cell_type": "code",
   "execution_count": 29,
   "id": "0d32de87",
   "metadata": {
    "execution": {
     "iopub.execute_input": "2022-11-11T05:51:41.798233Z",
     "iopub.status.busy": "2022-11-11T05:51:41.797855Z",
     "iopub.status.idle": "2022-11-11T05:51:41.803178Z",
     "shell.execute_reply": "2022-11-11T05:51:41.802098Z"
    },
    "papermill": {
     "duration": 0.033607,
     "end_time": "2022-11-11T05:51:41.806971",
     "exception": false,
     "start_time": "2022-11-11T05:51:41.773364",
     "status": "completed"
    },
    "tags": []
   },
   "outputs": [
    {
     "name": "stdout",
     "output_type": "stream",
     "text": [
      "True Positive Rate : 85.92 %\n"
     ]
    }
   ],
   "source": [
    "# true_positive_rate\n",
    "\n",
    "true_positive_rate = (TP / float(TP + FN)*100)\n",
    "\n",
    "print('True Positive Rate : {0:0.2f}'.format(true_positive_rate),\"%\")"
   ]
  },
  {
   "cell_type": "markdown",
   "id": "1fe359cf",
   "metadata": {
    "papermill": {
     "duration": 0.022439,
     "end_time": "2022-11-11T05:51:41.853227",
     "exception": false,
     "start_time": "2022-11-11T05:51:41.830788",
     "status": "completed"
    },
    "tags": []
   },
   "source": [
    "<font color=\"Fuchsia\"><h2 style=\"text-align: justify; font-family: 'Comic Sans MS'; font-size:25px; color:Fuchsia\"> False Positive Rate  </h2>"
   ]
  },
  {
   "cell_type": "markdown",
   "id": "6972077e",
   "metadata": {
    "papermill": {
     "duration": 0.022178,
     "end_time": "2022-11-11T05:51:41.898229",
     "exception": false,
     "start_time": "2022-11-11T05:51:41.876051",
     "status": "completed"
    },
    "tags": []
   },
   "source": [
    "<center><img src=\"https://miro.medium.com/max/1400/1*e-tMgZWJs2GlWmtno8SR0A.png\" alt=\"Heart Disease\" width=\"100%\" width=\"100%\"></center>"
   ]
  },
  {
   "cell_type": "code",
   "execution_count": 30,
   "id": "7d2d53cd",
   "metadata": {
    "execution": {
     "iopub.execute_input": "2022-11-11T05:51:41.945526Z",
     "iopub.status.busy": "2022-11-11T05:51:41.944876Z",
     "iopub.status.idle": "2022-11-11T05:51:41.951648Z",
     "shell.execute_reply": "2022-11-11T05:51:41.950362Z"
    },
    "papermill": {
     "duration": 0.033191,
     "end_time": "2022-11-11T05:51:41.954152",
     "exception": false,
     "start_time": "2022-11-11T05:51:41.920961",
     "status": "completed"
    },
    "tags": []
   },
   "outputs": [
    {
     "name": "stdout",
     "output_type": "stream",
     "text": [
      "False Positive Rate : 13.27 %\n"
     ]
    }
   ],
   "source": [
    "# true_positive_rate\n",
    "\n",
    "false_positive_rate = (FP / float(FP + TN)*100)\n",
    "\n",
    "print('False Positive Rate : {0:0.2f}'.format(false_positive_rate),\"%\")"
   ]
  },
  {
   "cell_type": "markdown",
   "id": "c04afb22",
   "metadata": {
    "papermill": {
     "duration": 0.023808,
     "end_time": "2022-11-11T05:51:42.001213",
     "exception": false,
     "start_time": "2022-11-11T05:51:41.977405",
     "status": "completed"
    },
    "tags": []
   },
   "source": [
    "<font color=\"Fuchsia\"><h2 style=\"text-align: justify; font-family: 'Comic Sans MS'; font-size:25px; color:Fuchsia\"> Specificity  </h2>"
   ]
  },
  {
   "cell_type": "markdown",
   "id": "9c0c07d1",
   "metadata": {
    "papermill": {
     "duration": 0.022689,
     "end_time": "2022-11-11T05:51:42.047377",
     "exception": false,
     "start_time": "2022-11-11T05:51:42.024688",
     "status": "completed"
    },
    "tags": []
   },
   "source": [
    "> Consider the example of a medical test for diagnosing a disease. Specificity relates to the test's ability to correctly reject healthy patients without a condition. Specificity of a test is the proportion of those who truly do not have the condition who test negative for the condition. Mathematically, this can also be written as:</font>\n",
    "    \n",
    "> A positive result in a test with high specificity is useful for ruling in disease. The test rarely gives positive results in healthy patients. A positive result signifies a high probability of the presence of disease.\n",
    "\n",
    "> A test with 100% specificity will recognize all patients without the disease by testing negative, so a positive test result would definitely rule in the presence of the disease. However, a negative result from a test with high specificity is not necessarily useful for ruling out disease. For example, a test that always returns a negative test result will have a specificity of 100% because specificity does not consider false negatives. \n",
    "\n",
    "> A test like that would return negative for patients with the disease, making it useless for ruling out the disease."
   ]
  },
  {
   "cell_type": "code",
   "execution_count": 31,
   "id": "1b5200d9",
   "metadata": {
    "execution": {
     "iopub.execute_input": "2022-11-11T05:51:42.094672Z",
     "iopub.status.busy": "2022-11-11T05:51:42.094209Z",
     "iopub.status.idle": "2022-11-11T05:51:42.100162Z",
     "shell.execute_reply": "2022-11-11T05:51:42.098956Z"
    },
    "papermill": {
     "duration": 0.033224,
     "end_time": "2022-11-11T05:51:42.103160",
     "exception": false,
     "start_time": "2022-11-11T05:51:42.069936",
     "status": "completed"
    },
    "tags": []
   },
   "outputs": [
    {
     "name": "stdout",
     "output_type": "stream",
     "text": [
      "Specificity : 86.73 %\n"
     ]
    }
   ],
   "source": [
    "# Specificity\n",
    "\n",
    "specificity = (TN / (TN + FP)*100)\n",
    "\n",
    "print('Specificity : {0:0.2f}'.format(specificity),'%')"
   ]
  },
  {
   "cell_type": "markdown",
   "id": "cd210678",
   "metadata": {
    "papermill": {
     "duration": 0.022284,
     "end_time": "2022-11-11T05:51:42.149269",
     "exception": false,
     "start_time": "2022-11-11T05:51:42.126985",
     "status": "completed"
    },
    "tags": []
   },
   "source": [
    "<font color=\"Fuchsia\"><h2 style=\"text-align: justify; font-family: 'Comic Sans MS'; font-size:25px; color:Fuchsia\"> Sensitivity  </h2>"
   ]
  },
  {
   "cell_type": "markdown",
   "id": "a9a0e50c",
   "metadata": {
    "papermill": {
     "duration": 0.022167,
     "end_time": "2022-11-11T05:51:42.194156",
     "exception": false,
     "start_time": "2022-11-11T05:51:42.171989",
     "status": "completed"
    },
    "tags": []
   },
   "source": [
    "> Consider the example of a medical test for diagnosing a condition. Sensitivity refers to the test's ability to correctly detect ill patients who do have the condition. In the example of a medical test used to identify a condition, the sensitivity (sometimes also named the detection rate in a clinical setting) of the test is the proportion of people who test positive for the disease among those who have the disease. Mathematically, this can be expressed as:\n",
    "    \n",
    "> A negative result in a test with high sensitivity is useful for ruling out disease. A high sensitivity test is reliable when its result is negative since it rarely misdiagnoses those who have the disease. A test with 100% sensitivity will recognize all patients with the disease by testing positive. A negative test result would definitively rule out presence of the disease in a patient. However, a positive result in a test with high sensitivity is not necessarily useful for ruling in disease. Suppose a 'bogus' test kit is designed to always give a positive reading. When used on diseased patients, all patients test positive, giving the test 100% sensitivity. However, sensitivity does not take into account false positives. The bogus test also returns positive on all healthy patients, giving it a false positive rate of 100%, rendering it useless for detecting or \"ruling in\" the disease.\n",
    "\n",
    "> The calculation of sensitivity does not take into account indeterminate test results. If a test cannot be repeated, indeterminate samples either should be excluded from the analysis (the number of exclusions should be stated when quoting sensitivity) or can be treated as false negatives (which gives the worst-case value for sensitivity and may therefore underestimate it).\n",
    "\n",
    "> A test with a higher sensitivity has a lower type II error rate."
   ]
  },
  {
   "cell_type": "code",
   "execution_count": 32,
   "id": "978563d2",
   "metadata": {
    "execution": {
     "iopub.execute_input": "2022-11-11T05:51:42.240923Z",
     "iopub.status.busy": "2022-11-11T05:51:42.240492Z",
     "iopub.status.idle": "2022-11-11T05:51:42.246895Z",
     "shell.execute_reply": "2022-11-11T05:51:42.245723Z"
    },
    "papermill": {
     "duration": 0.032691,
     "end_time": "2022-11-11T05:51:42.249368",
     "exception": false,
     "start_time": "2022-11-11T05:51:42.216677",
     "status": "completed"
    },
    "tags": []
   },
   "outputs": [
    {
     "name": "stdout",
     "output_type": "stream",
     "text": [
      "Specificity : 85.92 %\n"
     ]
    }
   ],
   "source": [
    "# Sensitivity\n",
    "\n",
    "Sensitivity = (TP / (TP + FN)*100)\n",
    "\n",
    "print('Specificity : {0:0.2f}'.format(Sensitivity),\"%\")"
   ]
  },
  {
   "cell_type": "markdown",
   "id": "f38ed78e",
   "metadata": {
    "papermill": {
     "duration": 0.022378,
     "end_time": "2022-11-11T05:51:42.294243",
     "exception": false,
     "start_time": "2022-11-11T05:51:42.271865",
     "status": "completed"
    },
    "tags": []
   },
   "source": [
    "<font color=\"Fuchsia\"><h2 style=\"text-align: justify; font-family: 'Comic Sans MS'; font-size:25px; color:Fuchsia\"> f1-score  </h2>"
   ]
  },
  {
   "cell_type": "markdown",
   "id": "44fb0fa9",
   "metadata": {
    "papermill": {
     "duration": 0.023376,
     "end_time": "2022-11-11T05:51:42.343575",
     "exception": false,
     "start_time": "2022-11-11T05:51:42.320199",
     "status": "completed"
    },
    "tags": []
   },
   "source": [
    "<center><img src=\"https://miro.medium.com/max/1400/1*fC5NzEJEzj17EkQS7L_fMA.png\" alt=\"Heart Disease\" width=\"80%\" width=\"80%\"></center>"
   ]
  },
  {
   "cell_type": "markdown",
   "id": "c586daf1",
   "metadata": {
    "papermill": {
     "duration": 0.022206,
     "end_time": "2022-11-11T05:51:42.388150",
     "exception": false,
     "start_time": "2022-11-11T05:51:42.365944",
     "status": "completed"
    },
    "tags": []
   },
   "source": [
    "**Definition: F1 score**\n",
    "\n",
    "> Definition: F1 score is defined as the harmonic mean between precision and recall. It is used as a statistical measure to rate performance. In other words, an F1-score (from 0 to 1, 0 being lowest and 1 being the highest) is a mean of an individual’s performance, based on two factors i.e. precision and recall.\n",
    "\n",
    "**What Does F1 Score Mean?**\n",
    "\n",
    "> What is the definition of F1 score? Precision is defined as the accuracy of judgment. For example, in a random population sample of 100 people, to be counted for composition of male and female, Person A estimates the count of male population to be 70. If actually, the male count is 70 in the lot, Person A is said to have a 100% precision. Essentially, it is the ratio of estimates converting into reality.\n",
    "\n",
    "**Example**\n",
    "    \n",
    "> Recall is identifying all the units in a sample that testify to a certain attribute. In the above example, if we know that actually there is a 7:3 Male to Female ratio, and person A is able to estimate only 56 out of the 70 male in the sample, the recall ration comes down to 84%. Recall is the ability to identify the number of samples that would really count positive for a specific attribute.\n",
    "  \n",
    "> In the field of statistics, to ascribe a simple number that would easily define the precision and recall scores of a test or an individual, a number ranging from 0 to 9 is assigned to depict the accuracy. This number is the harmonic mean of the score percentages of a test on each, precision and recall.</font>\n",
    "\n",
    "> **f1-score** is the weighted harmonic mean of precision and recall. The best possible **f1-score** would be 1.0 and the worst would be 0.0.  **f1-score** is the harmonic mean of precision and recall. So, **f1-score** is always lower than accuracy measures as they embed precision and recall into their computation. The weighted average of **f1-score** should be used to compare classifier models, not global accuracy.\n",
    "\n",
    "**Theory f1 Score**\n",
    "\n",
    "> F1 score (also known as F-measure, or balanced F-score) is a metric used to measure the performance of classification machine learning models. It is a popular metric to use for classification models as it provides robust results for both balanced and imbalanced datasets, unlike accuracy, and evaluates a model's recall and precision ability. The reason F1 is able to evaluate a model's precision and recall ability is due to the way it is derived, which is as follows:  \n",
    "  \n",
    "> F1 score ranges from 0 to 1, where 1 is a perfect score indicating that the model predicts each observation correctly. A good f1 score is of course dependent on the data you are working with and the use case, for example a model predicting cancer would have a very different expectation than an abandoned cart model. However, there is a general rule of thumb when it comes to f1 scores, which is as follows:"
   ]
  },
  {
   "cell_type": "code",
   "execution_count": 33,
   "id": "10959ea6",
   "metadata": {
    "execution": {
     "iopub.execute_input": "2022-11-11T05:51:42.434930Z",
     "iopub.status.busy": "2022-11-11T05:51:42.434525Z",
     "iopub.status.idle": "2022-11-11T05:51:42.442045Z",
     "shell.execute_reply": "2022-11-11T05:51:42.440611Z"
    },
    "papermill": {
     "duration": 0.033896,
     "end_time": "2022-11-11T05:51:42.444448",
     "exception": false,
     "start_time": "2022-11-11T05:51:42.410552",
     "status": "completed"
    },
    "tags": []
   },
   "outputs": [
    {
     "name": "stdout",
     "output_type": "stream",
     "text": [
      "f1 Score :  89 %\n"
     ]
    }
   ],
   "source": [
    "# f1 score\n",
    "\n",
    "Rm_f1_score = round(f1_score(y_pred_Rm, y_test) * 100)\n",
    "print('f1 Score : ',Rm_f1_score,\"%\")"
   ]
  },
  {
   "cell_type": "markdown",
   "id": "09dd5cc9",
   "metadata": {
    "papermill": {
     "duration": 0.022381,
     "end_time": "2022-11-11T05:51:42.489711",
     "exception": false,
     "start_time": "2022-11-11T05:51:42.467330",
     "status": "completed"
    },
    "tags": []
   },
   "source": [
    "<font color=\"Fuchsia\"><h2 style=\"text-align: justify; font-family: 'Comic Sans MS'; font-size:25px; color:Fuchsia\">Support  </h2>\n",
    "\n",
    "**Support** is the actual number of occurrences of the class in our dataset."
   ]
  },
  {
   "cell_type": "markdown",
   "id": "59fe96b1",
   "metadata": {
    "papermill": {
     "duration": 0.022629,
     "end_time": "2022-11-11T05:51:42.534963",
     "exception": false,
     "start_time": "2022-11-11T05:51:42.512334",
     "status": "completed"
    },
    "tags": []
   },
   "source": [
    "<font color=\"Fuchsia\"><h2 style=\"text-align: justify; font-family: 'Comic Sans MS'; font-size:25px; color:Fuchsia\">ROC Curve </h2>"
   ]
  },
  {
   "cell_type": "markdown",
   "id": "2932f6d5",
   "metadata": {
    "papermill": {
     "duration": 0.022266,
     "end_time": "2022-11-11T05:51:42.579797",
     "exception": false,
     "start_time": "2022-11-11T05:51:42.557531",
     "status": "completed"
    },
    "tags": []
   },
   "source": [
    "*ROC Curve (Receiver Operating Characteristic)*\n",
    "\n",
    "- The ROC curve tells us how well our classifier is classifying between term deposit suscriptions (True Positives) and non-term deposit suscriptions. The X-axis is represented by False positive rates (Specificity) and the Y-axis is represented by the True Positive Rate (Sensitivity.) As the line moves the threshold of the classification changes giving us different values. The closer is the line to our top left corner the better is our model separating both classes.    \n",
    "\n",
    "*Area under the ROC curve:*\n",
    "\n",
    "- Area under the ROC (Receiver Operating Characteristic) curve : AUC - ROC curve is a performance measurement for the classification problems at various threshold settings. ROC is a probability curve and AUC represents the degree or measure of separability. It tells how much the model is capable of distinguishing between classes. Higher the AUC, the better the model is at predicting 0s as 0s and 1s as 1s. By analogy, the Higher the AUC, the better the model is at distinguishing between patients with the disease and no disease  \n"
   ]
  },
  {
   "cell_type": "markdown",
   "id": "2251c813",
   "metadata": {
    "papermill": {
     "duration": 0.026329,
     "end_time": "2022-11-11T05:51:42.632843",
     "exception": false,
     "start_time": "2022-11-11T05:51:42.606514",
     "status": "completed"
    },
    "tags": []
   },
   "source": [
    "<center>\n",
    "    <img src=\"http://web.cs.ucla.edu/~mtgarip/images/ROC_curve.png\" alt=\"ROC Curve\" width=\"80%\">\n",
    "</center"
   ]
  },
  {
   "cell_type": "code",
   "execution_count": 34,
   "id": "3a4dc164",
   "metadata": {
    "execution": {
     "iopub.execute_input": "2022-11-11T05:51:42.690746Z",
     "iopub.status.busy": "2022-11-11T05:51:42.689283Z",
     "iopub.status.idle": "2022-11-11T05:51:42.931096Z",
     "shell.execute_reply": "2022-11-11T05:51:42.929849Z"
    },
    "papermill": {
     "duration": 0.272531,
     "end_time": "2022-11-11T05:51:42.933408",
     "exception": false,
     "start_time": "2022-11-11T05:51:42.660877",
     "status": "completed"
    },
    "tags": []
   },
   "outputs": [
    {
     "data": {
      "image/png": "[encoded data removed]",
      "text/plain": [
       "<Figure size 576x432 with 1 Axes>"
      ]
     },
     "metadata": {
      "needs_background": "light"
     },
     "output_type": "display_data"
    }
   ],
   "source": [
    "plot_roc_curve(Rm, X_test, y_test);\n",
    "plt.title('Roc Curve');"
   ]
  },
  {
   "cell_type": "markdown",
   "id": "db013dff",
   "metadata": {
    "papermill": {
     "duration": 0.027145,
     "end_time": "2022-11-11T05:51:42.986290",
     "exception": false,
     "start_time": "2022-11-11T05:51:42.959145",
     "status": "completed"
    },
    "tags": []
   },
   "source": [
    "<font color=\"Fuchsia\"><h2 style=\"text-align: justify; font-family: 'Comic Sans MS'; font-size:25px; color:Fuchsia\">Precision Recall Curve </h2>"
   ]
  },
  {
   "cell_type": "markdown",
   "id": "f00df5e5",
   "metadata": {
    "papermill": {
     "duration": 0.0266,
     "end_time": "2022-11-11T05:51:43.041089",
     "exception": false,
     "start_time": "2022-11-11T05:51:43.014489",
     "status": "completed"
    },
    "tags": []
   },
   "source": [
    "> There are numerous ways to evaluate the performance of a classifier. In this article, we introduce the Precision-Recall Curve and further examine the difference between two popular performance reporting methods: Precision-Recall (PR) Curve and Receiver Operating Characteristic (ROC) Curve.\n",
    "\n",
    "> A PR curve is simply a graph with Precision values on the y-axis and Recall values on the x-axis. In other words, the PR curve contains TP/(TP+FN) on the y-axis and TP/(TP+FP) on the x-axis.   \n",
    "    \n",
    "> - It is important to note that Precision is also called the Positive Predictive Value (PPV)\n",
    "> - Recall is also called Sensitivity, Hit Rate or True Positive Rate (TPR)\n",
    "    \n",
    "**Interpreting a PR Curve**\n",
    "\n",
    "\n",
    "> It is desired that the algorithm should have both high precision, and high recall. However, most machine learning algorithms often involve a trade-off between the two. A good PR curve has greater AUC (area under curve). In the figure above, the classifier corresponding to the Orange line has better performance than the classifier corresponding to the Other lines.It is important to note that the classifier that has a higher AUC on the ROC curve will always have a higher AUC on the PR curve as well.   "
   ]
  },
  {
   "cell_type": "markdown",
   "id": "bc388b61",
   "metadata": {
    "papermill": {
     "duration": 0.023012,
     "end_time": "2022-11-11T05:51:43.087602",
     "exception": false,
     "start_time": "2022-11-11T05:51:43.064590",
     "status": "completed"
    },
    "tags": []
   },
   "source": [
    "<center>\n",
    "    <img src=\"https://www.researchgate.net/publication/338915798/figure/fig4/AS:853020388622336@1580387317390/Precision-recall-curve-per-model.ppm\" alt=\"Precision Recall Curve\" width=\"80%\">\n",
    "</center"
   ]
  },
  {
   "cell_type": "code",
   "execution_count": 35,
   "id": "bacfa712",
   "metadata": {
    "execution": {
     "iopub.execute_input": "2022-11-11T05:51:43.136103Z",
     "iopub.status.busy": "2022-11-11T05:51:43.135720Z",
     "iopub.status.idle": "2022-11-11T05:51:43.378053Z",
     "shell.execute_reply": "2022-11-11T05:51:43.376911Z"
    },
    "papermill": {
     "duration": 0.269705,
     "end_time": "2022-11-11T05:51:43.380594",
     "exception": false,
     "start_time": "2022-11-11T05:51:43.110889",
     "status": "completed"
    },
    "tags": []
   },
   "outputs": [
    {
     "data": {
      "image/png": "[encoded data removed]",
      "text/plain": [
       "<Figure size 576x432 with 1 Axes>"
      ]
     },
     "metadata": {
      "needs_background": "light"
     },
     "output_type": "display_data"
    }
   ],
   "source": [
    "plot_precision_recall_curve(Rm, X_test, y_test)\n",
    "plt.title('Precision Recall Curve');"
   ]
  },
  {
   "cell_type": "markdown",
   "id": "640f3c67",
   "metadata": {
    "papermill": {
     "duration": 0.024152,
     "end_time": "2022-11-11T05:51:43.429119",
     "exception": false,
     "start_time": "2022-11-11T05:51:43.404967",
     "status": "completed"
    },
    "tags": []
   },
   "source": [
    "**References:**\n",
    "\n",
    "https://towardsdatascience.com/evaluation-metrics-for-classification-problems-in-machine-learning-d9f9c7313190"
   ]
  }
 ],
 "metadata": {
  "kernelspec": {
   "display_name": "Python 3",
   "language": "python",
   "name": "python3"
  },
  "language_info": {
   "codemirror_mode": {
    "name": "ipython",
    "version": 3
   },
   "file_extension": ".py",
   "mimetype": "text/x-python",
   "name": "python",
   "nbconvert_exporter": "python",
   "pygments_lexer": "ipython3",
   "version": "3.7.12"
  },
  "papermill": {
   "default_parameters": {},
   "duration": 21.320917,
   "end_time": "2022-11-11T05:51:44.275988",
   "environment_variables": {},
   "exception": null,
   "input_path": "__notebook__.ipynb",
   "output_path": "__notebook__.ipynb",
   "parameters": {},
   "start_time": "2022-11-11T05:51:22.955071",
   "version": "2.3.4"
  }
 },
 "nbformat": 4,
 "nbformat_minor": 5
}
