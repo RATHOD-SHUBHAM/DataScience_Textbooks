{
 "cells": [
  {
   "cell_type": "markdown",
   "metadata": {
    "papermill": {
     "duration": 0.050073,
     "end_time": "2022-04-19T12:23:48.940034",
     "exception": false,
     "start_time": "2022-04-19T12:23:48.889961",
     "status": "completed"
    },
    "tags": []
   },
   "source": [
    "# What is Categorical Data\n",
    "\n",
    "Categorical variables are those values which are selected from a group of categories or\n",
    "labels. Typically, any data attribute which is categorical in nature represents discrete values which belong to a specific finite set of categories or classes. These are also often known as classes or labels in the context of attributes or variables which are to be predicted by a model (popularly known as response variables). These discrete values can be text or numeric in nature (or even unstructured data like images!).\n",
    "\n",
    "#### There are two major classes of categorical data, nominal and ordinal.\n",
    "\n",
    "In any nominal categorical data attribute, there is no concept of ordering amongst the values of that attribute. Consider a simple example of weather categories like - sunny, cloudy, rainy etc. These are without any concept or notion of order (windy doesn’t always occur before sunny nor is it smaller or bigger than sunny).\n",
    "\n",
    " For example, the variable may be “color” and may take on the values “red,” “green,” and “green.” Or the variable Gender with the values of male or female is categorical, and so is the variable marital status with the values of never married, married, divorced, or widowed.\n",
    "\n",
    "Another example, in survey about preferred brand of car they owned, the result would be categorical (e.g. Tesla, Toyota, Ford, None, etc.). Responses fall into a fixed set of categories.\n",
    "\n",
    "**Ordinal categorical** attributes have some sense or notion of order amongst its values. For instance say shirt sizes. It is quite evident that order or in this case ‘size’ matters when thinking about shirts (S is smaller than M which is smaller than L and so on).\n",
    "\n",
    "---\n",
    "\n",
    "I will get error if you try to plug these variables into most machine learning models without \"encoding\" them first.\n",
    "\n",
    "Almost all Machine learning and deep learning neural networks algorithms require that input and output variables are numbers, requiring that categorical data must be encoded to numbers before we can use it to feed to models and evaluate a model.\n",
    "\n",
    "There are quite a few techniques to encode categorical variables for modeling, although the three most common are as follows:\n",
    "\n",
    "- Integer Encoding: Where each unique label is mapped to an integer.\n",
    "\n",
    "- One Hot Encoding: Where each label is mapped to a binary vector.\n",
    "\n",
    "- Learned Embedding: Where a distributed representation of the categories is learned.\n",
    "\n",
    "In some categorical variables, the labels have an intrinsic order, for example, in the variable Student's grade, the values of A, B, C, or Fail are ordered, A being the highest grade and Fail the lowest. These are called ordinal categorical variables. Variables in which the categories do not have an intrinsic order are called nominal categorical variables, such as the variable City, with the values of London, Manchester, Bristol, and so on.\n",
    "\n",
    "The values of categorical variables are often encoded as strings. Scikit-learn, does not support strings as values, therefore, we need to transform those strings into numbers. The act of replacing strings with numbers is called categorical encoding.\n",
    "\n",
    "# Various encoding techniques categorical variable \n",
    "\n",
    "\n",
    "### One Hot Coding\n",
    "\n",
    "One Hot Coding is the most widely used coding scheme. It compares each level of the categorical variable to a fixed reference level. One hot encoding transforms a single variable with n observations and d distinct values, to d binary variables\n",
    "with n observations each. Each observation indicating the presence (1) or absence (0) of the dichotomous binary variable.\n",
    "\n",
    "\n",
    "### Ordinal Coding\n",
    "\n",
    "In ordinal encoding, an integer is assigned to each category, provided the number of existing categories are known. It does not add any new columns to the data, but implies an order to the variable that may not actually exist.\n",
    "\n",
    "\n",
    "### Sum Coding\n",
    "\n",
    "Sum coding compares the mean of the dependent variable for a given level to the overall mean of the dependent variable over all the levels. That is, it uses contrasts between each of the first k − 1 levels and level k in this example, level 1 is\n",
    "compared to all the others, level 2 to all the others, and level 3 to all the others.\n",
    "\n",
    "### Helmert Coding\n",
    "\n",
    "Helmert Coding compares each level of a categorical variable to the mean of the subsequent levels.\n",
    "\n",
    "\n",
    "### Polynomial Coding\n",
    "\n",
    "Polynomial coding is a form of trend analysis that looks for linear, quadratic and cubic trends in the categorical variable. This type of coding system should be used only with an ordinal variable in which the levels are equally spaced.\n",
    "\n",
    "\n",
    "### Backward Difference Coding\n",
    "\n",
    "In this coding system, the mean of the dependent variable for one level of the categorical variable is compared to the mean of the dependent variable for the prior adjacent level.\n",
    "\n",
    "\n",
    "### Binary Coding\n",
    "\n",
    "In binary coding, first the categories are encoded as ordinal, then those integers are converted into binary code, then the digits from that binary string are split into separate columns.\n",
    "\n",
    "\n",
    "---\n",
    "\n",
    "# One-hot Encoding\n",
    "\n",
    "One-hot encoding is where you represent each possible value for a category as a separate feature.\n",
    "\n",
    "In one-hot encoding, we represent a categorical variable as a group of binary variables, where each binary variable represents one category. The binary variable indicates whether the category is present in an observation (1) or not (0).\n",
    "\n",
    "One hot encoding is the most widespread approach, and it works very well unless our categorical variable takes on a large number of values (e.g. more than 20 different values). \n",
    "\n",
    "#### The following table shows the one-hot encoded representation of the Gender variable with the categories of Male and Female:\n",
    "\n",
    "\n",
    "![img](https://i.imgur.com/5td19b8.jpg)\n",
    "\n",
    "Another example with a variable named 'color'. The values in the variable are Red, Yellow and Green. And then we create a separate column for each possible value. Wherever the original value was Red, we put a 1 in the Red column.\n",
    "\n",
    "![img](https://i.imgur.com/kdltIHI.png)\n",
    "\n",
    "From the above Gender variable, we can derive the binary variable of Female, which shows the value of 1 for females, or the binary variable of Male, which takes the value of 1 for the males in the dataset.\n",
    "For the categorical variable of Color with the values of red, green, and green, we can create three variables called red, green, and green. These variables will take the value of 1 if the\n",
    "observation is red, green, or green, respectively, or 0 otherwise.\n",
    "\n",
    "#### A categorical variable with k unique categories can be encoded in k-1 binary variables. \n",
    "\n",
    "For Gender, k is 2 as it contains two labels (male and female), therefore, we need to create only one binary variable (k - 1 = 1) to capture all of the information. For the color variable, which has three categories (k=3; red, green, and green), we need to create two (k - 1 = 2) binary variables to capture all the information, so that the following occurs:\n",
    "\n",
    "- If the observation is red, it will be captured by the variable red (red = 1, green = 0).\n",
    "\n",
    "- f the observation is green, it will be captured by the variable green (red = 0, green = 1).\n",
    "\n",
    "- If the observation is green, it will be captured by the combination of red and green (red = 0, green = 0).\n",
    "\n",
    "There are a few occasions in which we may prefer to encode the categorical variables with k binary variables:\n",
    "\n",
    "- When training decision trees, as they do not evaluate the entire feature space at the same time\n",
    "- When selecting features recursively\n",
    "- When determining the importance of each category within a variable"
   ]
  },
  {
   "cell_type": "code",
   "execution_count": 1,
   "metadata": {
    "execution": {
     "iopub.execute_input": "2022-04-19T12:23:49.042580Z",
     "iopub.status.busy": "2022-04-19T12:23:49.042019Z",
     "iopub.status.idle": "2022-04-19T12:23:57.427195Z",
     "shell.execute_reply": "2022-04-19T12:23:57.426722Z",
     "shell.execute_reply.started": "2021-06-20T23:05:59.849987Z"
    },
    "papermill": {
     "duration": 8.437289,
     "end_time": "2022-04-19T12:23:57.427298",
     "exception": false,
     "start_time": "2022-04-19T12:23:48.990009",
     "status": "completed"
    },
    "tags": []
   },
   "outputs": [
    {
     "name": "stdout",
     "output_type": "stream",
     "text": [
      "Collecting feature-engine\r\n",
      "  Downloading feature_engine-1.2.0-py2.py3-none-any.whl (205 kB)\r\n",
      "\u001b[K     |████████████████████████████████| 205 kB 4.8 MB/s \r\n",
      "\u001b[?25hRequirement already satisfied, skipping upgrade: statsmodels>=0.11.1 in /opt/conda/lib/python3.7/site-packages (from feature-engine) (0.11.1)\r\n",
      "Requirement already satisfied, skipping upgrade: pandas>=1.0.3 in /opt/conda/lib/python3.7/site-packages (from feature-engine) (1.1.3)\r\n",
      "Requirement already satisfied, skipping upgrade: numpy>=1.18.2 in /opt/conda/lib/python3.7/site-packages (from feature-engine) (1.18.5)\r\n",
      "Requirement already satisfied, skipping upgrade: scikit-learn>=0.22.2 in /opt/conda/lib/python3.7/site-packages (from feature-engine) (0.23.2)\r\n",
      "Requirement already satisfied, skipping upgrade: scipy>=1.4.1 in /opt/conda/lib/python3.7/site-packages (from feature-engine) (1.4.1)\r\n",
      "Requirement already satisfied, skipping upgrade: patsy>=0.5 in /opt/conda/lib/python3.7/site-packages (from statsmodels>=0.11.1->feature-engine) (0.5.1)\r\n",
      "Requirement already satisfied, skipping upgrade: python-dateutil>=2.7.3 in /opt/conda/lib/python3.7/site-packages (from pandas>=1.0.3->feature-engine) (2.8.1)\r\n",
      "Requirement already satisfied, skipping upgrade: pytz>=2017.2 in /opt/conda/lib/python3.7/site-packages (from pandas>=1.0.3->feature-engine) (2019.3)\r\n",
      "Requirement already satisfied, skipping upgrade: joblib>=0.11 in /opt/conda/lib/python3.7/site-packages (from scikit-learn>=0.22.2->feature-engine) (0.14.1)\r\n",
      "Requirement already satisfied, skipping upgrade: threadpoolctl>=2.0.0 in /opt/conda/lib/python3.7/site-packages (from scikit-learn>=0.22.2->feature-engine) (2.1.0)\r\n",
      "Requirement already satisfied, skipping upgrade: six in /opt/conda/lib/python3.7/site-packages (from patsy>=0.5->statsmodels>=0.11.1->feature-engine) (1.14.0)\r\n",
      "Installing collected packages: feature-engine\r\n",
      "Successfully installed feature-engine-1.2.0\r\n",
      "\u001b[33mWARNING: You are using pip version 20.2.4; however, version 22.0.4 is available.\r\n",
      "You should consider upgrading via the '/opt/conda/bin/python3.7 -m pip install --upgrade pip' command.\u001b[0m\r\n"
     ]
    }
   ],
   "source": [
    "!pip install -U feature-engine\n",
    "# The above line for installing feature_engine in Kaggle\n",
    "\n",
    "'''\n",
    "Note on installing and using feature_engine package\n",
    "\n",
    "Feature-engine is in active development regularly publishing new or updated transformers. To upgrade Feature-engine to the latest version, use pip like this:\n",
    "\n",
    "$ pip install -U feature-engine\n",
    "\n",
    "In new version (1.0), you need to import categorical encoders from feature_engine.encoding as below\n",
    "\n",
    "from feature_engine.encoding import OneHotEncoder\n",
    "\n",
    "The format below is not used anymore :\n",
    "\n",
    "from feature_engine import categorical_encoders as ce\n",
    "\n",
    "https://feature-engine.readthedocs.io/en/1.0.x/index.html\n",
    "\n",
    "'''\n",
    "\n",
    "import numpy as np\n",
    "import pandas as pd\n",
    "import random\n",
    "import matplotlib.pyplot as plt\n",
    "from sklearn.model_selection import train_test_split\n",
    "from sklearn.preprocessing import OneHotEncoder\n",
    "from sklearn.preprocessing import LabelEncoder\n",
    "from sklearn.preprocessing import OrdinalEncoder\n",
    "from feature_engine.encoding import OrdinalEncoder as oe\n",
    "from feature_engine.encoding import OneHotEncoder as ohe\n",
    "\n",
    "from IPython.display import display # Allows the use of display() for DataFrames\n",
    "\n",
    "import warnings\n",
    "warnings.filterwarnings('ignore')"
   ]
  },
  {
   "cell_type": "code",
   "execution_count": 2,
   "metadata": {
    "collapsed": false,
    "execution": {
     "iopub.execute_input": "2022-04-19T12:23:57.539804Z",
     "iopub.status.busy": "2022-04-19T12:23:57.539280Z",
     "iopub.status.idle": "2022-04-19T12:23:57.552798Z",
     "shell.execute_reply": "2022-04-19T12:23:57.552262Z",
     "shell.execute_reply.started": "2021-06-20T23:06:10.293287Z"
    },
    "jupyter": {
     "outputs_hidden": false
    },
    "papermill": {
     "duration": 0.072796,
     "end_time": "2022-04-19T12:23:57.552890",
     "exception": false,
     "start_time": "2022-04-19T12:23:57.480094",
     "status": "completed"
    },
    "pycharm": {
     "name": "#%%\n"
    },
    "tags": []
   },
   "outputs": [
    {
     "name": "stdout",
     "output_type": "stream",
     "text": [
      "Breast Cancer df number of rows and columns are  (285, 10)\n"
     ]
    }
   ],
   "source": [
    "breast_cancer_df = pd.read_csv('../input/breast-cancer-data/breast-cancer.data')\n",
    "print('Breast Cancer df number of rows and columns are ', breast_cancer_df.shape)"
   ]
  },
  {
   "cell_type": "code",
   "execution_count": 3,
   "metadata": {
    "collapsed": false,
    "execution": {
     "iopub.execute_input": "2022-04-19T12:23:57.663682Z",
     "iopub.status.busy": "2022-04-19T12:23:57.663200Z",
     "iopub.status.idle": "2022-04-19T12:23:57.666117Z",
     "shell.execute_reply": "2022-04-19T12:23:57.665672Z",
     "shell.execute_reply.started": "2021-06-20T23:06:10.327156Z"
    },
    "jupyter": {
     "outputs_hidden": false
    },
    "papermill": {
     "duration": 0.062313,
     "end_time": "2022-04-19T12:23:57.666194",
     "exception": false,
     "start_time": "2022-04-19T12:23:57.603881",
     "status": "completed"
    },
    "pycharm": {
     "name": "#%%\n"
    },
    "tags": []
   },
   "outputs": [],
   "source": [
    "# Replace the question marks in the dataset with NumPy NaN values:\n",
    "breast_cancer_df = breast_cancer_df.replace('?', np.nan)"
   ]
  },
  {
   "cell_type": "code",
   "execution_count": 4,
   "metadata": {
    "collapsed": false,
    "execution": {
     "iopub.execute_input": "2022-04-19T12:23:57.772954Z",
     "iopub.status.busy": "2022-04-19T12:23:57.772435Z",
     "iopub.status.idle": "2022-04-19T12:23:57.776569Z",
     "shell.execute_reply": "2022-04-19T12:23:57.776085Z",
     "shell.execute_reply.started": "2021-06-20T23:06:10.340556Z"
    },
    "jupyter": {
     "outputs_hidden": false
    },
    "papermill": {
     "duration": 0.060369,
     "end_time": "2022-04-19T12:23:57.776682",
     "exception": false,
     "start_time": "2022-04-19T12:23:57.716313",
     "status": "completed"
    },
    "pycharm": {
     "name": "#%%\n"
    },
    "tags": []
   },
   "outputs": [
    {
     "data": {
      "text/plain": [
       "['A1', 'A2', 'A3', 'A4', 'A5', 'A6', 'A7', 'A8', 'A9', 'A10']"
      ]
     },
     "execution_count": 4,
     "metadata": {},
     "output_type": "execute_result"
    }
   ],
   "source": [
    "# Create a list with the variable names:\n",
    "# There are 10 columns as we know the from the shape of the dataframe\n",
    "# So create list of 10 column-headings starting with 'A1' and ending with 'A-10'\n",
    "# Meaning I have to traverser a range of 1 to 11\n",
    "column_labels = ['A' + str(s) for s in range(1, 11)]\n",
    "column_labels"
   ]
  },
  {
   "cell_type": "code",
   "execution_count": 5,
   "metadata": {
    "collapsed": false,
    "execution": {
     "iopub.execute_input": "2022-04-19T12:23:57.885882Z",
     "iopub.status.busy": "2022-04-19T12:23:57.885389Z",
     "iopub.status.idle": "2022-04-19T12:23:57.889279Z",
     "shell.execute_reply": "2022-04-19T12:23:57.888804Z",
     "shell.execute_reply.started": "2021-06-20T23:06:10.360081Z"
    },
    "jupyter": {
     "outputs_hidden": false
    },
    "papermill": {
     "duration": 0.060132,
     "end_time": "2022-04-19T12:23:57.889395",
     "exception": false,
     "start_time": "2022-04-19T12:23:57.829263",
     "status": "completed"
    },
    "pycharm": {
     "name": "#%%\n"
    },
    "tags": []
   },
   "outputs": [],
   "source": [
    "# Now assign the above list of as column-label\n",
    "breast_cancer_df.columns = column_labels"
   ]
  },
  {
   "cell_type": "code",
   "execution_count": 6,
   "metadata": {
    "collapsed": false,
    "execution": {
     "iopub.execute_input": "2022-04-19T12:23:58.004605Z",
     "iopub.status.busy": "2022-04-19T12:23:58.003949Z",
     "iopub.status.idle": "2022-04-19T12:23:58.015234Z",
     "shell.execute_reply": "2022-04-19T12:23:58.014626Z",
     "shell.execute_reply.started": "2021-06-20T23:06:10.373888Z"
    },
    "jupyter": {
     "outputs_hidden": false
    },
    "papermill": {
     "duration": 0.074126,
     "end_time": "2022-04-19T12:23:58.015366",
     "exception": false,
     "start_time": "2022-04-19T12:23:57.941240",
     "status": "completed"
    },
    "pycharm": {
     "name": "#%%\n"
    },
    "tags": []
   },
   "outputs": [
    {
     "name": "stdout",
     "output_type": "stream",
     "text": [
      "breast_cancer_category_columns  ['A1', 'A2', 'A3', 'A4', 'A5', 'A6', 'A8', 'A9', 'A10']\n",
      "breast_cancer_numeric_columns  ['A7']\n"
     ]
    }
   ],
   "source": [
    "# Make lists with categorical and numerical variables:\n",
    "\n",
    "category_columns = [c for c in breast_cancer_df.columns if breast_cancer_df[c].dtypes == 'O' ]\n",
    "numeric_columns = [c for c in breast_cancer_df.columns if breast_cancer_df[c].dtypes != 'O' ]\n",
    "\n",
    "print('breast_cancer_category_columns ', category_columns)\n",
    "print('breast_cancer_numeric_columns ', numeric_columns)"
   ]
  },
  {
   "cell_type": "markdown",
   "metadata": {
    "papermill": {
     "duration": 0.078281,
     "end_time": "2022-04-19T12:23:58.170826",
     "exception": false,
     "start_time": "2022-04-19T12:23:58.092545",
     "status": "completed"
    },
    "pycharm": {
     "name": "#%% md\n"
    },
    "tags": []
   },
   "source": [
    "From the above we see that column 'A7' is the Numeric Column and the, rest all are categorical column.\n",
    "Now, re-cast numerical variables to float types:"
   ]
  },
  {
   "cell_type": "code",
   "execution_count": 7,
   "metadata": {
    "collapsed": false,
    "execution": {
     "iopub.execute_input": "2022-04-19T12:23:58.329801Z",
     "iopub.status.busy": "2022-04-19T12:23:58.328955Z",
     "iopub.status.idle": "2022-04-19T12:23:58.333377Z",
     "shell.execute_reply": "2022-04-19T12:23:58.333900Z",
     "shell.execute_reply.started": "2021-06-20T23:06:10.39344Z"
    },
    "jupyter": {
     "outputs_hidden": false
    },
    "papermill": {
     "duration": 0.08522,
     "end_time": "2022-04-19T12:23:58.334037",
     "exception": false,
     "start_time": "2022-04-19T12:23:58.248817",
     "status": "completed"
    },
    "pycharm": {
     "name": "#%%\n"
    },
    "tags": []
   },
   "outputs": [],
   "source": [
    "breast_cancer_df['A7'] = breast_cancer_df['A7'].astype(float)"
   ]
  },
  {
   "cell_type": "markdown",
   "metadata": {
    "papermill": {
     "duration": 0.077833,
     "end_time": "2022-04-19T12:23:58.489644",
     "exception": false,
     "start_time": "2022-04-19T12:23:58.411811",
     "status": "completed"
    },
    "pycharm": {
     "name": "#%% md\n"
    },
    "tags": []
   },
   "source": [
    "---\n",
    "\n",
    "## Binary encoding - Re-code the target variable as binary:\n",
    "Binary encodings are a special case of category features. Here's a way to do this, do it to the column label of 'A10'. That is making each 'yes' as 1 and each 'no' as 0 (zero)"
   ]
  },
  {
   "cell_type": "code",
   "execution_count": 8,
   "metadata": {
    "collapsed": false,
    "execution": {
     "iopub.execute_input": "2022-04-19T12:23:58.649655Z",
     "iopub.status.busy": "2022-04-19T12:23:58.648764Z",
     "iopub.status.idle": "2022-04-19T12:23:58.670431Z",
     "shell.execute_reply": "2022-04-19T12:23:58.669520Z",
     "shell.execute_reply.started": "2021-06-20T23:06:10.408823Z"
    },
    "jupyter": {
     "outputs_hidden": false
    },
    "papermill": {
     "duration": 0.103044,
     "end_time": "2022-04-19T12:23:58.670558",
     "exception": false,
     "start_time": "2022-04-19T12:23:58.567514",
     "status": "completed"
    },
    "pycharm": {
     "name": "#%%\n"
    },
    "tags": []
   },
   "outputs": [
    {
     "data": {
      "text/html": [
       "<div>\n",
       "<style scoped>\n",
       "    .dataframe tbody tr th:only-of-type {\n",
       "        vertical-align: middle;\n",
       "    }\n",
       "\n",
       "    .dataframe tbody tr th {\n",
       "        vertical-align: top;\n",
       "    }\n",
       "\n",
       "    .dataframe thead th {\n",
       "        text-align: right;\n",
       "    }\n",
       "</style>\n",
       "<table border=\"1\" class=\"dataframe\">\n",
       "  <thead>\n",
       "    <tr style=\"text-align: right;\">\n",
       "      <th></th>\n",
       "      <th>A1</th>\n",
       "      <th>A2</th>\n",
       "      <th>A3</th>\n",
       "      <th>A4</th>\n",
       "      <th>A5</th>\n",
       "      <th>A6</th>\n",
       "      <th>A7</th>\n",
       "      <th>A8</th>\n",
       "      <th>A9</th>\n",
       "      <th>A10</th>\n",
       "    </tr>\n",
       "  </thead>\n",
       "  <tbody>\n",
       "    <tr>\n",
       "      <th>0</th>\n",
       "      <td>no-recurrence-events</td>\n",
       "      <td>40-49</td>\n",
       "      <td>premeno</td>\n",
       "      <td>20-24</td>\n",
       "      <td>0-2</td>\n",
       "      <td>no</td>\n",
       "      <td>2.0</td>\n",
       "      <td>right</td>\n",
       "      <td>right_up</td>\n",
       "      <td>0</td>\n",
       "    </tr>\n",
       "    <tr>\n",
       "      <th>1</th>\n",
       "      <td>no-recurrence-events</td>\n",
       "      <td>40-49</td>\n",
       "      <td>premeno</td>\n",
       "      <td>20-24</td>\n",
       "      <td>0-2</td>\n",
       "      <td>no</td>\n",
       "      <td>2.0</td>\n",
       "      <td>left</td>\n",
       "      <td>left_low</td>\n",
       "      <td>0</td>\n",
       "    </tr>\n",
       "    <tr>\n",
       "      <th>2</th>\n",
       "      <td>no-recurrence-events</td>\n",
       "      <td>60-69</td>\n",
       "      <td>ge40</td>\n",
       "      <td>15-19</td>\n",
       "      <td>0-2</td>\n",
       "      <td>no</td>\n",
       "      <td>2.0</td>\n",
       "      <td>right</td>\n",
       "      <td>left_up</td>\n",
       "      <td>0</td>\n",
       "    </tr>\n",
       "    <tr>\n",
       "      <th>3</th>\n",
       "      <td>no-recurrence-events</td>\n",
       "      <td>40-49</td>\n",
       "      <td>premeno</td>\n",
       "      <td>0-4</td>\n",
       "      <td>0-2</td>\n",
       "      <td>no</td>\n",
       "      <td>2.0</td>\n",
       "      <td>right</td>\n",
       "      <td>right_low</td>\n",
       "      <td>0</td>\n",
       "    </tr>\n",
       "    <tr>\n",
       "      <th>4</th>\n",
       "      <td>no-recurrence-events</td>\n",
       "      <td>60-69</td>\n",
       "      <td>ge40</td>\n",
       "      <td>15-19</td>\n",
       "      <td>0-2</td>\n",
       "      <td>no</td>\n",
       "      <td>2.0</td>\n",
       "      <td>left</td>\n",
       "      <td>left_low</td>\n",
       "      <td>0</td>\n",
       "    </tr>\n",
       "  </tbody>\n",
       "</table>\n",
       "</div>"
      ],
      "text/plain": [
       "                     A1     A2       A3     A4   A5  A6   A7     A8  \\\n",
       "0  no-recurrence-events  40-49  premeno  20-24  0-2  no  2.0  right   \n",
       "1  no-recurrence-events  40-49  premeno  20-24  0-2  no  2.0   left   \n",
       "2  no-recurrence-events  60-69     ge40  15-19  0-2  no  2.0  right   \n",
       "3  no-recurrence-events  40-49  premeno    0-4  0-2  no  2.0  right   \n",
       "4  no-recurrence-events  60-69     ge40  15-19  0-2  no  2.0   left   \n",
       "\n",
       "          A9  A10  \n",
       "0   right_up    0  \n",
       "1   left_low    0  \n",
       "2    left_up    0  \n",
       "3  right_low    0  \n",
       "4   left_low    0  "
      ]
     },
     "execution_count": 8,
     "metadata": {},
     "output_type": "execute_result"
    }
   ],
   "source": [
    "breast_cancer_df['A10'] = breast_cancer_df['A10'].map({'yes':1, 'no':0})\n",
    "breast_cancer_df.head()"
   ]
  },
  {
   "cell_type": "code",
   "execution_count": 9,
   "metadata": {
    "collapsed": false,
    "execution": {
     "iopub.execute_input": "2022-04-19T12:23:58.836060Z",
     "iopub.status.busy": "2022-04-19T12:23:58.835463Z",
     "iopub.status.idle": "2022-04-19T12:23:58.848583Z",
     "shell.execute_reply": "2022-04-19T12:23:58.849120Z",
     "shell.execute_reply.started": "2021-06-20T23:06:10.440254Z"
    },
    "jupyter": {
     "outputs_hidden": false
    },
    "papermill": {
     "duration": 0.09569,
     "end_time": "2022-04-19T12:23:58.849260",
     "exception": false,
     "start_time": "2022-04-19T12:23:58.753570",
     "status": "completed"
    },
    "pycharm": {
     "name": "#%%\n"
    },
    "tags": []
   },
   "outputs": [],
   "source": [
    "# Fill in the missing data\n",
    "breast_cancer_df[numeric_columns] =  breast_cancer_df[numeric_columns].fillna(0)\n",
    "breast_cancer_df[category_columns] = breast_cancer_df[category_columns].fillna(0)"
   ]
  },
  {
   "cell_type": "code",
   "execution_count": 10,
   "metadata": {
    "collapsed": false,
    "execution": {
     "iopub.execute_input": "2022-04-19T12:23:59.009294Z",
     "iopub.status.busy": "2022-04-19T12:23:59.008709Z",
     "iopub.status.idle": "2022-04-19T12:23:59.016008Z",
     "shell.execute_reply": "2022-04-19T12:23:59.015393Z",
     "shell.execute_reply.started": "2021-06-20T23:06:10.461309Z"
    },
    "jupyter": {
     "outputs_hidden": false
    },
    "papermill": {
     "duration": 0.0884,
     "end_time": "2022-04-19T12:23:59.016102",
     "exception": false,
     "start_time": "2022-04-19T12:23:58.927702",
     "status": "completed"
    },
    "pycharm": {
     "name": "#%%\n"
    },
    "tags": []
   },
   "outputs": [],
   "source": [
    "# separate the data into train and test sets:\n",
    "X_train, X_test, y_train, y_test = train_test_split(breast_cancer_df.drop(labels=['A10'], axis=1), breast_cancer_df['A10'], test_size=0.3, random_state=0)"
   ]
  },
  {
   "cell_type": "code",
   "execution_count": 11,
   "metadata": {
    "collapsed": false,
    "execution": {
     "iopub.execute_input": "2022-04-19T12:23:59.183755Z",
     "iopub.status.busy": "2022-04-19T12:23:59.182780Z",
     "iopub.status.idle": "2022-04-19T12:23:59.185967Z",
     "shell.execute_reply": "2022-04-19T12:23:59.186619Z",
     "shell.execute_reply.started": "2021-06-20T23:06:10.479072Z"
    },
    "jupyter": {
     "outputs_hidden": false
    },
    "papermill": {
     "duration": 0.090163,
     "end_time": "2022-04-19T12:23:59.186766",
     "exception": false,
     "start_time": "2022-04-19T12:23:59.096603",
     "status": "completed"
    },
    "pycharm": {
     "name": "#%%\n"
    },
    "tags": []
   },
   "outputs": [
    {
     "data": {
      "text/plain": [
       "array(['ge40', 'premeno', 'lt40'], dtype=object)"
      ]
     },
     "execution_count": 11,
     "metadata": {},
     "output_type": "execute_result"
    }
   ],
   "source": [
    "#  Let's inspect the unique categories of the A3 variable\n",
    "X_train['A3'].unique()"
   ]
  },
  {
   "cell_type": "markdown",
   "metadata": {
    "papermill": {
     "duration": 0.079213,
     "end_time": "2022-04-19T12:23:59.347240",
     "exception": false,
     "start_time": "2022-04-19T12:23:59.268027",
     "status": "completed"
    },
    "pycharm": {
     "name": "#%% md\n"
    },
    "tags": []
   },
   "source": [
    "So I have the unique values as\n",
    "\n",
    "array(['ge40', 'premeno', 'lt40'], dtype=object)\n",
    "\n",
    "---\n",
    "\n",
    "# one-hot encoding using pandas get_dummies()\n",
    "\n",
    "Let's encode A3 into k-1 binary variables using pandas and then inspect the first five rows of the resulting dataframe:"
   ]
  },
  {
   "cell_type": "code",
   "execution_count": 12,
   "metadata": {
    "collapsed": false,
    "execution": {
     "iopub.execute_input": "2022-04-19T12:23:59.512254Z",
     "iopub.status.busy": "2022-04-19T12:23:59.511430Z",
     "iopub.status.idle": "2022-04-19T12:23:59.521248Z",
     "shell.execute_reply": "2022-04-19T12:23:59.521762Z",
     "shell.execute_reply.started": "2021-06-20T23:06:10.491336Z"
    },
    "jupyter": {
     "outputs_hidden": false
    },
    "papermill": {
     "duration": 0.094142,
     "end_time": "2022-04-19T12:23:59.521906",
     "exception": false,
     "start_time": "2022-04-19T12:23:59.427764",
     "status": "completed"
    },
    "pycharm": {
     "name": "#%%\n"
    },
    "tags": []
   },
   "outputs": [
    {
     "data": {
      "text/html": [
       "<div>\n",
       "<style scoped>\n",
       "    .dataframe tbody tr th:only-of-type {\n",
       "        vertical-align: middle;\n",
       "    }\n",
       "\n",
       "    .dataframe tbody tr th {\n",
       "        vertical-align: top;\n",
       "    }\n",
       "\n",
       "    .dataframe thead th {\n",
       "        text-align: right;\n",
       "    }\n",
       "</style>\n",
       "<table border=\"1\" class=\"dataframe\">\n",
       "  <thead>\n",
       "    <tr style=\"text-align: right;\">\n",
       "      <th></th>\n",
       "      <th>lt40</th>\n",
       "      <th>premeno</th>\n",
       "    </tr>\n",
       "  </thead>\n",
       "  <tbody>\n",
       "    <tr>\n",
       "      <th>18</th>\n",
       "      <td>0</td>\n",
       "      <td>0</td>\n",
       "    </tr>\n",
       "    <tr>\n",
       "      <th>156</th>\n",
       "      <td>0</td>\n",
       "      <td>1</td>\n",
       "    </tr>\n",
       "    <tr>\n",
       "      <th>235</th>\n",
       "      <td>0</td>\n",
       "      <td>1</td>\n",
       "    </tr>\n",
       "    <tr>\n",
       "      <th>233</th>\n",
       "      <td>0</td>\n",
       "      <td>0</td>\n",
       "    </tr>\n",
       "    <tr>\n",
       "      <th>234</th>\n",
       "      <td>0</td>\n",
       "      <td>1</td>\n",
       "    </tr>\n",
       "  </tbody>\n",
       "</table>\n",
       "</div>"
      ],
      "text/plain": [
       "     lt40  premeno\n",
       "18      0        0\n",
       "156     0        1\n",
       "235     0        1\n",
       "233     0        0\n",
       "234     0        1"
      ]
     },
     "execution_count": 12,
     "metadata": {},
     "output_type": "execute_result"
    }
   ],
   "source": [
    "tmp_1 = pd.get_dummies(X_train['A3'], drop_first=True)\n",
    "tmp_1.head()"
   ]
  },
  {
   "cell_type": "code",
   "execution_count": 13,
   "metadata": {
    "collapsed": false,
    "execution": {
     "iopub.execute_input": "2022-04-19T12:23:59.687304Z",
     "iopub.status.busy": "2022-04-19T12:23:59.686390Z",
     "iopub.status.idle": "2022-04-19T12:23:59.696214Z",
     "shell.execute_reply": "2022-04-19T12:23:59.695567Z",
     "shell.execute_reply.started": "2021-06-20T23:06:10.511895Z"
    },
    "jupyter": {
     "outputs_hidden": false
    },
    "papermill": {
     "duration": 0.093821,
     "end_time": "2022-04-19T12:23:59.696411",
     "exception": false,
     "start_time": "2022-04-19T12:23:59.602590",
     "status": "completed"
    },
    "pycharm": {
     "name": "#%%\n"
    },
    "tags": []
   },
   "outputs": [
    {
     "data": {
      "text/html": [
       "<div>\n",
       "<style scoped>\n",
       "    .dataframe tbody tr th:only-of-type {\n",
       "        vertical-align: middle;\n",
       "    }\n",
       "\n",
       "    .dataframe tbody tr th {\n",
       "        vertical-align: top;\n",
       "    }\n",
       "\n",
       "    .dataframe thead th {\n",
       "        text-align: right;\n",
       "    }\n",
       "</style>\n",
       "<table border=\"1\" class=\"dataframe\">\n",
       "  <thead>\n",
       "    <tr style=\"text-align: right;\">\n",
       "      <th></th>\n",
       "      <th>ge40</th>\n",
       "      <th>lt40</th>\n",
       "      <th>premeno</th>\n",
       "    </tr>\n",
       "  </thead>\n",
       "  <tbody>\n",
       "    <tr>\n",
       "      <th>18</th>\n",
       "      <td>1</td>\n",
       "      <td>0</td>\n",
       "      <td>0</td>\n",
       "    </tr>\n",
       "    <tr>\n",
       "      <th>156</th>\n",
       "      <td>0</td>\n",
       "      <td>0</td>\n",
       "      <td>1</td>\n",
       "    </tr>\n",
       "    <tr>\n",
       "      <th>235</th>\n",
       "      <td>0</td>\n",
       "      <td>0</td>\n",
       "      <td>1</td>\n",
       "    </tr>\n",
       "    <tr>\n",
       "      <th>233</th>\n",
       "      <td>1</td>\n",
       "      <td>0</td>\n",
       "      <td>0</td>\n",
       "    </tr>\n",
       "    <tr>\n",
       "      <th>234</th>\n",
       "      <td>0</td>\n",
       "      <td>0</td>\n",
       "      <td>1</td>\n",
       "    </tr>\n",
       "  </tbody>\n",
       "</table>\n",
       "</div>"
      ],
      "text/plain": [
       "     ge40  lt40  premeno\n",
       "18      1     0        0\n",
       "156     0     0        1\n",
       "235     0     0        1\n",
       "233     1     0        0\n",
       "234     0     0        1"
      ]
     },
     "execution_count": 13,
     "metadata": {},
     "output_type": "execute_result"
    }
   ],
   "source": [
    "tmp_2 = pd.get_dummies(X_train['A3'], drop_first=False)\n",
    "tmp_2.head()"
   ]
  },
  {
   "cell_type": "markdown",
   "metadata": {
    "papermill": {
     "duration": 0.08112,
     "end_time": "2022-04-19T12:23:59.858978",
     "exception": false,
     "start_time": "2022-04-19T12:23:59.777858",
     "status": "completed"
    },
    "pycharm": {
     "name": "#%% md\n"
    },
    "tags": []
   },
   "source": [
    "`get_dummies` pandas function converts categorical variables into indicator variables and  ignores missing data, unless we specifically indicate otherwise, in which case, it will return missing data as an additional category\n",
    "\n",
    " To encode the variable into k binaries, use instead `drop_first=False`.\n",
    "\n",
    "From the output above we can see each label is now a binary variable and there's two (because we used k - 1 ) new columns for the label-names.\n",
    "\n",
    "To understand how the get_dummies() implementation take a look at the below code"
   ]
  },
  {
   "cell_type": "code",
   "execution_count": 14,
   "metadata": {
    "collapsed": false,
    "execution": {
     "iopub.execute_input": "2022-04-19T12:24:00.026137Z",
     "iopub.status.busy": "2022-04-19T12:24:00.025299Z",
     "iopub.status.idle": "2022-04-19T12:24:00.036651Z",
     "shell.execute_reply": "2022-04-19T12:24:00.037135Z",
     "shell.execute_reply.started": "2021-06-20T23:06:10.533128Z"
    },
    "jupyter": {
     "outputs_hidden": false
    },
    "papermill": {
     "duration": 0.096821,
     "end_time": "2022-04-19T12:24:00.037261",
     "exception": false,
     "start_time": "2022-04-19T12:23:59.940440",
     "status": "completed"
    },
    "pycharm": {
     "name": "#%%\n"
    },
    "tags": []
   },
   "outputs": [
    {
     "data": {
      "text/html": [
       "<div>\n",
       "<style scoped>\n",
       "    .dataframe tbody tr th:only-of-type {\n",
       "        vertical-align: middle;\n",
       "    }\n",
       "\n",
       "    .dataframe tbody tr th {\n",
       "        vertical-align: top;\n",
       "    }\n",
       "\n",
       "    .dataframe thead th {\n",
       "        text-align: right;\n",
       "    }\n",
       "</style>\n",
       "<table border=\"1\" class=\"dataframe\">\n",
       "  <thead>\n",
       "    <tr style=\"text-align: right;\">\n",
       "      <th></th>\n",
       "      <th>country_australia</th>\n",
       "      <th>country_germany</th>\n",
       "      <th>country_korea</th>\n",
       "      <th>country_russia</th>\n",
       "    </tr>\n",
       "  </thead>\n",
       "  <tbody>\n",
       "    <tr>\n",
       "      <th>0</th>\n",
       "      <td>0</td>\n",
       "      <td>0</td>\n",
       "      <td>0</td>\n",
       "      <td>1</td>\n",
       "    </tr>\n",
       "    <tr>\n",
       "      <th>1</th>\n",
       "      <td>0</td>\n",
       "      <td>1</td>\n",
       "      <td>0</td>\n",
       "      <td>0</td>\n",
       "    </tr>\n",
       "    <tr>\n",
       "      <th>2</th>\n",
       "      <td>1</td>\n",
       "      <td>0</td>\n",
       "      <td>0</td>\n",
       "      <td>0</td>\n",
       "    </tr>\n",
       "    <tr>\n",
       "      <th>3</th>\n",
       "      <td>0</td>\n",
       "      <td>0</td>\n",
       "      <td>1</td>\n",
       "      <td>0</td>\n",
       "    </tr>\n",
       "  </tbody>\n",
       "</table>\n",
       "</div>"
      ],
      "text/plain": [
       "   country_australia  country_germany  country_korea  country_russia\n",
       "0                  0                0              0               1\n",
       "1                  0                1              0               0\n",
       "2                  1                0              0               0\n",
       "3                  0                0              1               0"
      ]
     },
     "execution_count": 14,
     "metadata": {},
     "output_type": "execute_result"
    }
   ],
   "source": [
    "df = pd.DataFrame({'country': ['russia', 'germany', 'australia','korea']})\n",
    "df_get_dummied = pd.get_dummies(df['country'], prefix='country')\n",
    "df_get_dummied"
   ]
  },
  {
   "cell_type": "markdown",
   "metadata": {
    "papermill": {
     "duration": 0.053971,
     "end_time": "2022-04-19T12:24:00.145756",
     "exception": false,
     "start_time": "2022-04-19T12:24:00.091785",
     "status": "completed"
    },
    "pycharm": {
     "name": "#%% md\n"
    },
    "tags": []
   },
   "source": [
    "![img](https://i.imgur.com/DgTHD0B.jpg)\n",
    "\n",
    "To encode all categorical variables at the same time, let's first make a list with their names: i.e.\n",
    " - I am excluding A7 (which is numerical data) and\n",
    " - A10 (which is the target variable and I have make it to be binary previously.\n",
    " - Also excluding all the age ranges i.e 'A2', 'A4', 'A5', 'A8'"
   ]
  },
  {
   "cell_type": "code",
   "execution_count": 15,
   "metadata": {
    "collapsed": false,
    "execution": {
     "iopub.execute_input": "2022-04-19T12:24:00.262164Z",
     "iopub.status.busy": "2022-04-19T12:24:00.261689Z",
     "iopub.status.idle": "2022-04-19T12:24:00.288608Z",
     "shell.execute_reply": "2022-04-19T12:24:00.289059Z",
     "shell.execute_reply.started": "2021-06-20T23:06:10.550646Z"
    },
    "jupyter": {
     "outputs_hidden": false
    },
    "papermill": {
     "duration": 0.085074,
     "end_time": "2022-04-19T12:24:00.289168",
     "exception": false,
     "start_time": "2022-04-19T12:24:00.204094",
     "status": "completed"
    },
    "pycharm": {
     "name": "#%%\n"
    },
    "tags": []
   },
   "outputs": [
    {
     "data": {
      "text/html": [
       "<div>\n",
       "<style scoped>\n",
       "    .dataframe tbody tr th:only-of-type {\n",
       "        vertical-align: middle;\n",
       "    }\n",
       "\n",
       "    .dataframe tbody tr th {\n",
       "        vertical-align: top;\n",
       "    }\n",
       "\n",
       "    .dataframe thead th {\n",
       "        text-align: right;\n",
       "    }\n",
       "</style>\n",
       "<table border=\"1\" class=\"dataframe\">\n",
       "  <thead>\n",
       "    <tr style=\"text-align: right;\">\n",
       "      <th></th>\n",
       "      <th>A1_recurrence-events</th>\n",
       "      <th>A3_lt40</th>\n",
       "      <th>A3_premeno</th>\n",
       "      <th>A6_no</th>\n",
       "      <th>A6_yes</th>\n",
       "      <th>A8_right</th>\n",
       "      <th>A9_left_low</th>\n",
       "      <th>A9_left_up</th>\n",
       "      <th>A9_right_low</th>\n",
       "      <th>A9_right_up</th>\n",
       "    </tr>\n",
       "  </thead>\n",
       "  <tbody>\n",
       "    <tr>\n",
       "      <th>18</th>\n",
       "      <td>0</td>\n",
       "      <td>0</td>\n",
       "      <td>0</td>\n",
       "      <td>1</td>\n",
       "      <td>0</td>\n",
       "      <td>1</td>\n",
       "      <td>0</td>\n",
       "      <td>0</td>\n",
       "      <td>0</td>\n",
       "      <td>1</td>\n",
       "    </tr>\n",
       "    <tr>\n",
       "      <th>156</th>\n",
       "      <td>0</td>\n",
       "      <td>0</td>\n",
       "      <td>1</td>\n",
       "      <td>1</td>\n",
       "      <td>0</td>\n",
       "      <td>0</td>\n",
       "      <td>0</td>\n",
       "      <td>0</td>\n",
       "      <td>0</td>\n",
       "      <td>0</td>\n",
       "    </tr>\n",
       "    <tr>\n",
       "      <th>235</th>\n",
       "      <td>1</td>\n",
       "      <td>0</td>\n",
       "      <td>1</td>\n",
       "      <td>1</td>\n",
       "      <td>0</td>\n",
       "      <td>1</td>\n",
       "      <td>1</td>\n",
       "      <td>0</td>\n",
       "      <td>0</td>\n",
       "      <td>0</td>\n",
       "    </tr>\n",
       "    <tr>\n",
       "      <th>233</th>\n",
       "      <td>1</td>\n",
       "      <td>0</td>\n",
       "      <td>0</td>\n",
       "      <td>1</td>\n",
       "      <td>0</td>\n",
       "      <td>1</td>\n",
       "      <td>0</td>\n",
       "      <td>1</td>\n",
       "      <td>0</td>\n",
       "      <td>0</td>\n",
       "    </tr>\n",
       "    <tr>\n",
       "      <th>234</th>\n",
       "      <td>1</td>\n",
       "      <td>0</td>\n",
       "      <td>1</td>\n",
       "      <td>0</td>\n",
       "      <td>1</td>\n",
       "      <td>0</td>\n",
       "      <td>1</td>\n",
       "      <td>0</td>\n",
       "      <td>0</td>\n",
       "      <td>0</td>\n",
       "    </tr>\n",
       "  </tbody>\n",
       "</table>\n",
       "</div>"
      ],
      "text/plain": [
       "     A1_recurrence-events  A3_lt40  A3_premeno  A6_no  A6_yes  A8_right  \\\n",
       "18                      0        0           0      1       0         1   \n",
       "156                     0        0           1      1       0         0   \n",
       "235                     1        0           1      1       0         1   \n",
       "233                     1        0           0      1       0         1   \n",
       "234                     1        0           1      0       1         0   \n",
       "\n",
       "     A9_left_low  A9_left_up  A9_right_low  A9_right_up  \n",
       "18             0           0             0            1  \n",
       "156            0           0             0            0  \n",
       "235            1           0             0            0  \n",
       "233            0           1             0            0  \n",
       "234            1           0             0            0  "
      ]
     },
     "execution_count": 15,
     "metadata": {},
     "output_type": "execute_result"
    }
   ],
   "source": [
    "vars_categorical = ['A1', 'A3', 'A6', 'A8', 'A9' ]\n",
    "\n",
    "# Now, let's encode all of the categorical variables into k-1 binaries each, capturing the result in a new dataframe:\n",
    "\n",
    "X_train_dummy_encoded_pandas = pd.get_dummies(X_train[vars_categorical], drop_first=True)\n",
    "X_test_dummy_encoded = pd.get_dummies(X_test[vars_categorical], drop_first=True )\n",
    "\n",
    "X_train_dummy_encoded_pandas.head()"
   ]
  },
  {
   "cell_type": "markdown",
   "metadata": {
    "papermill": {
     "duration": 0.053119,
     "end_time": "2022-04-19T12:24:00.395590",
     "exception": false,
     "start_time": "2022-04-19T12:24:00.342471",
     "status": "completed"
    },
    "pycharm": {
     "name": "#%% md\n"
    },
    "tags": []
   },
   "source": [
    "So as we can see above, the pandas' `get_dummies()` function will create one binary variable per found category. Hence, if there are more categories in the train set than in the test set, get_dummies() will return more columns in the transformed train set than in the transformed test set.\n",
    "\n",
    "---\n",
    "\n",
    "# Now one-hot encoding using scikit-learn\n",
    "\n",
    "First, Create a label (category) encoder object with LabelEncoder() which is a utility class to help normalize labels such that they contain only values between 0 and n_classes-1.\n",
    "\n",
    "#### Why we need Label Encoding\n",
    "\n",
    "Datasets in Machine Learning, usually contains multiple labels in one or more than one columns. These labels can be in the form of words, to make the data understandable i.e. to keep it in human readable form.\n",
    "\n",
    "Label Encoding refers to converting these labels into numeric form so as to convert it into the machine-readable form. Machine learning algorithms can then decide in a better way on how those labels must be operated. It is an important pre-processing step for the structured dataset in supervised learning."
   ]
  },
  {
   "cell_type": "code",
   "execution_count": 16,
   "metadata": {
    "collapsed": false,
    "execution": {
     "iopub.execute_input": "2022-04-19T12:24:00.503767Z",
     "iopub.status.busy": "2022-04-19T12:24:00.503297Z",
     "iopub.status.idle": "2022-04-19T12:24:00.514214Z",
     "shell.execute_reply": "2022-04-19T12:24:00.514679Z",
     "shell.execute_reply.started": "2021-06-20T23:06:10.589269Z"
    },
    "jupyter": {
     "outputs_hidden": false
    },
    "papermill": {
     "duration": 0.066329,
     "end_time": "2022-04-19T12:24:00.514780",
     "exception": false,
     "start_time": "2022-04-19T12:24:00.448451",
     "status": "completed"
    },
    "pycharm": {
     "name": "#%%\n"
    },
    "tags": []
   },
   "outputs": [
    {
     "data": {
      "text/html": [
       "<div>\n",
       "<style scoped>\n",
       "    .dataframe tbody tr th:only-of-type {\n",
       "        vertical-align: middle;\n",
       "    }\n",
       "\n",
       "    .dataframe tbody tr th {\n",
       "        vertical-align: top;\n",
       "    }\n",
       "\n",
       "    .dataframe thead th {\n",
       "        text-align: right;\n",
       "    }\n",
       "</style>\n",
       "<table border=\"1\" class=\"dataframe\">\n",
       "  <thead>\n",
       "    <tr style=\"text-align: right;\">\n",
       "      <th></th>\n",
       "      <th>Country</th>\n",
       "    </tr>\n",
       "  </thead>\n",
       "  <tbody>\n",
       "    <tr>\n",
       "      <th>0</th>\n",
       "      <td>India</td>\n",
       "    </tr>\n",
       "    <tr>\n",
       "      <th>1</th>\n",
       "      <td>Australia</td>\n",
       "    </tr>\n",
       "    <tr>\n",
       "      <th>2</th>\n",
       "      <td>USA</td>\n",
       "    </tr>\n",
       "  </tbody>\n",
       "</table>\n",
       "</div>"
      ],
      "text/plain": [
       "     Country\n",
       "0      India\n",
       "1  Australia\n",
       "2        USA"
      ]
     },
     "execution_count": 16,
     "metadata": {},
     "output_type": "execute_result"
    }
   ],
   "source": [
    "example_df = pd.DataFrame(['India', 'Australia', 'USA'], columns= ['Country'])\n",
    "example_df"
   ]
  },
  {
   "cell_type": "markdown",
   "metadata": {
    "papermill": {
     "duration": 0.057917,
     "end_time": "2022-04-19T12:24:00.626861",
     "exception": false,
     "start_time": "2022-04-19T12:24:00.568944",
     "status": "completed"
    },
    "pycharm": {
     "name": "#%% md\n"
    },
    "tags": []
   },
   "source": [
    "---\n",
    "\n",
    "## A note on `fit()/fit_transform()/transform()` from scikit-learn\n",
    "\n",
    "Both `fit_transform()` and `transform()` are the methods of class **[sklearn.preprocessing.StandardScaler()](https://scikit-learn.org/stable/modules/generated/sklearn.preprocessing.StandardScaler.html#sklearn-preprocessing-standardscaler)** and used almost together while scaling or standardizing our training and test data.\n",
    "\n",
    "#### The standard score of a sample x is calculated as:\n",
    "\n",
    "z = (x - u) / s\n",
    "\n",
    "where u is the mean of the training samples or zero if with_mean=False, and s is the standard deviation of the training samples or one if with_std=False.\n",
    "\n",
    "- Data standardization is the process of rescaling the attributes so that they have mean as 0 and variance as 1.\n",
    "\n",
    "- Ultimate goal to perform standardization is to bring down all the features to a common scale without distorting the differences in the range of the values.\n",
    "\n",
    "- In sklearn.preprocessing.StandardScaler(), Centering and scaling happen independently on each feature by computing the relevant statistics on the samples in the training set. Mean and standard deviation are then stored to be used on later data using transform.\n",
    "\n",
    "- fit_transform(X[, y]) => Fit to data, then transform it. Fits transformer to X and y with optional parameters fit_params and returns a transformed version of X. fit_transform() is used on the training data so that we can scale the training data and also learn the scaling parameters of that data. Here, the model built by us will learn the mean and variance of the features of the training set. These learned parameters are then used to scale our test data. The fit method is calculating the mean and variance of each of the features present in our data. The transform method is transforming all the features using the respective mean and variance.\n",
    "\n",
    "\n",
    "- transform(X[, copy]) => Perform standardization by centering and scaling. We call `fit_transform()` method on our training data and `transform()` method on our test data. Using the `transform()` method we can use the same mean and variance as it is calculated from our training data to transform our test data. Thus, the parameters learned by our model using the training data will help us to transform our test data.\n",
    "\n",
    "So in further simple words - every sklearn's transform's `fit()` just calculates the parameters (e.g. Mean and Sigma in case of StandardScaler) and saves them as an internal objects state. Afterwards, we can call its `transform()` method to apply the transformation to a particular set of examples.\n",
    "\n",
    "`fit_transform()` joins these two steps and is used for the initial fitting of parameters on the training set x, but it also returns a transformed x. Internally, it just calls first `fit()` and then `transform()` on the same data.\n",
    "\n",
    "#### How do we do Numeric encoding from the above DataFrame for the Country feature?\n",
    "\n",
    "Ans is - with Scikit learn transformation, called `LabelEncoder()`:"
   ]
  },
  {
   "cell_type": "code",
   "execution_count": 17,
   "metadata": {
    "collapsed": false,
    "execution": {
     "iopub.execute_input": "2022-04-19T12:24:00.795522Z",
     "iopub.status.busy": "2022-04-19T12:24:00.794844Z",
     "iopub.status.idle": "2022-04-19T12:24:00.808361Z",
     "shell.execute_reply": "2022-04-19T12:24:00.808979Z",
     "shell.execute_reply.started": "2021-06-20T23:06:10.606527Z"
    },
    "jupyter": {
     "outputs_hidden": false
    },
    "papermill": {
     "duration": 0.116793,
     "end_time": "2022-04-19T12:24:00.809119",
     "exception": false,
     "start_time": "2022-04-19T12:24:00.692326",
     "status": "completed"
    },
    "pycharm": {
     "name": "#%%\n"
    },
    "tags": []
   },
   "outputs": [
    {
     "data": {
      "text/html": [
       "<div>\n",
       "<style scoped>\n",
       "    .dataframe tbody tr th:only-of-type {\n",
       "        vertical-align: middle;\n",
       "    }\n",
       "\n",
       "    .dataframe tbody tr th {\n",
       "        vertical-align: top;\n",
       "    }\n",
       "\n",
       "    .dataframe thead th {\n",
       "        text-align: right;\n",
       "    }\n",
       "</style>\n",
       "<table border=\"1\" class=\"dataframe\">\n",
       "  <thead>\n",
       "    <tr style=\"text-align: right;\">\n",
       "      <th></th>\n",
       "      <th>Country</th>\n",
       "      <th>Country_encoded</th>\n",
       "    </tr>\n",
       "  </thead>\n",
       "  <tbody>\n",
       "    <tr>\n",
       "      <th>0</th>\n",
       "      <td>India</td>\n",
       "      <td>1</td>\n",
       "    </tr>\n",
       "    <tr>\n",
       "      <th>1</th>\n",
       "      <td>Australia</td>\n",
       "      <td>0</td>\n",
       "    </tr>\n",
       "    <tr>\n",
       "      <th>2</th>\n",
       "      <td>USA</td>\n",
       "      <td>2</td>\n",
       "    </tr>\n",
       "  </tbody>\n",
       "</table>\n",
       "</div>"
      ],
      "text/plain": [
       "     Country  Country_encoded\n",
       "0      India                1\n",
       "1  Australia                0\n",
       "2        USA                2"
      ]
     },
     "execution_count": 17,
     "metadata": {},
     "output_type": "execute_result"
    }
   ],
   "source": [
    "example_df['Country_encoded'] = LabelEncoder().fit_transform(example_df['Country'])\n",
    "example_df"
   ]
  },
  {
   "cell_type": "markdown",
   "metadata": {
    "papermill": {
     "duration": 0.089397,
     "end_time": "2022-04-19T12:24:00.975052",
     "exception": false,
     "start_time": "2022-04-19T12:24:00.885655",
     "status": "completed"
    },
    "pycharm": {
     "name": "#%% md\n"
    },
    "tags": []
   },
   "source": [
    "Let's take a closer look at what the LabelEncoder is doing"
   ]
  },
  {
   "cell_type": "code",
   "execution_count": 18,
   "metadata": {
    "collapsed": false,
    "execution": {
     "iopub.execute_input": "2022-04-19T12:24:01.145835Z",
     "iopub.status.busy": "2022-04-19T12:24:01.145145Z",
     "iopub.status.idle": "2022-04-19T12:24:01.149936Z",
     "shell.execute_reply": "2022-04-19T12:24:01.150574Z",
     "shell.execute_reply.started": "2021-06-20T23:06:10.622029Z"
    },
    "jupyter": {
     "outputs_hidden": false
    },
    "papermill": {
     "duration": 0.092374,
     "end_time": "2022-04-19T12:24:01.150709",
     "exception": false,
     "start_time": "2022-04-19T12:24:01.058335",
     "status": "completed"
    },
    "pycharm": {
     "name": "#%%\n"
    },
    "tags": []
   },
   "outputs": [
    {
     "data": {
      "text/plain": [
       "array(['Australia', 'India', 'USA'], dtype=object)"
      ]
     },
     "execution_count": 18,
     "metadata": {},
     "output_type": "execute_result"
    }
   ],
   "source": [
    "encoder = LabelEncoder()\n",
    "encoder.fit(example_df['Country'])\n",
    "encoder.classes_"
   ]
  },
  {
   "cell_type": "markdown",
   "metadata": {
    "papermill": {
     "duration": 0.083568,
     "end_time": "2022-04-19T12:24:01.317133",
     "exception": false,
     "start_time": "2022-04-19T12:24:01.233565",
     "status": "completed"
    },
    "pycharm": {
     "name": "#%% md\n"
    },
    "tags": []
   },
   "source": [
    "Given the output - array(['Australia', 'India', 'USA'], dtype=object)\n",
    "\n",
    "We see that the ordering of the list of classes above corresponds to their numeric values. Transformation is then as follows:\n"
   ]
  },
  {
   "cell_type": "markdown",
   "metadata": {
    "papermill": {
     "duration": 0.083352,
     "end_time": "2022-04-19T12:24:01.483490",
     "exception": false,
     "start_time": "2022-04-19T12:24:01.400138",
     "status": "completed"
    },
    "pycharm": {
     "name": "#%% md\n"
    },
    "tags": []
   },
   "source": [
    "#### Now apply LabelEncoder() to our Breast-Cancer dataset"
   ]
  },
  {
   "cell_type": "code",
   "execution_count": 19,
   "metadata": {
    "collapsed": false,
    "execution": {
     "iopub.execute_input": "2022-04-19T12:24:01.651779Z",
     "iopub.status.busy": "2022-04-19T12:24:01.651153Z",
     "iopub.status.idle": "2022-04-19T12:24:01.657815Z",
     "shell.execute_reply": "2022-04-19T12:24:01.657273Z",
     "shell.execute_reply.started": "2021-06-20T23:06:10.633424Z"
    },
    "jupyter": {
     "outputs_hidden": false
    },
    "papermill": {
     "duration": 0.09188,
     "end_time": "2022-04-19T12:24:01.657920",
     "exception": false,
     "start_time": "2022-04-19T12:24:01.566040",
     "status": "completed"
    },
    "pycharm": {
     "name": "#%%\n"
    },
    "tags": []
   },
   "outputs": [
    {
     "name": "stdout",
     "output_type": "stream",
     "text": [
      "label (category) encoder List:  ['A1', 'A3', 'A6', 'A8', 'A9']\n",
      "[0 1 2 3 4]\n"
     ]
    }
   ],
   "source": [
    "enc = LabelEncoder()\n",
    "\n",
    "enc.fit(vars_categorical)\n",
    "\n",
    "# View the labels (if you want)\n",
    "print(\"label (category) encoder List: \", list(enc.classes_))\n",
    "# ['A1', 'A3', 'A6', 'A8', 'A9']\n",
    "\n",
    "new_cat_features = enc.transform(vars_categorical)\n",
    "print(new_cat_features) # [0 1 2 3 4]\n",
    "\n",
    "new_cat_features = new_cat_features.reshape(-1, 1)"
   ]
  },
  {
   "cell_type": "markdown",
   "metadata": {
    "papermill": {
     "duration": 0.082126,
     "end_time": "2022-04-19T12:24:01.822834",
     "exception": false,
     "start_time": "2022-04-19T12:24:01.740708",
     "status": "completed"
    },
    "tags": []
   },
   "source": [
    "Then create a OneHotEncoder transformer that encodes into k-1 binary variables and returns a NumPy array:\n",
    "\n",
    "Scikit-learn's `OneHotEncoder()` function will only encode the categories learned from the train set. If there are new categories in the test set, we can instruct the encoder to ignore them or to return an error with the `handle_unknown='ignore'` argument or the `handle_unknown='error'` argument, respectively.\n",
    "\n",
    "setting the `categories='auto'` argument so that the transformer learns the categories to encode from the train set; `drop='first'` so that the transformer drops the first binary variable, returning k-1 binary features per categorical variable; and sparse=False so that the transformer returns a NumPy array (the default is to return a sparse matrix).\n",
    "\n",
    "Now, let's create the NumPy arrays with the binary variables for train and test sets:"
   ]
  },
  {
   "cell_type": "code",
   "execution_count": 20,
   "metadata": {
    "collapsed": false,
    "execution": {
     "iopub.execute_input": "2022-04-19T12:24:01.991504Z",
     "iopub.status.busy": "2022-04-19T12:24:01.990884Z",
     "iopub.status.idle": "2022-04-19T12:24:01.995273Z",
     "shell.execute_reply": "2022-04-19T12:24:01.994726Z",
     "shell.execute_reply.started": "2021-06-20T23:06:10.647627Z"
    },
    "jupyter": {
     "outputs_hidden": false
    },
    "papermill": {
     "duration": 0.089671,
     "end_time": "2022-04-19T12:24:01.995398",
     "exception": false,
     "start_time": "2022-04-19T12:24:01.905727",
     "status": "completed"
    },
    "pycharm": {
     "name": "#%%\n"
    },
    "tags": []
   },
   "outputs": [],
   "source": [
    "ohe_scikit = OneHotEncoder(sparse=False, categories='auto', drop='first')"
   ]
  },
  {
   "cell_type": "markdown",
   "metadata": {
    "papermill": {
     "duration": 0.082513,
     "end_time": "2022-04-19T12:24:02.161543",
     "exception": false,
     "start_time": "2022-04-19T12:24:02.079030",
     "status": "completed"
    },
    "pycharm": {
     "name": "#%% md\n"
    },
    "tags": []
   },
   "source": [
    "#### Now fit i.e. make scikit_learn to learn the encoder to a slice of the train set with the categorical variables so it identifies the categories to encode:"
   ]
  },
  {
   "cell_type": "code",
   "execution_count": 21,
   "metadata": {
    "collapsed": false,
    "execution": {
     "iopub.execute_input": "2022-04-19T12:24:02.332357Z",
     "iopub.status.busy": "2022-04-19T12:24:02.331736Z",
     "iopub.status.idle": "2022-04-19T12:24:02.337273Z",
     "shell.execute_reply": "2022-04-19T12:24:02.337873Z",
     "shell.execute_reply.started": "2021-06-20T23:06:10.662579Z"
    },
    "jupyter": {
     "outputs_hidden": false
    },
    "papermill": {
     "duration": 0.092624,
     "end_time": "2022-04-19T12:24:02.338037",
     "exception": false,
     "start_time": "2022-04-19T12:24:02.245413",
     "status": "completed"
    },
    "pycharm": {
     "name": "#%%\n"
    },
    "tags": []
   },
   "outputs": [
    {
     "name": "stdout",
     "output_type": "stream",
     "text": [
      "[[0. 0. 0. 0.]\n",
      " [1. 0. 0. 0.]\n",
      " [0. 1. 0. 0.]\n",
      " [0. 0. 1. 0.]\n",
      " [0. 0. 0. 1.]]\n"
     ]
    }
   ],
   "source": [
    "output = ohe_scikit.fit_transform(new_cat_features)\n",
    "print(output)"
   ]
  },
  {
   "cell_type": "markdown",
   "metadata": {
    "papermill": {
     "duration": 0.084079,
     "end_time": "2022-04-19T12:24:02.505742",
     "exception": false,
     "start_time": "2022-04-19T12:24:02.421663",
     "status": "completed"
    },
    "pycharm": {
     "name": "#%% md\n"
    },
    "tags": []
   },
   "source": [
    "Unfortunately, the feature names are not preserved in the NumPy array, therefore, identifying which feature was derived from which variable is not straightforward.\n",
    "\n",
    "The beauty of pandas' `get_dummies()` function is that it returns feature names that clearly indicate which variable and which category each feature represents. On the downside, `get_dummies()` does not persist the information learned from the train set to the test set.\n",
    "\n",
    "Contrarily, scikit-learn's `OneHotEncoder()` function can persist the information from the train set, but it returns a NumPy array, where the information about the meaning of the features is lost.\n",
    "\n",
    "Scikit-learn's `OneHotEncoder()` function will create binary indicators from all variables in the dataset, so be mindful not to pass numerical variables when fitting or transforming your datasets.\n",
    "\n",
    "---\n",
    "\n",
    "#  Implement one-hot encoding with Feature-engine\n",
    "\n",
    "`Feature-engine` has multiple advantages:\n",
    "\n",
    "- first, it allows us to select the variables to encode directly in the transformer.\n",
    "- Second, it returns a pandas dataframe with clear variable names, and\n",
    "- third, it preserves the information learned from the train set, therefore returning the same number of columns in\n",
    "both train and test sets.\n",
    "\n",
    "#### With that, Feature-engine overcomes the limitations of pandas' `get_dummies()` method and scikit-learn's `OneHotEncoder()` class.\n",
    "\n",
    "From its [documentation](https://feature-engine.readthedocs.io/en/latest/encoders/OneHotCategoricalEncoder.html)\n",
    "\n",
    "The OneHotCategoricalEncoder() replaces categorical variables by a set of binary variables, one per unique category. The encoder has the option to create k or k-1 binary variables, where k is the number of unique categories.\n",
    "\n",
    "The encoder can also create binary variables for the n most popular categories, n being determined by the user. This means, if we encode the 6 more popular categories, we will only create binary variables for those categories, and the rest will be dropped.\n",
    "\n",
    "The OneHotCategoricalEncoder() works only with categorical variables. A list of variables can be indicated, or the encoder will automatically select all categorical variables in the train set."
   ]
  },
  {
   "cell_type": "code",
   "execution_count": 22,
   "metadata": {
    "collapsed": false,
    "execution": {
     "iopub.execute_input": "2022-04-19T12:24:02.678073Z",
     "iopub.status.busy": "2022-04-19T12:24:02.677230Z",
     "iopub.status.idle": "2022-04-19T12:24:02.680866Z",
     "shell.execute_reply": "2022-04-19T12:24:02.681430Z",
     "shell.execute_reply.started": "2021-06-20T23:06:10.679027Z"
    },
    "jupyter": {
     "outputs_hidden": false
    },
    "papermill": {
     "duration": 0.091188,
     "end_time": "2022-04-19T12:24:02.681561",
     "exception": false,
     "start_time": "2022-04-19T12:24:02.590373",
     "status": "completed"
    },
    "pycharm": {
     "name": "#%%\n"
    },
    "tags": []
   },
   "outputs": [],
   "source": [
    "# one_hot_enc_feature_engine = ce.OneHotCategoricalEncoder(top_categories=None, drop_last=True)\n",
    "one_hot_enc_feature_engine = ohe(top_categories=None, drop_last=True)"
   ]
  },
  {
   "cell_type": "markdown",
   "metadata": {
    "papermill": {
     "duration": 0.083155,
     "end_time": "2022-04-19T12:24:02.849081",
     "exception": false,
     "start_time": "2022-04-19T12:24:02.765926",
     "status": "completed"
    },
    "pycharm": {
     "name": "#%% md\n"
    },
    "tags": []
   },
   "source": [
    "#### Now, once we have the encoder object, we can encode our data using the fit()/transform() or the fit_transform() methods\n",
    "\n",
    "With top_categories=None, we indicate that we want to encode all of the categories present in the categorical variables.\n",
    "\n",
    "This breast-cancer data set above only has few categories, but what if it had 300 ? That's when, top_categories becomes very useful, which has the effect of collapsing the into a more manageable number. For example, you could set the top_categories to 10 and that would get you the 10 most frequently occurring category columns and all others would be collapsed into an “other” column.\n",
    "\n",
    "Feature-engine detects the categorical variables automatically. To encode only a subset of the categorical variables, we can pass the variable names in a list like below:\n",
    "\n",
    "`one_hot_enc_feature_engine = ce.OneHotCategoricalEncoder(variables=['A1', 'A4'])`\n",
    "\n",
    "Since the `OneHotCategoricalEncoder` uses the `fit()/fit_transform()/transform()` from **scikit-learn**, it can be used in a Pipeline object. Finally, and perhaps most important to me, is that the OneHotCategoricalEncoder returns a pandas DataFrame rather than numpy arrays or other sparse matrices. The reason this mattered to me was that I wanted to see which categorical columns actually are adding value to the model and which are not. Doing this from a numpy array without column references is exceedingly difficult.\n",
    "\n",
    "Now, let's fit the encoder to the train set so that it learns the categories and variables to encode:"
   ]
  },
  {
   "cell_type": "code",
   "execution_count": 23,
   "metadata": {
    "collapsed": false,
    "execution": {
     "iopub.execute_input": "2022-04-19T12:24:03.019985Z",
     "iopub.status.busy": "2022-04-19T12:24:03.019154Z",
     "iopub.status.idle": "2022-04-19T12:24:03.076459Z",
     "shell.execute_reply": "2022-04-19T12:24:03.075925Z",
     "shell.execute_reply.started": "2021-06-20T23:06:10.691664Z"
    },
    "jupyter": {
     "outputs_hidden": false
    },
    "papermill": {
     "duration": 0.143479,
     "end_time": "2022-04-19T12:24:03.076563",
     "exception": false,
     "start_time": "2022-04-19T12:24:02.933084",
     "status": "completed"
    },
    "pycharm": {
     "name": "#%%\n"
    },
    "tags": []
   },
   "outputs": [
    {
     "data": {
      "text/html": [
       "<div>\n",
       "<style scoped>\n",
       "    .dataframe tbody tr th:only-of-type {\n",
       "        vertical-align: middle;\n",
       "    }\n",
       "\n",
       "    .dataframe tbody tr th {\n",
       "        vertical-align: top;\n",
       "    }\n",
       "\n",
       "    .dataframe thead th {\n",
       "        text-align: right;\n",
       "    }\n",
       "</style>\n",
       "<table border=\"1\" class=\"dataframe\">\n",
       "  <thead>\n",
       "    <tr style=\"text-align: right;\">\n",
       "      <th></th>\n",
       "      <th>A1</th>\n",
       "      <th>A2</th>\n",
       "      <th>A3</th>\n",
       "      <th>A4</th>\n",
       "      <th>A5</th>\n",
       "      <th>A6</th>\n",
       "      <th>A7</th>\n",
       "      <th>A8</th>\n",
       "      <th>A9</th>\n",
       "    </tr>\n",
       "  </thead>\n",
       "  <tbody>\n",
       "    <tr>\n",
       "      <th>18</th>\n",
       "      <td>no-recurrence-events</td>\n",
       "      <td>50-59</td>\n",
       "      <td>ge40</td>\n",
       "      <td>30-34</td>\n",
       "      <td>0-2</td>\n",
       "      <td>no</td>\n",
       "      <td>1.0</td>\n",
       "      <td>right</td>\n",
       "      <td>right_up</td>\n",
       "    </tr>\n",
       "    <tr>\n",
       "      <th>156</th>\n",
       "      <td>no-recurrence-events</td>\n",
       "      <td>50-59</td>\n",
       "      <td>premeno</td>\n",
       "      <td>30-34</td>\n",
       "      <td>0-2</td>\n",
       "      <td>no</td>\n",
       "      <td>1.0</td>\n",
       "      <td>left</td>\n",
       "      <td>central</td>\n",
       "    </tr>\n",
       "    <tr>\n",
       "      <th>235</th>\n",
       "      <td>recurrence-events</td>\n",
       "      <td>40-49</td>\n",
       "      <td>premeno</td>\n",
       "      <td>25-29</td>\n",
       "      <td>0-2</td>\n",
       "      <td>no</td>\n",
       "      <td>2.0</td>\n",
       "      <td>right</td>\n",
       "      <td>left_low</td>\n",
       "    </tr>\n",
       "    <tr>\n",
       "      <th>233</th>\n",
       "      <td>recurrence-events</td>\n",
       "      <td>60-69</td>\n",
       "      <td>ge40</td>\n",
       "      <td>30-34</td>\n",
       "      <td>0-2</td>\n",
       "      <td>no</td>\n",
       "      <td>3.0</td>\n",
       "      <td>right</td>\n",
       "      <td>left_up</td>\n",
       "    </tr>\n",
       "    <tr>\n",
       "      <th>234</th>\n",
       "      <td>recurrence-events</td>\n",
       "      <td>50-59</td>\n",
       "      <td>premeno</td>\n",
       "      <td>25-29</td>\n",
       "      <td>3-5</td>\n",
       "      <td>yes</td>\n",
       "      <td>3.0</td>\n",
       "      <td>left</td>\n",
       "      <td>left_low</td>\n",
       "    </tr>\n",
       "  </tbody>\n",
       "</table>\n",
       "</div>"
      ],
      "text/plain": [
       "                       A1     A2       A3     A4   A5   A6   A7     A8  \\\n",
       "18   no-recurrence-events  50-59     ge40  30-34  0-2   no  1.0  right   \n",
       "156  no-recurrence-events  50-59  premeno  30-34  0-2   no  1.0   left   \n",
       "235     recurrence-events  40-49  premeno  25-29  0-2   no  2.0  right   \n",
       "233     recurrence-events  60-69     ge40  30-34  0-2   no  3.0  right   \n",
       "234     recurrence-events  50-59  premeno  25-29  3-5  yes  3.0   left   \n",
       "\n",
       "           A9  \n",
       "18   right_up  \n",
       "156   central  \n",
       "235  left_low  \n",
       "233   left_up  \n",
       "234  left_low  "
      ]
     },
     "execution_count": 23,
     "metadata": {},
     "output_type": "execute_result"
    }
   ],
   "source": [
    "one_hot_enc_feature_engine.fit(X_train)\n",
    "\n",
    "# Let's encode the categorical variables in train and test sets, and display the first five rows of the encoded train set:\n",
    "\n",
    "X_train_enc_feature_engine = one_hot_enc_feature_engine.transform(X_train)\n",
    "X_test_enc_feature_engine = one_hot_enc_feature_engine.transform(X_test)\n",
    "\n",
    "X_train.head()"
   ]
  },
  {
   "cell_type": "markdown",
   "metadata": {
    "papermill": {
     "duration": 0.085066,
     "end_time": "2022-04-19T12:24:03.245885",
     "exception": false,
     "start_time": "2022-04-19T12:24:03.160819",
     "status": "completed"
    },
    "pycharm": {
     "name": "#%% md\n"
    },
    "tags": []
   },
   "source": [
    "---\n",
    "\n",
    "## one-hot encoding of frequent categories\n",
    "\n",
    "#### What is high cardinality of a dataset.\n",
    "\n",
    "A dataset which has columns(feature) with high number of unique values. Another way to refer to variables that have a multitude of categories, is to call them variables with high cardinality. If we have categorical variables containing many multiple labels or high cardinality,then by using one hot encoding, we will expand the feature space dramatically, which is not an ideal situation to be in.\n",
    "\n",
    "One approach used by many in Kaggle competitions, is to replace each label of the categorical variable by the count, this is the amount of times each label appears in the dataset. Or the frequency, this is the percentage of observations within that category.\n",
    "\n",
    "But the the cost of the above strategy is some loss of information, because I am effectively turning a categorical feature into a \"popularity\" feature.\n",
    "\n",
    "Check the \"Count Encoding\" section on [this link](https://www.kaggle.com/matleonard/categorical-encodings)\n",
    "\n",
    "While dealing with highly cardinal dataset, one thing to ensure that the cardinality of the categorical information in the training set resembles that in the test/validation sets. That is, if I have a feature with values {A,A,A,B,C,C,D} in train, but test only has {A,B,B}, then eliminating the C and D records, and undersampling the A or oversampling the B records may resist overfitting. Also, for individual featuers with low cardinality, it's often worth bucketing them. In the above example, you may end up replacement values for A and C, and then bucketing B and D into an \"Other\" category\n",
    "\n",
    "#### We will deal with High-Cardinality with **OneHotCategoricalEncoder** from `feature_engine`\n",
    "\n",
    "One-hot encoding represents each category of a categorical variable with a binary variable. Hence, one-hot encoding of highly cardinal variables or datasets with multiple categorical features can expand the feature space dramatically. To reduce the number of binary variables, we can perform one-hot encoding of the most frequent categories only. One-hot encoding of top categories is equivalent to treating the remaining, less frequent categories as a single, unique category"
   ]
  },
  {
   "cell_type": "code",
   "execution_count": 24,
   "metadata": {
    "collapsed": false,
    "execution": {
     "iopub.execute_input": "2022-04-19T12:24:03.422548Z",
     "iopub.status.busy": "2022-04-19T12:24:03.421925Z",
     "iopub.status.idle": "2022-04-19T12:24:03.431877Z",
     "shell.execute_reply": "2022-04-19T12:24:03.431262Z",
     "shell.execute_reply.started": "2021-06-20T23:06:10.764822Z"
    },
    "jupyter": {
     "outputs_hidden": false
    },
    "papermill": {
     "duration": 0.101255,
     "end_time": "2022-04-19T12:24:03.431974",
     "exception": false,
     "start_time": "2022-04-19T12:24:03.330719",
     "status": "completed"
    },
    "pycharm": {
     "name": "#%%\n"
    },
    "tags": []
   },
   "outputs": [
    {
     "data": {
      "text/html": [
       "<div>\n",
       "<style scoped>\n",
       "    .dataframe tbody tr th:only-of-type {\n",
       "        vertical-align: middle;\n",
       "    }\n",
       "\n",
       "    .dataframe tbody tr th {\n",
       "        vertical-align: top;\n",
       "    }\n",
       "\n",
       "    .dataframe thead th {\n",
       "        text-align: right;\n",
       "    }\n",
       "</style>\n",
       "<table border=\"1\" class=\"dataframe\">\n",
       "  <thead>\n",
       "    <tr style=\"text-align: right;\">\n",
       "      <th></th>\n",
       "      <th>A1</th>\n",
       "      <th>A2</th>\n",
       "      <th>A3</th>\n",
       "      <th>A4</th>\n",
       "      <th>A5</th>\n",
       "      <th>A6</th>\n",
       "      <th>A7</th>\n",
       "      <th>A8</th>\n",
       "      <th>A9</th>\n",
       "    </tr>\n",
       "  </thead>\n",
       "  <tbody>\n",
       "    <tr>\n",
       "      <th>18</th>\n",
       "      <td>no-recurrence-events</td>\n",
       "      <td>50-59</td>\n",
       "      <td>ge40</td>\n",
       "      <td>30-34</td>\n",
       "      <td>0-2</td>\n",
       "      <td>no</td>\n",
       "      <td>1.0</td>\n",
       "      <td>right</td>\n",
       "      <td>right_up</td>\n",
       "    </tr>\n",
       "    <tr>\n",
       "      <th>156</th>\n",
       "      <td>no-recurrence-events</td>\n",
       "      <td>50-59</td>\n",
       "      <td>premeno</td>\n",
       "      <td>30-34</td>\n",
       "      <td>0-2</td>\n",
       "      <td>no</td>\n",
       "      <td>1.0</td>\n",
       "      <td>left</td>\n",
       "      <td>central</td>\n",
       "    </tr>\n",
       "    <tr>\n",
       "      <th>235</th>\n",
       "      <td>recurrence-events</td>\n",
       "      <td>40-49</td>\n",
       "      <td>premeno</td>\n",
       "      <td>25-29</td>\n",
       "      <td>0-2</td>\n",
       "      <td>no</td>\n",
       "      <td>2.0</td>\n",
       "      <td>right</td>\n",
       "      <td>left_low</td>\n",
       "    </tr>\n",
       "    <tr>\n",
       "      <th>233</th>\n",
       "      <td>recurrence-events</td>\n",
       "      <td>60-69</td>\n",
       "      <td>ge40</td>\n",
       "      <td>30-34</td>\n",
       "      <td>0-2</td>\n",
       "      <td>no</td>\n",
       "      <td>3.0</td>\n",
       "      <td>right</td>\n",
       "      <td>left_up</td>\n",
       "    </tr>\n",
       "    <tr>\n",
       "      <th>234</th>\n",
       "      <td>recurrence-events</td>\n",
       "      <td>50-59</td>\n",
       "      <td>premeno</td>\n",
       "      <td>25-29</td>\n",
       "      <td>3-5</td>\n",
       "      <td>yes</td>\n",
       "      <td>3.0</td>\n",
       "      <td>left</td>\n",
       "      <td>left_low</td>\n",
       "    </tr>\n",
       "  </tbody>\n",
       "</table>\n",
       "</div>"
      ],
      "text/plain": [
       "                       A1     A2       A3     A4   A5   A6   A7     A8  \\\n",
       "18   no-recurrence-events  50-59     ge40  30-34  0-2   no  1.0  right   \n",
       "156  no-recurrence-events  50-59  premeno  30-34  0-2   no  1.0   left   \n",
       "235     recurrence-events  40-49  premeno  25-29  0-2   no  2.0  right   \n",
       "233     recurrence-events  60-69     ge40  30-34  0-2   no  3.0  right   \n",
       "234     recurrence-events  50-59  premeno  25-29  3-5  yes  3.0   left   \n",
       "\n",
       "           A9  \n",
       "18   right_up  \n",
       "156   central  \n",
       "235  left_low  \n",
       "233   left_up  \n",
       "234  left_low  "
      ]
     },
     "execution_count": 24,
     "metadata": {},
     "output_type": "execute_result"
    }
   ],
   "source": [
    "# Lets' look at the train data again\n",
    "X_train.head()"
   ]
  },
  {
   "cell_type": "code",
   "execution_count": 25,
   "metadata": {
    "collapsed": false,
    "execution": {
     "iopub.execute_input": "2022-04-19T12:24:03.603904Z",
     "iopub.status.busy": "2022-04-19T12:24:03.603283Z",
     "iopub.status.idle": "2022-04-19T12:24:03.607953Z",
     "shell.execute_reply": "2022-04-19T12:24:03.608510Z",
     "shell.execute_reply.started": "2021-06-20T23:06:10.784985Z"
    },
    "jupyter": {
     "outputs_hidden": false
    },
    "papermill": {
     "duration": 0.092377,
     "end_time": "2022-04-19T12:24:03.608640",
     "exception": false,
     "start_time": "2022-04-19T12:24:03.516263",
     "status": "completed"
    },
    "pycharm": {
     "name": "#%%\n"
    },
    "tags": []
   },
   "outputs": [
    {
     "data": {
      "text/plain": [
       "array(['30-34', '25-29', '20-24', '50-54', '10-14', '15-19', '40-44',\n",
       "       '5-9', '0-4', '35-39', '45-49'], dtype=object)"
      ]
     },
     "execution_count": 25,
     "metadata": {},
     "output_type": "execute_result"
    }
   ],
   "source": [
    "#  Let's inspect the unique categories of the A4 variable:\n",
    "X_train['A4'].unique()"
   ]
  },
  {
   "cell_type": "markdown",
   "metadata": {
    "papermill": {
     "duration": 0.085406,
     "end_time": "2022-04-19T12:24:03.778881",
     "exception": false,
     "start_time": "2022-04-19T12:24:03.693475",
     "status": "completed"
    },
    "pycharm": {
     "name": "#%% md\n"
    },
    "tags": []
   },
   "source": [
    "#### Let's count the number of observations per category of A4, sort them in decreasing order, and then display the five most frequent categories:"
   ]
  },
  {
   "cell_type": "code",
   "execution_count": 26,
   "metadata": {
    "collapsed": false,
    "execution": {
     "iopub.execute_input": "2022-04-19T12:24:03.959946Z",
     "iopub.status.busy": "2022-04-19T12:24:03.959279Z",
     "iopub.status.idle": "2022-04-19T12:24:03.962466Z",
     "shell.execute_reply": "2022-04-19T12:24:03.962938Z",
     "shell.execute_reply.started": "2021-06-20T23:06:10.797471Z"
    },
    "jupyter": {
     "outputs_hidden": false
    },
    "papermill": {
     "duration": 0.098447,
     "end_time": "2022-04-19T12:24:03.963070",
     "exception": false,
     "start_time": "2022-04-19T12:24:03.864623",
     "status": "completed"
    },
    "pycharm": {
     "name": "#%%\n"
    },
    "tags": []
   },
   "outputs": [
    {
     "data": {
      "text/plain": [
       "30-34    47\n",
       "25-29    37\n",
       "20-24    36\n",
       "10-14    21\n",
       "15-19    21\n",
       "Name: A4, dtype: int64"
      ]
     },
     "execution_count": 26,
     "metadata": {},
     "output_type": "execute_result"
    }
   ],
   "source": [
    "X_train['A4'].value_counts().sort_values(ascending=False).head(5)"
   ]
  },
  {
   "cell_type": "markdown",
   "metadata": {
    "papermill": {
     "duration": 0.087264,
     "end_time": "2022-04-19T12:24:04.137405",
     "exception": false,
     "start_time": "2022-04-19T12:24:04.050141",
     "status": "completed"
    },
    "pycharm": {
     "name": "#%% md\n"
    },
    "tags": []
   },
   "source": [
    "we counted the number of observations in the train set, per category of A4 using pandas' `value_counts()` method and sorted the categories from the one with most observations to the one with the least using pandas' `sort_values()` method.\n",
    "\n",
    "#### Now let's capture the most frequent categories of A4 in a list using the code in the above step inside a list comprehension:\n"
   ]
  },
  {
   "cell_type": "code",
   "execution_count": 27,
   "metadata": {
    "collapsed": false,
    "execution": {
     "iopub.execute_input": "2022-04-19T12:24:04.316735Z",
     "iopub.status.busy": "2022-04-19T12:24:04.316098Z",
     "iopub.status.idle": "2022-04-19T12:24:04.323837Z",
     "shell.execute_reply": "2022-04-19T12:24:04.323305Z",
     "shell.execute_reply.started": "2021-06-20T23:06:10.813614Z"
    },
    "jupyter": {
     "outputs_hidden": false
    },
    "papermill": {
     "duration": 0.099525,
     "end_time": "2022-04-19T12:24:04.323945",
     "exception": false,
     "start_time": "2022-04-19T12:24:04.224420",
     "status": "completed"
    },
    "pycharm": {
     "name": "#%%\n"
    },
    "tags": []
   },
   "outputs": [
    {
     "data": {
      "text/plain": [
       "['30-34', '25-29', '20-24', '10-14', '15-19']"
      ]
     },
     "execution_count": 27,
     "metadata": {},
     "output_type": "execute_result"
    }
   ],
   "source": [
    "top_5_A4 = [cat for cat in X_train['A4'].value_counts().sort_values(ascending=False).head(5).index]\n",
    "top_5_A4"
   ]
  },
  {
   "cell_type": "markdown",
   "metadata": {
    "papermill": {
     "duration": 0.087991,
     "end_time": "2022-04-19T12:24:04.497150",
     "exception": false,
     "start_time": "2022-04-19T12:24:04.409159",
     "status": "completed"
    },
    "pycharm": {
     "name": "#%% md\n"
    },
    "tags": []
   },
   "source": [
    "#### Now, let's add a binary variable per top category in the train and test sets"
   ]
  },
  {
   "cell_type": "code",
   "execution_count": 28,
   "metadata": {
    "collapsed": false,
    "execution": {
     "iopub.execute_input": "2022-04-19T12:24:04.685517Z",
     "iopub.status.busy": "2022-04-19T12:24:04.684887Z",
     "iopub.status.idle": "2022-04-19T12:24:04.689012Z",
     "shell.execute_reply": "2022-04-19T12:24:04.688511Z",
     "shell.execute_reply.started": "2021-06-20T23:06:10.828048Z"
    },
    "jupyter": {
     "outputs_hidden": false
    },
    "papermill": {
     "duration": 0.1049,
     "end_time": "2022-04-19T12:24:04.689118",
     "exception": false,
     "start_time": "2022-04-19T12:24:04.584218",
     "status": "completed"
    },
    "pycharm": {
     "name": "#%%\n"
    },
    "tags": []
   },
   "outputs": [],
   "source": [
    "for category in top_5_A4:\n",
    "    X_train['A4' + '_' + category] = np.where(X_train['A4'] == category, 1, 0 )\n",
    "\n",
    "    X_test['A4' + '_' + category] = np.where(X_test['A4'] == category, 1, 0 )"
   ]
  },
  {
   "cell_type": "markdown",
   "metadata": {
    "papermill": {
     "duration": 0.086239,
     "end_time": "2022-04-19T12:24:04.861072",
     "exception": false,
     "start_time": "2022-04-19T12:24:04.774833",
     "status": "completed"
    },
    "pycharm": {
     "name": "#%% md\n"
    },
    "tags": []
   },
   "source": [
    "So in above, I looped over each top category, and with NumPy's `where()` method, created binary variables by placing a 1 if the observation showed the category, or 0 otherwise."
   ]
  },
  {
   "cell_type": "code",
   "execution_count": 29,
   "metadata": {
    "collapsed": false,
    "execution": {
     "iopub.execute_input": "2022-04-19T12:24:05.037050Z",
     "iopub.status.busy": "2022-04-19T12:24:05.036459Z",
     "iopub.status.idle": "2022-04-19T12:24:05.046892Z",
     "shell.execute_reply": "2022-04-19T12:24:05.046328Z",
     "shell.execute_reply.started": "2021-06-20T23:06:10.846923Z"
    },
    "jupyter": {
     "outputs_hidden": false
    },
    "papermill": {
     "duration": 0.099309,
     "end_time": "2022-04-19T12:24:05.046989",
     "exception": false,
     "start_time": "2022-04-19T12:24:04.947680",
     "status": "completed"
    },
    "pycharm": {
     "name": "#%%\n"
    },
    "tags": []
   },
   "outputs": [
    {
     "name": "stdout",
     "output_type": "stream",
     "text": [
      "        A4  A4_30-34  A4_25-29  A4_20-24  A4_10-14  A4_15-19\n",
      "18   30-34         1         0         0         0         0\n",
      "156  30-34         1         0         0         0         0\n",
      "235  25-29         0         1         0         0         0\n",
      "233  30-34         1         0         0         0         0\n",
      "234  25-29         0         1         0         0         0\n",
      "71   20-24         0         0         1         0         0\n",
      "246  30-34         1         0         0         0         0\n",
      "230  30-34         1         0         0         0         0\n",
      "272  30-34         1         0         0         0         0\n",
      "274  25-29         0         1         0         0         0\n"
     ]
    }
   ],
   "source": [
    "#  Let's print the top 10 rows of the original and encoded variable, A4, in the train set:\n",
    "print(X_train[['A4'] + ['A4' + '_' + c for c in top_5_A4]].head(10))"
   ]
  },
  {
   "cell_type": "markdown",
   "metadata": {
    "papermill": {
     "duration": 0.086372,
     "end_time": "2022-04-19T12:24:05.219752",
     "exception": false,
     "start_time": "2022-04-19T12:24:05.133380",
     "status": "completed"
    },
    "pycharm": {
     "name": "#%% md\n"
    },
    "tags": []
   },
   "source": [
    "So in above, I named the new variables using the original variable name, A4, plus an underscore followed by the category name.\n",
    "\n",
    "#### Now, We can simplify the above procedures, that is, the one-hot encoding of frequent categories, with Feature-engine. First, let's load and divide the dataset."
   ]
  },
  {
   "cell_type": "code",
   "execution_count": 30,
   "metadata": {
    "collapsed": false,
    "execution": {
     "iopub.execute_input": "2022-04-19T12:24:05.422026Z",
     "iopub.status.busy": "2022-04-19T12:24:05.421114Z",
     "iopub.status.idle": "2022-04-19T12:24:05.445137Z",
     "shell.execute_reply": "2022-04-19T12:24:05.444504Z",
     "shell.execute_reply.started": "2021-06-20T23:06:10.863502Z"
    },
    "jupyter": {
     "outputs_hidden": false
    },
    "papermill": {
     "duration": 0.126731,
     "end_time": "2022-04-19T12:24:05.445278",
     "exception": false,
     "start_time": "2022-04-19T12:24:05.318547",
     "status": "completed"
    },
    "pycharm": {
     "name": "#%%\n"
    },
    "tags": []
   },
   "outputs": [
    {
     "data": {
      "text/html": [
       "<div>\n",
       "<style scoped>\n",
       "    .dataframe tbody tr th:only-of-type {\n",
       "        vertical-align: middle;\n",
       "    }\n",
       "\n",
       "    .dataframe tbody tr th {\n",
       "        vertical-align: top;\n",
       "    }\n",
       "\n",
       "    .dataframe thead th {\n",
       "        text-align: right;\n",
       "    }\n",
       "</style>\n",
       "<table border=\"1\" class=\"dataframe\">\n",
       "  <thead>\n",
       "    <tr style=\"text-align: right;\">\n",
       "      <th></th>\n",
       "      <th>A1</th>\n",
       "      <th>A2</th>\n",
       "      <th>A3</th>\n",
       "      <th>A5</th>\n",
       "      <th>A6</th>\n",
       "      <th>A7</th>\n",
       "      <th>A8</th>\n",
       "      <th>A9</th>\n",
       "      <th>A4_30-34</th>\n",
       "      <th>A4_25-29</th>\n",
       "      <th>A4_20-24</th>\n",
       "      <th>A4_10-14</th>\n",
       "      <th>A4_15-19</th>\n",
       "    </tr>\n",
       "  </thead>\n",
       "  <tbody>\n",
       "    <tr>\n",
       "      <th>18</th>\n",
       "      <td>no-recurrence-events</td>\n",
       "      <td>50-59</td>\n",
       "      <td>ge40</td>\n",
       "      <td>0-2</td>\n",
       "      <td>no</td>\n",
       "      <td>1.0</td>\n",
       "      <td>right</td>\n",
       "      <td>right_up</td>\n",
       "      <td>1</td>\n",
       "      <td>0</td>\n",
       "      <td>0</td>\n",
       "      <td>0</td>\n",
       "      <td>0</td>\n",
       "    </tr>\n",
       "    <tr>\n",
       "      <th>156</th>\n",
       "      <td>no-recurrence-events</td>\n",
       "      <td>50-59</td>\n",
       "      <td>premeno</td>\n",
       "      <td>0-2</td>\n",
       "      <td>no</td>\n",
       "      <td>1.0</td>\n",
       "      <td>left</td>\n",
       "      <td>central</td>\n",
       "      <td>1</td>\n",
       "      <td>0</td>\n",
       "      <td>0</td>\n",
       "      <td>0</td>\n",
       "      <td>0</td>\n",
       "    </tr>\n",
       "    <tr>\n",
       "      <th>235</th>\n",
       "      <td>recurrence-events</td>\n",
       "      <td>40-49</td>\n",
       "      <td>premeno</td>\n",
       "      <td>0-2</td>\n",
       "      <td>no</td>\n",
       "      <td>2.0</td>\n",
       "      <td>right</td>\n",
       "      <td>left_low</td>\n",
       "      <td>0</td>\n",
       "      <td>1</td>\n",
       "      <td>0</td>\n",
       "      <td>0</td>\n",
       "      <td>0</td>\n",
       "    </tr>\n",
       "    <tr>\n",
       "      <th>233</th>\n",
       "      <td>recurrence-events</td>\n",
       "      <td>60-69</td>\n",
       "      <td>ge40</td>\n",
       "      <td>0-2</td>\n",
       "      <td>no</td>\n",
       "      <td>3.0</td>\n",
       "      <td>right</td>\n",
       "      <td>left_up</td>\n",
       "      <td>1</td>\n",
       "      <td>0</td>\n",
       "      <td>0</td>\n",
       "      <td>0</td>\n",
       "      <td>0</td>\n",
       "    </tr>\n",
       "    <tr>\n",
       "      <th>234</th>\n",
       "      <td>recurrence-events</td>\n",
       "      <td>50-59</td>\n",
       "      <td>premeno</td>\n",
       "      <td>3-5</td>\n",
       "      <td>yes</td>\n",
       "      <td>3.0</td>\n",
       "      <td>left</td>\n",
       "      <td>left_low</td>\n",
       "      <td>0</td>\n",
       "      <td>1</td>\n",
       "      <td>0</td>\n",
       "      <td>0</td>\n",
       "      <td>0</td>\n",
       "    </tr>\n",
       "  </tbody>\n",
       "</table>\n",
       "</div>"
      ],
      "text/plain": [
       "                       A1     A2       A3   A5   A6   A7     A8        A9  \\\n",
       "18   no-recurrence-events  50-59     ge40  0-2   no  1.0  right  right_up   \n",
       "156  no-recurrence-events  50-59  premeno  0-2   no  1.0   left   central   \n",
       "235     recurrence-events  40-49  premeno  0-2   no  2.0  right  left_low   \n",
       "233     recurrence-events  60-69     ge40  0-2   no  3.0  right   left_up   \n",
       "234     recurrence-events  50-59  premeno  3-5  yes  3.0   left  left_low   \n",
       "\n",
       "     A4_30-34  A4_25-29  A4_20-24  A4_10-14  A4_15-19  \n",
       "18          1         0         0         0         0  \n",
       "156         1         0         0         0         0  \n",
       "235         0         1         0         0         0  \n",
       "233         1         0         0         0         0  \n",
       "234         0         1         0         0         0  "
      ]
     },
     "execution_count": 30,
     "metadata": {},
     "output_type": "execute_result"
    }
   ],
   "source": [
    "# one_hot_enc_feature_engine_top_5 = ce.OneHotCategoricalEncoder(top_categories=5, variables=['A4'], drop_last=False)\n",
    "one_hot_enc_feature_engine_top_5 = ohe(top_categories=5, variables=['A4'], drop_last=False)\n",
    "\n",
    "# Let's fit the encoder to the train set so that it learns and stores the most frequent categories of A4\n",
    "\n",
    "one_hot_enc_feature_engine_top_5.fit(X_train)\n",
    "\n",
    "X_train_enc_feature_engine_top_5 = one_hot_enc_feature_engine_top_5.transform(X_train)\n",
    "\n",
    "X_test_enc_feature_engine_top_5 = one_hot_enc_feature_engine_top_5.transform(X_test)\n",
    "\n",
    "# Now finally new binary variables in the dataframe executing below\n",
    "X_train_enc_feature_engine_top_5.head()"
   ]
  },
  {
   "cell_type": "markdown",
   "metadata": {
    "papermill": {
     "duration": 0.093602,
     "end_time": "2022-04-19T12:24:05.633424",
     "exception": false,
     "start_time": "2022-04-19T12:24:05.539822",
     "status": "completed"
    },
    "pycharm": {
     "name": "#%% md\n"
    },
    "tags": []
   },
   "source": [
    "Feature-engine replaces the original variable with the binary ones returned by one-hot encoding, leaving the dataset ready to use in machine learning.\n",
    "\n",
    "I could also perform one-hot encoding of the five most popular categories using scikit-learn's `OneHotEncoder()` function. To do this, I need to pass a list of lists or an array of values to the categories argument where each list or each row of the array holds the top five categories expected in the relevant variable.\n",
    "\n",
    "---\n",
    "\n",
    "\n",
    "# Replacing categories with ordinal numbers\n",
    "\n",
    "Ordinal encoding consists of replacing the categories with digits from 1 to k (or 0 to k-1, depending on the implementation), where k is the number of distinct categories of the variable. The numbers are assigned arbitrarily. Ordinal encoding is better suited for non-linear machine learning models, which can navigate through the arbitrarily assigned digits to try and find patterns that relate to the target.\n",
    "\n",
    "Now we will perform ordinal encoding using pandas, scikit-learn, and Feature-engine."
   ]
  },
  {
   "cell_type": "code",
   "execution_count": 31,
   "metadata": {
    "collapsed": false,
    "execution": {
     "iopub.execute_input": "2022-04-19T12:24:05.816300Z",
     "iopub.status.busy": "2022-04-19T12:24:05.815477Z",
     "iopub.status.idle": "2022-04-19T12:24:05.831054Z",
     "shell.execute_reply": "2022-04-19T12:24:05.831633Z",
     "shell.execute_reply.started": "2021-06-20T23:06:10.901683Z"
    },
    "jupyter": {
     "outputs_hidden": false
    },
    "papermill": {
     "duration": 0.108696,
     "end_time": "2022-04-19T12:24:05.831772",
     "exception": false,
     "start_time": "2022-04-19T12:24:05.723076",
     "status": "completed"
    },
    "pycharm": {
     "name": "#%%\n"
    },
    "tags": []
   },
   "outputs": [
    {
     "data": {
      "text/html": [
       "<div>\n",
       "<style scoped>\n",
       "    .dataframe tbody tr th:only-of-type {\n",
       "        vertical-align: middle;\n",
       "    }\n",
       "\n",
       "    .dataframe tbody tr th {\n",
       "        vertical-align: top;\n",
       "    }\n",
       "\n",
       "    .dataframe thead th {\n",
       "        text-align: right;\n",
       "    }\n",
       "</style>\n",
       "<table border=\"1\" class=\"dataframe\">\n",
       "  <thead>\n",
       "    <tr style=\"text-align: right;\">\n",
       "      <th></th>\n",
       "      <th>A1</th>\n",
       "      <th>A2</th>\n",
       "      <th>A3</th>\n",
       "      <th>A4</th>\n",
       "      <th>A5</th>\n",
       "      <th>A6</th>\n",
       "      <th>A7</th>\n",
       "      <th>A8</th>\n",
       "      <th>A9</th>\n",
       "    </tr>\n",
       "  </thead>\n",
       "  <tbody>\n",
       "    <tr>\n",
       "      <th>18</th>\n",
       "      <td>no-recurrence-events</td>\n",
       "      <td>50-59</td>\n",
       "      <td>ge40</td>\n",
       "      <td>30-34</td>\n",
       "      <td>0-2</td>\n",
       "      <td>no</td>\n",
       "      <td>1.0</td>\n",
       "      <td>right</td>\n",
       "      <td>right_up</td>\n",
       "    </tr>\n",
       "    <tr>\n",
       "      <th>156</th>\n",
       "      <td>no-recurrence-events</td>\n",
       "      <td>50-59</td>\n",
       "      <td>premeno</td>\n",
       "      <td>30-34</td>\n",
       "      <td>0-2</td>\n",
       "      <td>no</td>\n",
       "      <td>1.0</td>\n",
       "      <td>left</td>\n",
       "      <td>central</td>\n",
       "    </tr>\n",
       "    <tr>\n",
       "      <th>235</th>\n",
       "      <td>recurrence-events</td>\n",
       "      <td>40-49</td>\n",
       "      <td>premeno</td>\n",
       "      <td>25-29</td>\n",
       "      <td>0-2</td>\n",
       "      <td>no</td>\n",
       "      <td>2.0</td>\n",
       "      <td>right</td>\n",
       "      <td>left_low</td>\n",
       "    </tr>\n",
       "    <tr>\n",
       "      <th>233</th>\n",
       "      <td>recurrence-events</td>\n",
       "      <td>60-69</td>\n",
       "      <td>ge40</td>\n",
       "      <td>30-34</td>\n",
       "      <td>0-2</td>\n",
       "      <td>no</td>\n",
       "      <td>3.0</td>\n",
       "      <td>right</td>\n",
       "      <td>left_up</td>\n",
       "    </tr>\n",
       "    <tr>\n",
       "      <th>234</th>\n",
       "      <td>recurrence-events</td>\n",
       "      <td>50-59</td>\n",
       "      <td>premeno</td>\n",
       "      <td>25-29</td>\n",
       "      <td>3-5</td>\n",
       "      <td>yes</td>\n",
       "      <td>3.0</td>\n",
       "      <td>left</td>\n",
       "      <td>left_low</td>\n",
       "    </tr>\n",
       "  </tbody>\n",
       "</table>\n",
       "</div>"
      ],
      "text/plain": [
       "                       A1     A2       A3     A4   A5   A6   A7     A8  \\\n",
       "18   no-recurrence-events  50-59     ge40  30-34  0-2   no  1.0  right   \n",
       "156  no-recurrence-events  50-59  premeno  30-34  0-2   no  1.0   left   \n",
       "235     recurrence-events  40-49  premeno  25-29  0-2   no  2.0  right   \n",
       "233     recurrence-events  60-69     ge40  30-34  0-2   no  3.0  right   \n",
       "234     recurrence-events  50-59  premeno  25-29  3-5  yes  3.0   left   \n",
       "\n",
       "           A9  \n",
       "18   right_up  \n",
       "156   central  \n",
       "235  left_low  \n",
       "233   left_up  \n",
       "234  left_low  "
      ]
     },
     "execution_count": 31,
     "metadata": {},
     "output_type": "execute_result"
    }
   ],
   "source": [
    "# Let's load a clean version of the data again and split it for train and test\n",
    "X_train, X_test, y_train, y_test = train_test_split(breast_cancer_df.drop(labels=['A10'], axis=1), breast_cancer_df['A10'], test_size=0.3, random_state=0)\n",
    "\n",
    "# Lets' look at the train data again\n",
    "X_train.head()"
   ]
  },
  {
   "cell_type": "code",
   "execution_count": 32,
   "metadata": {
    "collapsed": false,
    "execution": {
     "iopub.execute_input": "2022-04-19T12:24:06.015314Z",
     "iopub.status.busy": "2022-04-19T12:24:06.014755Z",
     "iopub.status.idle": "2022-04-19T12:24:06.020834Z",
     "shell.execute_reply": "2022-04-19T12:24:06.021216Z",
     "shell.execute_reply.started": "2021-06-20T23:06:10.938781Z"
    },
    "jupyter": {
     "outputs_hidden": false
    },
    "papermill": {
     "duration": 0.100513,
     "end_time": "2022-04-19T12:24:06.021368",
     "exception": false,
     "start_time": "2022-04-19T12:24:05.920855",
     "status": "completed"
    },
    "pycharm": {
     "name": "#%%\n"
    },
    "tags": []
   },
   "outputs": [
    {
     "data": {
      "text/plain": [
       "{'30-34': 0,\n",
       " '25-29': 1,\n",
       " '20-24': 2,\n",
       " '50-54': 3,\n",
       " '10-14': 4,\n",
       " '15-19': 5,\n",
       " '40-44': 6,\n",
       " '5-9': 7,\n",
       " '0-4': 8,\n",
       " '35-39': 9,\n",
       " '45-49': 10}"
      ]
     },
     "execution_count": 32,
     "metadata": {},
     "output_type": "execute_result"
    }
   ],
   "source": [
    "# Let's encode the A4 variable for this demonstration. First, let's make a dictionary of category to integer pairs and then display the result:\n",
    "\n",
    "ordinal_mapping = {k: i for i, k in enumerate(\n",
    "    X_train['A4'].unique(), 0)}\n",
    "ordinal_mapping\n"
   ]
  },
  {
   "cell_type": "markdown",
   "metadata": {
    "papermill": {
     "duration": 0.059973,
     "end_time": "2022-04-19T12:24:06.141871",
     "exception": false,
     "start_time": "2022-04-19T12:24:06.081898",
     "status": "completed"
    },
    "pycharm": {
     "name": "#%% md\n"
    },
    "tags": []
   },
   "source": [
    "Above we can see the digits that will replace each unique category in the following\n",
    "\n",
    "The enumerate() function takes a collection (e.g. a tuple) and returns it as an enumerate object. The enumerate() function adds a counter to an iterable as the key of the enumerate object.\n",
    "This function is used when dealing with iterators, we also get a need to keep a count of iterations.\n",
    "\n",
    "```python\n",
    "l1 = [\"eat\",\"sleep\",\"repeat\"]\n",
    "print(list(enumerate(l1)))\n",
    "# [(0, 'eat'), (1, 'sleep'), (2, 'repeat')]\n",
    "```\n",
    "#### Now, let's replace the categories with numbers in the original variables:"
   ]
  },
  {
   "cell_type": "code",
   "execution_count": 33,
   "metadata": {
    "collapsed": false,
    "execution": {
     "iopub.execute_input": "2022-04-19T12:24:06.269017Z",
     "iopub.status.busy": "2022-04-19T12:24:06.268473Z",
     "iopub.status.idle": "2022-04-19T12:24:06.277466Z",
     "shell.execute_reply": "2022-04-19T12:24:06.277983Z",
     "shell.execute_reply.started": "2021-06-20T23:06:10.94997Z"
    },
    "jupyter": {
     "outputs_hidden": false
    },
    "papermill": {
     "duration": 0.074185,
     "end_time": "2022-04-19T12:24:06.278116",
     "exception": false,
     "start_time": "2022-04-19T12:24:06.203931",
     "status": "completed"
    },
    "pycharm": {
     "name": "#%%\n"
    },
    "tags": []
   },
   "outputs": [
    {
     "data": {
      "text/plain": [
       "18     0\n",
       "156    0\n",
       "235    1\n",
       "233    0\n",
       "234    1\n",
       "71     2\n",
       "246    0\n",
       "230    0\n",
       "272    0\n",
       "274    1\n",
       "Name: A4, dtype: int64"
      ]
     },
     "execution_count": 33,
     "metadata": {},
     "output_type": "execute_result"
    }
   ],
   "source": [
    "X_train['A4'] = X_train['A4'].map(ordinal_mapping)\n",
    "X_test['A4'] = X_test['A4'].map(ordinal_mapping)\n",
    "\n",
    "# Print X_train to see its structure now\n",
    "X_train['A4'].head(10)"
   ]
  },
  {
   "cell_type": "code",
   "execution_count": 34,
   "metadata": {
    "collapsed": false,
    "execution": {
     "iopub.execute_input": "2022-04-19T12:24:06.414256Z",
     "iopub.status.busy": "2022-04-19T12:24:06.413393Z",
     "iopub.status.idle": "2022-04-19T12:24:06.427261Z",
     "shell.execute_reply": "2022-04-19T12:24:06.426669Z",
     "shell.execute_reply.started": "2021-06-20T23:06:10.968602Z"
    },
    "jupyter": {
     "outputs_hidden": false
    },
    "papermill": {
     "duration": 0.079282,
     "end_time": "2022-04-19T12:24:06.427403",
     "exception": false,
     "start_time": "2022-04-19T12:24:06.348121",
     "status": "completed"
    },
    "pycharm": {
     "name": "#%%\n"
    },
    "tags": []
   },
   "outputs": [
    {
     "data": {
      "text/plain": [
       "array([[3., 0., 0.],\n",
       "       [3., 0., 0.],\n",
       "       [2., 1., 0.],\n",
       "       [4., 0., 0.],\n",
       "       [3., 1., 4.],\n",
       "       [4., 2., 0.],\n",
       "       [3., 0., 6.],\n",
       "       [2., 0., 4.],\n",
       "       [4., 0., 0.],\n",
       "       [2., 1., 6.]])"
      ]
     },
     "execution_count": 34,
     "metadata": {},
     "output_type": "execute_result"
    }
   ],
   "source": [
    "# Now note we have already defined earlier a list with the categorical variables to encode:\n",
    "# Lets re-define it again with a slight modification by removing some of the Columns that has string value.\n",
    "vars_categorical = ['A2', 'A4', 'A5' ]\n",
    "\n",
    "# Let's start the ordinal encoder:\n",
    "le = OrdinalEncoder()\n",
    "\n",
    "# Let's fit the encoder to the slice of the train set with the categorical variables so that it creates and stores representations of categories to digits:\n",
    "le.fit(X_train[vars_categorical])\n",
    "\n",
    "# Scikit-learn's OrdinalEncoder() function will encode the entire dataset. To encode only a selection of variables, we need to slice the dataframe . Alternatively, we can use scikit-learn's ColumnTransformer().\n",
    "\n",
    "# Now let's encode the categorical variables in the train and test sets:\n",
    "X_train_encoded = le.fit_transform(X_train[vars_categorical])\n",
    "X_test_encoded = le.transform(X_test[vars_categorical])\n",
    "\n",
    "X_train_encoded[:10]"
   ]
  },
  {
   "cell_type": "markdown",
   "metadata": {
    "papermill": {
     "duration": 0.098706,
     "end_time": "2022-04-19T12:24:06.616831",
     "exception": false,
     "start_time": "2022-04-19T12:24:06.518125",
     "status": "completed"
    },
    "pycharm": {
     "name": "#%% md\n"
    },
    "tags": []
   },
   "source": [
    "Remember scikit-learn returns a NumPy array and NOT a DataFrame, so with the above I can not use the `head()` function.\n",
    "\n",
    "# Now ordinal encoding with Feature-engine.\n",
    "\n",
    "First, let's load and divide the dataset as earlier.\n",
    "\n",
    "Let's create an ordinal encoder that replaces categories with numbers arbitrarily and encodes the **categorical variables** we defined earlier."
   ]
  },
  {
   "cell_type": "code",
   "execution_count": 35,
   "metadata": {
    "collapsed": false,
    "execution": {
     "iopub.execute_input": "2022-04-19T12:24:06.807817Z",
     "iopub.status.busy": "2022-04-19T12:24:06.806987Z",
     "iopub.status.idle": "2022-04-19T12:24:06.810444Z",
     "shell.execute_reply": "2022-04-19T12:24:06.810958Z",
     "shell.execute_reply.started": "2021-06-20T23:06:10.992493Z"
    },
    "jupyter": {
     "outputs_hidden": false
    },
    "papermill": {
     "duration": 0.102293,
     "end_time": "2022-04-19T12:24:06.811076",
     "exception": false,
     "start_time": "2022-04-19T12:24:06.708783",
     "status": "completed"
    },
    "pycharm": {
     "name": "#%%\n"
    },
    "tags": []
   },
   "outputs": [
    {
     "data": {
      "text/plain": [
       "'\\nThe OrdinalCategoricalEncoder() replaces categories by ordinal numbers (0, 1, 2, 3, etc). The numbers can be ordered based on the mean of the target per category, or assigned arbitrarily.\\n'"
      ]
     },
     "execution_count": 35,
     "metadata": {},
     "output_type": "execute_result"
    }
   ],
   "source": [
    "ordinal_encoder_feature_engine = oe(encoding_method='arbitrary', variables=vars_categorical)\n",
    "\n",
    "'''\n",
    "The OrdinalCategoricalEncoder() replaces categories by ordinal numbers (0, 1, 2, 3, etc). The numbers can be ordered based on the mean of the target per category, or assigned arbitrarily.\n",
    "'''"
   ]
  },
  {
   "cell_type": "markdown",
   "metadata": {
    "papermill": {
     "duration": 0.090251,
     "end_time": "2022-04-19T12:24:06.991663",
     "exception": false,
     "start_time": "2022-04-19T12:24:06.901412",
     "status": "completed"
    },
    "pycharm": {
     "name": "#%% md\n"
    },
    "tags": []
   },
   "source": [
    "#### A very Important Note - categorical encoders work only with object type variables. So to treat numerical variables as categorical, we need to re-cast them as Object\n",
    "\n",
    "```python\n",
    "\n",
    "# make a list of discrete variables\n",
    "\n",
    "discrete = [ var for var in numerical if len(data[var].unique()) < 20]\n",
    "\n",
    "data[discrete]= data[discrete].astype('O')\n",
    "\n",
    "```\n",
    "Source - https://www.trainindatablog.com/feature-engine-a-new-open-source-python-package-for-feature-engineering/\n"
   ]
  },
  {
   "cell_type": "code",
   "execution_count": 36,
   "metadata": {
    "collapsed": false,
    "execution": {
     "iopub.execute_input": "2022-04-19T12:24:07.141126Z",
     "iopub.status.busy": "2022-04-19T12:24:07.140467Z",
     "iopub.status.idle": "2022-04-19T12:24:07.151910Z",
     "shell.execute_reply": "2022-04-19T12:24:07.152468Z",
     "shell.execute_reply.started": "2021-06-20T23:06:11.00921Z"
    },
    "jupyter": {
     "outputs_hidden": false
    },
    "papermill": {
     "duration": 0.078808,
     "end_time": "2022-04-19T12:24:07.152603",
     "exception": false,
     "start_time": "2022-04-19T12:24:07.073795",
     "status": "completed"
    },
    "pycharm": {
     "name": "#%%\n"
    },
    "tags": []
   },
   "outputs": [
    {
     "data": {
      "text/plain": [
       "OrdinalEncoder(encoding_method='arbitrary', variables=['A2', 'A4', 'A5'])"
      ]
     },
     "execution_count": 36,
     "metadata": {},
     "output_type": "execute_result"
    }
   ],
   "source": [
    "X_train = X_train[vars_categorical].astype('O')\n",
    "X_test = X_train[vars_categorical].astype('O')\n",
    "\n",
    "# Let's fit the encoder to the train set so that it learns and stores the category-to-digit mappings:\n",
    "ordinal_encoder_feature_engine.fit(X_train)\n"
   ]
  },
  {
   "cell_type": "markdown",
   "metadata": {
    "papermill": {
     "duration": 0.091626,
     "end_time": "2022-04-19T12:24:07.341416",
     "exception": false,
     "start_time": "2022-04-19T12:24:07.249790",
     "status": "completed"
    },
    "pycharm": {
     "name": "#%% md\n"
    },
    "tags": []
   },
   "source": [
    "#### The category to digit mappings are stored in the `encoder_dict_attribute` and can be accessed by executing `ordinal_encoder_feature_engine.encoder_dict_`\n",
    "\n",
    "###  Finally, let's encode the categorical variables in the train and test sets:"
   ]
  },
  {
   "cell_type": "code",
   "execution_count": 37,
   "metadata": {
    "collapsed": false,
    "execution": {
     "iopub.execute_input": "2022-04-19T12:24:07.550239Z",
     "iopub.status.busy": "2022-04-19T12:24:07.549522Z",
     "iopub.status.idle": "2022-04-19T12:24:07.558511Z",
     "shell.execute_reply": "2022-04-19T12:24:07.559060Z",
     "shell.execute_reply.started": "2021-06-20T23:06:11.03291Z"
    },
    "jupyter": {
     "outputs_hidden": false
    },
    "papermill": {
     "duration": 0.121738,
     "end_time": "2022-04-19T12:24:07.559205",
     "exception": false,
     "start_time": "2022-04-19T12:24:07.437467",
     "status": "completed"
    },
    "pycharm": {
     "name": "#%%\n"
    },
    "tags": []
   },
   "outputs": [
    {
     "data": {
      "text/html": [
       "<div>\n",
       "<style scoped>\n",
       "    .dataframe tbody tr th:only-of-type {\n",
       "        vertical-align: middle;\n",
       "    }\n",
       "\n",
       "    .dataframe tbody tr th {\n",
       "        vertical-align: top;\n",
       "    }\n",
       "\n",
       "    .dataframe thead th {\n",
       "        text-align: right;\n",
       "    }\n",
       "</style>\n",
       "<table border=\"1\" class=\"dataframe\">\n",
       "  <thead>\n",
       "    <tr style=\"text-align: right;\">\n",
       "      <th></th>\n",
       "      <th>A2</th>\n",
       "      <th>A4</th>\n",
       "      <th>A5</th>\n",
       "    </tr>\n",
       "  </thead>\n",
       "  <tbody>\n",
       "    <tr>\n",
       "      <th>18</th>\n",
       "      <td>0</td>\n",
       "      <td>0</td>\n",
       "      <td>0</td>\n",
       "    </tr>\n",
       "    <tr>\n",
       "      <th>156</th>\n",
       "      <td>0</td>\n",
       "      <td>0</td>\n",
       "      <td>0</td>\n",
       "    </tr>\n",
       "    <tr>\n",
       "      <th>235</th>\n",
       "      <td>1</td>\n",
       "      <td>1</td>\n",
       "      <td>0</td>\n",
       "    </tr>\n",
       "    <tr>\n",
       "      <th>233</th>\n",
       "      <td>2</td>\n",
       "      <td>0</td>\n",
       "      <td>0</td>\n",
       "    </tr>\n",
       "    <tr>\n",
       "      <th>234</th>\n",
       "      <td>0</td>\n",
       "      <td>1</td>\n",
       "      <td>1</td>\n",
       "    </tr>\n",
       "  </tbody>\n",
       "</table>\n",
       "</div>"
      ],
      "text/plain": [
       "     A2  A4  A5\n",
       "18    0   0   0\n",
       "156   0   0   0\n",
       "235   1   1   0\n",
       "233   2   0   0\n",
       "234   0   1   1"
      ]
     },
     "execution_count": 37,
     "metadata": {},
     "output_type": "execute_result"
    }
   ],
   "source": [
    "X_train = ordinal_encoder_feature_engine.transform(X_train)\n",
    "X_test = ordinal_encoder_feature_engine.transform(X_test)\n",
    "\n",
    "X_train.head()"
   ]
  },
  {
   "cell_type": "markdown",
   "metadata": {
    "papermill": {
     "duration": 0.093161,
     "end_time": "2022-04-19T12:24:07.746059",
     "exception": false,
     "start_time": "2022-04-19T12:24:07.652898",
     "status": "completed"
    },
    "pycharm": {
     "name": "#%% md\n"
    },
    "tags": []
   },
   "source": [
    "With the `fit()` method, the transformer assigned an integer to each category of each variable in the train set. With the `transform()` method, the categories were replaced with integers, returning a NumPy array.\n",
    "\n",
    "Feature-engine returns pandas dataframes where the values of the original variables are replaced with numbers, leaving the dataframe ready to use in machine learning models.\n",
    "\n"
   ]
  },
  {
   "cell_type": "markdown",
   "metadata": {
    "papermill": {
     "duration": 0.092249,
     "end_time": "2022-04-19T12:24:07.935883",
     "exception": false,
     "start_time": "2022-04-19T12:24:07.843634",
     "status": "completed"
    },
    "tags": []
   },
   "source": [
    "# Dummy Coding\n",
    "\n",
    "The problem with one-hot encoding is that it allows for k degrees of freedom, while the variable itself needs only k–1. Dummy coding2 removes the extra degree of free‐\n",
    "dom by using only k–1 features in the representation (see Table 5-2). One feature is thrown under the bus and represented by the vector of all zeros. This is known as the\n",
    "reference category. Dummy coding and one-hot encoding are both implemented in Pandas as `pandas.get_dummies`.\n",
    "\n",
    "The outcome of modeling with dummy coding is more interpretable than with one-hot encoding. This is easy to see in a simple linear regression problem. Suppose we have some data about apartment rental prices in three cities: 'Sydney', 'Perth' and 'Brisbane'\n",
    "\n",
    "\n",
    "We can train a linear regressor to predict rental price based solely on the identity of the city\n",
    "\n",
    "The linear regression model can be written as:\n",
    "\n",
    "$$y = w_1x_1 + ... + w_nx_n$$\n",
    "\n",
    "It is customary to fit an extra constant term called the intercept, so that y can be a nonzero value when the x’s are zeros:\n",
    "\n",
    "$$y = w_1x_1 + ... + w_nx_n + b$$\n",
    "\n"
   ]
  },
  {
   "cell_type": "code",
   "execution_count": 38,
   "metadata": {
    "execution": {
     "iopub.execute_input": "2022-04-19T12:24:08.126935Z",
     "iopub.status.busy": "2022-04-19T12:24:08.126032Z",
     "iopub.status.idle": "2022-04-19T12:24:08.136930Z",
     "shell.execute_reply": "2022-04-19T12:24:08.137518Z",
     "shell.execute_reply.started": "2021-06-20T23:06:11.059904Z"
    },
    "papermill": {
     "duration": 0.110182,
     "end_time": "2022-04-19T12:24:08.137649",
     "exception": false,
     "start_time": "2022-04-19T12:24:08.027467",
     "status": "completed"
    },
    "tags": []
   },
   "outputs": [
    {
     "data": {
      "text/html": [
       "<div>\n",
       "<style scoped>\n",
       "    .dataframe tbody tr th:only-of-type {\n",
       "        vertical-align: middle;\n",
       "    }\n",
       "\n",
       "    .dataframe tbody tr th {\n",
       "        vertical-align: top;\n",
       "    }\n",
       "\n",
       "    .dataframe thead th {\n",
       "        text-align: right;\n",
       "    }\n",
       "</style>\n",
       "<table border=\"1\" class=\"dataframe\">\n",
       "  <thead>\n",
       "    <tr style=\"text-align: right;\">\n",
       "      <th></th>\n",
       "      <th>City</th>\n",
       "      <th>Rent</th>\n",
       "    </tr>\n",
       "  </thead>\n",
       "  <tbody>\n",
       "    <tr>\n",
       "      <th>0</th>\n",
       "      <td>Sydney</td>\n",
       "      <td>3999</td>\n",
       "    </tr>\n",
       "    <tr>\n",
       "      <th>1</th>\n",
       "      <td>Sydney</td>\n",
       "      <td>4000</td>\n",
       "    </tr>\n",
       "    <tr>\n",
       "      <th>2</th>\n",
       "      <td>Sydney</td>\n",
       "      <td>4001</td>\n",
       "    </tr>\n",
       "    <tr>\n",
       "      <th>3</th>\n",
       "      <td>Perth</td>\n",
       "      <td>3499</td>\n",
       "    </tr>\n",
       "    <tr>\n",
       "      <th>4</th>\n",
       "      <td>Perth</td>\n",
       "      <td>3500</td>\n",
       "    </tr>\n",
       "    <tr>\n",
       "      <th>5</th>\n",
       "      <td>Perth</td>\n",
       "      <td>3501</td>\n",
       "    </tr>\n",
       "    <tr>\n",
       "      <th>6</th>\n",
       "      <td>Brisbane</td>\n",
       "      <td>2499</td>\n",
       "    </tr>\n",
       "    <tr>\n",
       "      <th>7</th>\n",
       "      <td>Brisbane</td>\n",
       "      <td>2500</td>\n",
       "    </tr>\n",
       "    <tr>\n",
       "      <th>8</th>\n",
       "      <td>Brisbane</td>\n",
       "      <td>2501</td>\n",
       "    </tr>\n",
       "  </tbody>\n",
       "</table>\n",
       "</div>"
      ],
      "text/plain": [
       "       City  Rent\n",
       "0    Sydney  3999\n",
       "1    Sydney  4000\n",
       "2    Sydney  4001\n",
       "3     Perth  3499\n",
       "4     Perth  3500\n",
       "5     Perth  3501\n",
       "6  Brisbane  2499\n",
       "7  Brisbane  2500\n",
       "8  Brisbane  2501"
      ]
     },
     "execution_count": 38,
     "metadata": {},
     "output_type": "execute_result"
    }
   ],
   "source": [
    "df = pd.DataFrame({'City': ['Sydney', 'Sydney', 'Sydney', 'Perth', 'Perth', 'Perth', 'Brisbane', 'Brisbane', 'Brisbane'],\n",
    "                   'Rent': [3999, 4000, 4001, 3499, 3500, 3501, 2499, 2500, 2501]})\n",
    "df"
   ]
  },
  {
   "cell_type": "code",
   "execution_count": 39,
   "metadata": {
    "execution": {
     "iopub.execute_input": "2022-04-19T12:24:08.325850Z",
     "iopub.status.busy": "2022-04-19T12:24:08.325024Z",
     "iopub.status.idle": "2022-04-19T12:24:08.335897Z",
     "shell.execute_reply": "2022-04-19T12:24:08.336457Z",
     "shell.execute_reply.started": "2021-06-20T23:06:11.079195Z"
    },
    "papermill": {
     "duration": 0.1052,
     "end_time": "2022-04-19T12:24:08.336588",
     "exception": false,
     "start_time": "2022-04-19T12:24:08.231388",
     "status": "completed"
    },
    "tags": []
   },
   "outputs": [
    {
     "data": {
      "text/html": [
       "<div>\n",
       "<style scoped>\n",
       "    .dataframe tbody tr th:only-of-type {\n",
       "        vertical-align: middle;\n",
       "    }\n",
       "\n",
       "    .dataframe tbody tr th {\n",
       "        vertical-align: top;\n",
       "    }\n",
       "\n",
       "    .dataframe thead th {\n",
       "        text-align: right;\n",
       "    }\n",
       "</style>\n",
       "<table border=\"1\" class=\"dataframe\">\n",
       "  <thead>\n",
       "    <tr style=\"text-align: right;\">\n",
       "      <th></th>\n",
       "      <th>Rent</th>\n",
       "      <th>city_Brisbane</th>\n",
       "      <th>city_Perth</th>\n",
       "      <th>city_Sydney</th>\n",
       "    </tr>\n",
       "  </thead>\n",
       "  <tbody>\n",
       "    <tr>\n",
       "      <th>0</th>\n",
       "      <td>3999</td>\n",
       "      <td>0</td>\n",
       "      <td>0</td>\n",
       "      <td>1</td>\n",
       "    </tr>\n",
       "    <tr>\n",
       "      <th>1</th>\n",
       "      <td>4000</td>\n",
       "      <td>0</td>\n",
       "      <td>0</td>\n",
       "      <td>1</td>\n",
       "    </tr>\n",
       "    <tr>\n",
       "      <th>2</th>\n",
       "      <td>4001</td>\n",
       "      <td>0</td>\n",
       "      <td>0</td>\n",
       "      <td>1</td>\n",
       "    </tr>\n",
       "    <tr>\n",
       "      <th>3</th>\n",
       "      <td>3499</td>\n",
       "      <td>0</td>\n",
       "      <td>1</td>\n",
       "      <td>0</td>\n",
       "    </tr>\n",
       "    <tr>\n",
       "      <th>4</th>\n",
       "      <td>3500</td>\n",
       "      <td>0</td>\n",
       "      <td>1</td>\n",
       "      <td>0</td>\n",
       "    </tr>\n",
       "    <tr>\n",
       "      <th>5</th>\n",
       "      <td>3501</td>\n",
       "      <td>0</td>\n",
       "      <td>1</td>\n",
       "      <td>0</td>\n",
       "    </tr>\n",
       "    <tr>\n",
       "      <th>6</th>\n",
       "      <td>2499</td>\n",
       "      <td>1</td>\n",
       "      <td>0</td>\n",
       "      <td>0</td>\n",
       "    </tr>\n",
       "    <tr>\n",
       "      <th>7</th>\n",
       "      <td>2500</td>\n",
       "      <td>1</td>\n",
       "      <td>0</td>\n",
       "      <td>0</td>\n",
       "    </tr>\n",
       "    <tr>\n",
       "      <th>8</th>\n",
       "      <td>2501</td>\n",
       "      <td>1</td>\n",
       "      <td>0</td>\n",
       "      <td>0</td>\n",
       "    </tr>\n",
       "  </tbody>\n",
       "</table>\n",
       "</div>"
      ],
      "text/plain": [
       "   Rent  city_Brisbane  city_Perth  city_Sydney\n",
       "0  3999              0           0            1\n",
       "1  4000              0           0            1\n",
       "2  4001              0           0            1\n",
       "3  3499              0           1            0\n",
       "4  3500              0           1            0\n",
       "5  3501              0           1            0\n",
       "6  2499              1           0            0\n",
       "7  2500              1           0            0\n",
       "8  2501              1           0            0"
      ]
     },
     "execution_count": 39,
     "metadata": {},
     "output_type": "execute_result"
    }
   ],
   "source": [
    "one_hot_df = pd.get_dummies(df, prefix=['city'])\n",
    "\n",
    "one_hot_df"
   ]
  },
  {
   "cell_type": "code",
   "execution_count": 40,
   "metadata": {
    "execution": {
     "iopub.execute_input": "2022-04-19T12:24:08.523932Z",
     "iopub.status.busy": "2022-04-19T12:24:08.523066Z",
     "iopub.status.idle": "2022-04-19T12:24:08.527220Z",
     "shell.execute_reply": "2022-04-19T12:24:08.527766Z",
     "shell.execute_reply.started": "2021-06-20T23:13:50.722928Z"
    },
    "papermill": {
     "duration": 0.099935,
     "end_time": "2022-04-19T12:24:08.527932",
     "exception": false,
     "start_time": "2022-04-19T12:24:08.427997",
     "status": "completed"
    },
    "tags": []
   },
   "outputs": [],
   "source": [
    "from sklearn import linear_model\n",
    "lin_reg = linear_model.LinearRegression()"
   ]
  },
  {
   "cell_type": "code",
   "execution_count": 41,
   "metadata": {
    "execution": {
     "iopub.execute_input": "2022-04-19T12:24:08.716923Z",
     "iopub.status.busy": "2022-04-19T12:24:08.716245Z",
     "iopub.status.idle": "2022-04-19T12:24:08.780019Z",
     "shell.execute_reply": "2022-04-19T12:24:08.779536Z",
     "shell.execute_reply.started": "2021-06-20T23:13:50.733214Z"
    },
    "papermill": {
     "duration": 0.158537,
     "end_time": "2022-04-19T12:24:08.780106",
     "exception": false,
     "start_time": "2022-04-19T12:24:08.621569",
     "status": "completed"
    },
    "tags": []
   },
   "outputs": [
    {
     "data": {
      "text/plain": [
       "LinearRegression()"
      ]
     },
     "execution_count": 41,
     "metadata": {},
     "output_type": "execute_result"
    }
   ],
   "source": [
    "lin_reg.fit(one_hot_df[['city_Perth', 'city_Sydney', 'city_Brisbane']], one_hot_df['Rent'])"
   ]
  },
  {
   "cell_type": "code",
   "execution_count": 42,
   "metadata": {
    "execution": {
     "iopub.execute_input": "2022-04-19T12:24:08.907250Z",
     "iopub.status.busy": "2022-04-19T12:24:08.906679Z",
     "iopub.status.idle": "2022-04-19T12:24:08.910677Z",
     "shell.execute_reply": "2022-04-19T12:24:08.911066Z",
     "shell.execute_reply.started": "2021-06-20T23:13:50.835992Z"
    },
    "papermill": {
     "duration": 0.069963,
     "end_time": "2022-04-19T12:24:08.911169",
     "exception": false,
     "start_time": "2022-04-19T12:24:08.841206",
     "status": "completed"
    },
    "tags": []
   },
   "outputs": [
    {
     "data": {
      "text/plain": [
       "array([ 166.66666667,  666.66666667, -833.33333333])"
      ]
     },
     "execution_count": 42,
     "metadata": {},
     "output_type": "execute_result"
    }
   ],
   "source": [
    "lin_reg.coef_"
   ]
  },
  {
   "cell_type": "code",
   "execution_count": 43,
   "metadata": {
    "execution": {
     "iopub.execute_input": "2022-04-19T12:24:09.040821Z",
     "iopub.status.busy": "2022-04-19T12:24:09.040240Z",
     "iopub.status.idle": "2022-04-19T12:24:09.044428Z",
     "shell.execute_reply": "2022-04-19T12:24:09.043983Z",
     "shell.execute_reply.started": "2021-06-20T23:13:50.847419Z"
    },
    "papermill": {
     "duration": 0.070397,
     "end_time": "2022-04-19T12:24:09.044518",
     "exception": false,
     "start_time": "2022-04-19T12:24:08.974121",
     "status": "completed"
    },
    "tags": []
   },
   "outputs": [
    {
     "data": {
      "text/plain": [
       "3333.3333333333335"
      ]
     },
     "execution_count": 43,
     "metadata": {},
     "output_type": "execute_result"
    }
   ],
   "source": [
    "lin_reg.intercept_"
   ]
  },
  {
   "cell_type": "code",
   "execution_count": 44,
   "metadata": {
    "execution": {
     "iopub.execute_input": "2022-04-19T12:24:09.173383Z",
     "iopub.status.busy": "2022-04-19T12:24:09.172873Z",
     "iopub.status.idle": "2022-04-19T12:24:09.175597Z",
     "shell.execute_reply": "2022-04-19T12:24:09.176048Z",
     "shell.execute_reply.started": "2021-06-20T23:13:50.861593Z"
    },
    "papermill": {
     "duration": 0.068262,
     "end_time": "2022-04-19T12:24:09.176171",
     "exception": false,
     "start_time": "2022-04-19T12:24:09.107909",
     "status": "completed"
    },
    "tags": []
   },
   "outputs": [],
   "source": [
    "# One-hot encoding weights + intercept\n",
    "w1 = lin_reg.coef_\n",
    "b1 = lin_reg.intercept_"
   ]
  },
  {
   "cell_type": "code",
   "execution_count": 45,
   "metadata": {
    "execution": {
     "iopub.execute_input": "2022-04-19T12:24:09.300692Z",
     "iopub.status.busy": "2022-04-19T12:24:09.300221Z",
     "iopub.status.idle": "2022-04-19T12:24:09.304826Z",
     "shell.execute_reply": "2022-04-19T12:24:09.305257Z",
     "shell.execute_reply.started": "2021-06-20T23:13:50.873268Z"
    },
    "papermill": {
     "duration": 0.06834,
     "end_time": "2022-04-19T12:24:09.305382",
     "exception": false,
     "start_time": "2022-04-19T12:24:09.237042",
     "status": "completed"
    },
    "tags": []
   },
   "outputs": [
    {
     "data": {
      "text/plain": [
       "3333.3333333333335"
      ]
     },
     "execution_count": 45,
     "metadata": {},
     "output_type": "execute_result"
    }
   ],
   "source": [
    "df['Rent'].mean()"
   ]
  },
  {
   "cell_type": "code",
   "execution_count": 46,
   "metadata": {
    "execution": {
     "iopub.execute_input": "2022-04-19T12:24:09.429979Z",
     "iopub.status.busy": "2022-04-19T12:24:09.429541Z",
     "iopub.status.idle": "2022-04-19T12:24:09.439739Z",
     "shell.execute_reply": "2022-04-19T12:24:09.440175Z",
     "shell.execute_reply.started": "2021-06-20T23:13:50.889645Z"
    },
    "papermill": {
     "duration": 0.074114,
     "end_time": "2022-04-19T12:24:09.440277",
     "exception": false,
     "start_time": "2022-04-19T12:24:09.366163",
     "status": "completed"
    },
    "tags": []
   },
   "outputs": [
    {
     "data": {
      "text/html": [
       "<div>\n",
       "<style scoped>\n",
       "    .dataframe tbody tr th:only-of-type {\n",
       "        vertical-align: middle;\n",
       "    }\n",
       "\n",
       "    .dataframe tbody tr th {\n",
       "        vertical-align: top;\n",
       "    }\n",
       "\n",
       "    .dataframe thead th {\n",
       "        text-align: right;\n",
       "    }\n",
       "</style>\n",
       "<table border=\"1\" class=\"dataframe\">\n",
       "  <thead>\n",
       "    <tr style=\"text-align: right;\">\n",
       "      <th></th>\n",
       "      <th>Rent</th>\n",
       "      <th>city_Perth</th>\n",
       "      <th>city_Sydney</th>\n",
       "    </tr>\n",
       "  </thead>\n",
       "  <tbody>\n",
       "    <tr>\n",
       "      <th>0</th>\n",
       "      <td>3999</td>\n",
       "      <td>0</td>\n",
       "      <td>1</td>\n",
       "    </tr>\n",
       "    <tr>\n",
       "      <th>1</th>\n",
       "      <td>4000</td>\n",
       "      <td>0</td>\n",
       "      <td>1</td>\n",
       "    </tr>\n",
       "    <tr>\n",
       "      <th>2</th>\n",
       "      <td>4001</td>\n",
       "      <td>0</td>\n",
       "      <td>1</td>\n",
       "    </tr>\n",
       "    <tr>\n",
       "      <th>3</th>\n",
       "      <td>3499</td>\n",
       "      <td>1</td>\n",
       "      <td>0</td>\n",
       "    </tr>\n",
       "    <tr>\n",
       "      <th>4</th>\n",
       "      <td>3500</td>\n",
       "      <td>1</td>\n",
       "      <td>0</td>\n",
       "    </tr>\n",
       "    <tr>\n",
       "      <th>5</th>\n",
       "      <td>3501</td>\n",
       "      <td>1</td>\n",
       "      <td>0</td>\n",
       "    </tr>\n",
       "    <tr>\n",
       "      <th>6</th>\n",
       "      <td>2499</td>\n",
       "      <td>0</td>\n",
       "      <td>0</td>\n",
       "    </tr>\n",
       "    <tr>\n",
       "      <th>7</th>\n",
       "      <td>2500</td>\n",
       "      <td>0</td>\n",
       "      <td>0</td>\n",
       "    </tr>\n",
       "    <tr>\n",
       "      <th>8</th>\n",
       "      <td>2501</td>\n",
       "      <td>0</td>\n",
       "      <td>0</td>\n",
       "    </tr>\n",
       "  </tbody>\n",
       "</table>\n",
       "</div>"
      ],
      "text/plain": [
       "   Rent  city_Perth  city_Sydney\n",
       "0  3999           0            1\n",
       "1  4000           0            1\n",
       "2  4001           0            1\n",
       "3  3499           1            0\n",
       "4  3500           1            0\n",
       "5  3501           1            0\n",
       "6  2499           0            0\n",
       "7  2500           0            0\n",
       "8  2501           0            0"
      ]
     },
     "execution_count": 46,
     "metadata": {},
     "output_type": "execute_result"
    }
   ],
   "source": [
    "dummy_df = pd.get_dummies(df, prefix=['city'], drop_first=True)\n",
    "dummy_df"
   ]
  },
  {
   "cell_type": "code",
   "execution_count": 47,
   "metadata": {
    "execution": {
     "iopub.execute_input": "2022-04-19T12:24:09.568531Z",
     "iopub.status.busy": "2022-04-19T12:24:09.568046Z",
     "iopub.status.idle": "2022-04-19T12:24:09.574898Z",
     "shell.execute_reply": "2022-04-19T12:24:09.575378Z",
     "shell.execute_reply.started": "2021-06-20T23:13:50.914953Z"
    },
    "papermill": {
     "duration": 0.072393,
     "end_time": "2022-04-19T12:24:09.575477",
     "exception": false,
     "start_time": "2022-04-19T12:24:09.503084",
     "status": "completed"
    },
    "tags": []
   },
   "outputs": [
    {
     "data": {
      "text/plain": [
       "LinearRegression()"
      ]
     },
     "execution_count": 47,
     "metadata": {},
     "output_type": "execute_result"
    }
   ],
   "source": [
    "lin_reg.fit(dummy_df[['city_Perth', 'city_Sydney']], dummy_df['Rent'])"
   ]
  },
  {
   "cell_type": "code",
   "execution_count": 48,
   "metadata": {
    "execution": {
     "iopub.execute_input": "2022-04-19T12:24:09.704209Z",
     "iopub.status.busy": "2022-04-19T12:24:09.703762Z",
     "iopub.status.idle": "2022-04-19T12:24:09.706558Z",
     "shell.execute_reply": "2022-04-19T12:24:09.706991Z",
     "shell.execute_reply.started": "2021-06-20T23:13:50.934594Z"
    },
    "papermill": {
     "duration": 0.069227,
     "end_time": "2022-04-19T12:24:09.707086",
     "exception": false,
     "start_time": "2022-04-19T12:24:09.637859",
     "status": "completed"
    },
    "tags": []
   },
   "outputs": [
    {
     "data": {
      "text/plain": [
       "array([1000., 1500.])"
      ]
     },
     "execution_count": 48,
     "metadata": {},
     "output_type": "execute_result"
    }
   ],
   "source": [
    "lin_reg.coef_"
   ]
  },
  {
   "cell_type": "code",
   "execution_count": 49,
   "metadata": {
    "execution": {
     "iopub.execute_input": "2022-04-19T12:24:09.834870Z",
     "iopub.status.busy": "2022-04-19T12:24:09.834413Z",
     "iopub.status.idle": "2022-04-19T12:24:09.839087Z",
     "shell.execute_reply": "2022-04-19T12:24:09.839520Z",
     "shell.execute_reply.started": "2021-06-20T23:13:50.952598Z"
    },
    "papermill": {
     "duration": 0.070327,
     "end_time": "2022-04-19T12:24:09.839644",
     "exception": false,
     "start_time": "2022-04-19T12:24:09.769317",
     "status": "completed"
    },
    "tags": []
   },
   "outputs": [
    {
     "data": {
      "text/plain": [
       "2500.0"
      ]
     },
     "execution_count": 49,
     "metadata": {},
     "output_type": "execute_result"
    }
   ],
   "source": [
    "lin_reg.intercept_"
   ]
  },
  {
   "cell_type": "code",
   "execution_count": 50,
   "metadata": {
    "execution": {
     "iopub.execute_input": "2022-04-19T12:24:09.972059Z",
     "iopub.status.busy": "2022-04-19T12:24:09.971596Z",
     "iopub.status.idle": "2022-04-19T12:24:09.973989Z",
     "shell.execute_reply": "2022-04-19T12:24:09.974461Z",
     "shell.execute_reply.started": "2021-06-20T23:13:50.965577Z"
    },
    "papermill": {
     "duration": 0.07031,
     "end_time": "2022-04-19T12:24:09.974572",
     "exception": false,
     "start_time": "2022-04-19T12:24:09.904262",
     "status": "completed"
    },
    "tags": []
   },
   "outputs": [],
   "source": [
    "# Dummy coding weights + intercept\n",
    "w2 = lin_reg.coef_\n",
    "b2 = lin_reg.intercept_"
   ]
  },
  {
   "cell_type": "markdown",
   "metadata": {
    "papermill": {
     "duration": 0.064137,
     "end_time": "2022-04-19T12:24:10.102934",
     "exception": false,
     "start_time": "2022-04-19T12:24:10.038797",
     "status": "completed"
    },
    "tags": []
   },
   "source": [
    "## Conclusion from above analysis on One-Hot-Encoding vs Dummy-coding\n",
    "\n",
    "With one-hot encoding, the intercept term represents the global mean of the target variable, Rent, and each of the linear coefficients represents how much that city’s\n",
    "average rent differs from the global mean. \n",
    "\n",
    "With dummy coding, the bias coefficient represents the mean value of the response variable y for the reference category, which in the example is the city NYC. The coefficient for the ith feature is equal to the difference between the mean response value for the ith category and the mean of the reference category.\n",
    "\n",
    "\n",
    "# Effect Coding\n",
    "\n",
    "Yet another variant of categorical variable encoding is effect coding. Effect coding is very similar to dummy coding, with the difference that the reference category is now\n",
    "represented by the vector of all –1’s.\n",
    "\n",
    "Effect coding is very similar to dummy coding, but results in linear regression models that are even simpler to interpret. Below Example demonstrates what happens with effect coding as input. The intercept term represents the global mean of the target variable, and the individual coefficients indicate how much the means of the individual categories differ from the global mean. (This is called the main effect of the category or level, hence the name “effect coding.”) \n",
    "\n",
    "One-hot encoding actually came up with the same intercept and coefficients, but in that case there are linear coefficients\n",
    "for each city. In effect coding, no single feature represents the reference category, so the effect of the reference category needs to be separately computed as the negative\n",
    "sum of the coefficients of all other categories. \n",
    "\n",
    "(See [“FAQ: What is effect coding?”](https://stats.idre.ucla.edu/other/mult-pkg/faq/general/faqwhat-is-effect-coding/#:~:text=Effect%20coding%20provides%20one%20way,necessary%20information%20on%20group%20membership.) on the UCLA IDRE website for more details.)\n"
   ]
  },
  {
   "cell_type": "code",
   "execution_count": 51,
   "metadata": {
    "execution": {
     "iopub.execute_input": "2022-04-19T12:24:10.232514Z",
     "iopub.status.busy": "2022-04-19T12:24:10.232003Z",
     "iopub.status.idle": "2022-04-19T12:24:10.236185Z",
     "shell.execute_reply": "2022-04-19T12:24:10.236605Z",
     "shell.execute_reply.started": "2021-06-20T23:13:50.975121Z"
    },
    "papermill": {
     "duration": 0.070224,
     "end_time": "2022-04-19T12:24:10.236729",
     "exception": false,
     "start_time": "2022-04-19T12:24:10.166505",
     "status": "completed"
    },
    "tags": []
   },
   "outputs": [],
   "source": [
    "effect_df = dummy_df.copy()"
   ]
  },
  {
   "cell_type": "code",
   "execution_count": 52,
   "metadata": {
    "execution": {
     "iopub.execute_input": "2022-04-19T12:24:10.363769Z",
     "iopub.status.busy": "2022-04-19T12:24:10.363317Z",
     "iopub.status.idle": "2022-04-19T12:24:10.371414Z",
     "shell.execute_reply": "2022-04-19T12:24:10.371888Z",
     "shell.execute_reply.started": "2021-06-20T23:13:50.992445Z"
    },
    "papermill": {
     "duration": 0.072879,
     "end_time": "2022-04-19T12:24:10.372008",
     "exception": false,
     "start_time": "2022-04-19T12:24:10.299129",
     "status": "completed"
    },
    "tags": []
   },
   "outputs": [
    {
     "data": {
      "text/html": [
       "<div>\n",
       "<style scoped>\n",
       "    .dataframe tbody tr th:only-of-type {\n",
       "        vertical-align: middle;\n",
       "    }\n",
       "\n",
       "    .dataframe tbody tr th {\n",
       "        vertical-align: top;\n",
       "    }\n",
       "\n",
       "    .dataframe thead th {\n",
       "        text-align: right;\n",
       "    }\n",
       "</style>\n",
       "<table border=\"1\" class=\"dataframe\">\n",
       "  <thead>\n",
       "    <tr style=\"text-align: right;\">\n",
       "      <th></th>\n",
       "      <th>Rent</th>\n",
       "      <th>city_Perth</th>\n",
       "      <th>city_Sydney</th>\n",
       "    </tr>\n",
       "  </thead>\n",
       "  <tbody>\n",
       "    <tr>\n",
       "      <th>0</th>\n",
       "      <td>3999</td>\n",
       "      <td>0</td>\n",
       "      <td>1</td>\n",
       "    </tr>\n",
       "    <tr>\n",
       "      <th>1</th>\n",
       "      <td>4000</td>\n",
       "      <td>0</td>\n",
       "      <td>1</td>\n",
       "    </tr>\n",
       "    <tr>\n",
       "      <th>2</th>\n",
       "      <td>4001</td>\n",
       "      <td>0</td>\n",
       "      <td>1</td>\n",
       "    </tr>\n",
       "    <tr>\n",
       "      <th>3</th>\n",
       "      <td>3499</td>\n",
       "      <td>255</td>\n",
       "      <td>255</td>\n",
       "    </tr>\n",
       "    <tr>\n",
       "      <th>4</th>\n",
       "      <td>3500</td>\n",
       "      <td>255</td>\n",
       "      <td>255</td>\n",
       "    </tr>\n",
       "    <tr>\n",
       "      <th>5</th>\n",
       "      <td>3501</td>\n",
       "      <td>255</td>\n",
       "      <td>255</td>\n",
       "    </tr>\n",
       "    <tr>\n",
       "      <th>6</th>\n",
       "      <td>2499</td>\n",
       "      <td>0</td>\n",
       "      <td>0</td>\n",
       "    </tr>\n",
       "    <tr>\n",
       "      <th>7</th>\n",
       "      <td>2500</td>\n",
       "      <td>0</td>\n",
       "      <td>0</td>\n",
       "    </tr>\n",
       "    <tr>\n",
       "      <th>8</th>\n",
       "      <td>2501</td>\n",
       "      <td>0</td>\n",
       "      <td>0</td>\n",
       "    </tr>\n",
       "  </tbody>\n",
       "</table>\n",
       "</div>"
      ],
      "text/plain": [
       "   Rent  city_Perth  city_Sydney\n",
       "0  3999           0            1\n",
       "1  4000           0            1\n",
       "2  4001           0            1\n",
       "3  3499         255          255\n",
       "4  3500         255          255\n",
       "5  3501         255          255\n",
       "6  2499           0            0\n",
       "7  2500           0            0\n",
       "8  2501           0            0"
      ]
     },
     "execution_count": 52,
     "metadata": {},
     "output_type": "execute_result"
    }
   ],
   "source": [
    "effect_df.loc[3:5, ['city_Perth', 'city_Sydney']] = -1.0\n",
    "effect_df"
   ]
  },
  {
   "cell_type": "code",
   "execution_count": 53,
   "metadata": {
    "execution": {
     "iopub.execute_input": "2022-04-19T12:24:10.503591Z",
     "iopub.status.busy": "2022-04-19T12:24:10.502849Z",
     "iopub.status.idle": "2022-04-19T12:24:10.509432Z",
     "shell.execute_reply": "2022-04-19T12:24:10.509878Z",
     "shell.execute_reply.started": "2021-06-20T23:13:51.019084Z"
    },
    "papermill": {
     "duration": 0.07409,
     "end_time": "2022-04-19T12:24:10.509992",
     "exception": false,
     "start_time": "2022-04-19T12:24:10.435902",
     "status": "completed"
    },
    "tags": []
   },
   "outputs": [
    {
     "data": {
      "text/plain": [
       "array([-1496.07843137,  1500.        ])"
      ]
     },
     "execution_count": 53,
     "metadata": {},
     "output_type": "execute_result"
    }
   ],
   "source": [
    "lin_reg.fit(effect_df[['city_Perth', 'city_Sydney']], effect_df['Rent'])\n",
    "lin_reg.coef_"
   ]
  },
  {
   "cell_type": "code",
   "execution_count": 54,
   "metadata": {
    "execution": {
     "iopub.execute_input": "2022-04-19T12:24:10.638048Z",
     "iopub.status.busy": "2022-04-19T12:24:10.637609Z",
     "iopub.status.idle": "2022-04-19T12:24:10.641483Z",
     "shell.execute_reply": "2022-04-19T12:24:10.641905Z",
     "shell.execute_reply.started": "2021-06-20T23:13:51.039816Z"
    },
    "papermill": {
     "duration": 0.069049,
     "end_time": "2022-04-19T12:24:10.641995",
     "exception": false,
     "start_time": "2022-04-19T12:24:10.572946",
     "status": "completed"
    },
    "tags": []
   },
   "outputs": [
    {
     "data": {
      "text/plain": [
       "2500.000000000034"
      ]
     },
     "execution_count": 54,
     "metadata": {},
     "output_type": "execute_result"
    }
   ],
   "source": [
    "lin_reg.intercept_"
   ]
  },
  {
   "cell_type": "code",
   "execution_count": 55,
   "metadata": {
    "execution": {
     "iopub.execute_input": "2022-04-19T12:24:10.771884Z",
     "iopub.status.busy": "2022-04-19T12:24:10.771423Z",
     "iopub.status.idle": "2022-04-19T12:24:10.864950Z",
     "shell.execute_reply": "2022-04-19T12:24:10.864487Z",
     "shell.execute_reply.started": "2021-06-20T23:13:51.050023Z"
    },
    "papermill": {
     "duration": 0.159996,
     "end_time": "2022-04-19T12:24:10.865046",
     "exception": false,
     "start_time": "2022-04-19T12:24:10.705050",
     "status": "completed"
    },
    "tags": []
   },
   "outputs": [],
   "source": [
    "# illustration of rental price in cities\n",
    "%matplotlib inline\n",
    "import numpy as np\n",
    "import matplotlib as mpl\n",
    "import matplotlib.pyplot as plt\n",
    "import seaborn as sns\n",
    "sns.set(style=\"whitegrid\", font_scale=1.4, color_codes=True)"
   ]
  },
  {
   "cell_type": "code",
   "execution_count": 56,
   "metadata": {
    "execution": {
     "iopub.execute_input": "2022-04-19T12:24:10.999440Z",
     "iopub.status.busy": "2022-04-19T12:24:10.998932Z",
     "iopub.status.idle": "2022-04-19T12:24:11.142165Z",
     "shell.execute_reply": "2022-04-19T12:24:11.141685Z",
     "shell.execute_reply.started": "2021-06-20T23:13:51.193383Z"
    },
    "papermill": {
     "duration": 0.211886,
     "end_time": "2022-04-19T12:24:11.142266",
     "exception": false,
     "start_time": "2022-04-19T12:24:10.930380",
     "status": "completed"
    },
    "tags": []
   },
   "outputs": [
    {
     "data": {
      "image/png": "[encoded data removed]",
      "text/plain": [
       "<Figure size 432x288 with 1 Axes>"
      ]
     },
     "metadata": {},
     "output_type": "display_data"
    }
   ],
   "source": [
    "sns.swarmplot(x=\"City\", y=\"Rent\", data=df);"
   ]
  },
  {
   "cell_type": "code",
   "execution_count": 57,
   "metadata": {
    "execution": {
     "iopub.execute_input": "2022-04-19T12:24:11.276661Z",
     "iopub.status.busy": "2022-04-19T12:24:11.276188Z",
     "iopub.status.idle": "2022-04-19T12:24:11.285307Z",
     "shell.execute_reply": "2022-04-19T12:24:11.285859Z",
     "shell.execute_reply.started": "2021-06-20T23:13:51.401742Z"
    },
    "papermill": {
     "duration": 0.077544,
     "end_time": "2022-04-19T12:24:11.286004",
     "exception": false,
     "start_time": "2022-04-19T12:24:11.208460",
     "status": "completed"
    },
    "tags": []
   },
   "outputs": [
    {
     "name": "stdout",
     "output_type": "stream",
     "text": [
      "One-hot encoding weights:  [ 166.66666667  666.66666667 -833.33333333]  and intercept:  3333.3333333333335\n",
      "Dummy encoding weights:  [1000. 1500.]  and intercept:  2500.0\n"
     ]
    }
   ],
   "source": [
    "print('One-hot encoding weights: ' ,w1, ' and intercept: ', b1)\n",
    "print('Dummy encoding weights: ' ,w2, ' and intercept: ', b2)"
   ]
  },
  {
   "cell_type": "code",
   "execution_count": 58,
   "metadata": {
    "execution": {
     "iopub.execute_input": "2022-04-19T12:24:11.428829Z",
     "iopub.status.busy": "2022-04-19T12:24:11.428030Z",
     "iopub.status.idle": "2022-04-19T12:24:11.432579Z",
     "shell.execute_reply": "2022-04-19T12:24:11.432035Z",
     "shell.execute_reply.started": "2021-06-20T23:13:51.413769Z"
    },
    "papermill": {
     "duration": 0.07981,
     "end_time": "2022-04-19T12:24:11.432704",
     "exception": false,
     "start_time": "2022-04-19T12:24:11.352894",
     "status": "completed"
    },
    "tags": []
   },
   "outputs": [
    {
     "data": {
      "text/html": [
       "<div>\n",
       "<style scoped>\n",
       "    .dataframe tbody tr th:only-of-type {\n",
       "        vertical-align: middle;\n",
       "    }\n",
       "\n",
       "    .dataframe tbody tr th {\n",
       "        vertical-align: top;\n",
       "    }\n",
       "\n",
       "    .dataframe thead th {\n",
       "        text-align: right;\n",
       "    }\n",
       "</style>\n",
       "<table border=\"1\" class=\"dataframe\">\n",
       "  <thead>\n",
       "    <tr style=\"text-align: right;\">\n",
       "      <th></th>\n",
       "      <th>Rent</th>\n",
       "      <th>city_Perth</th>\n",
       "      <th>city_Sydney</th>\n",
       "    </tr>\n",
       "  </thead>\n",
       "  <tbody>\n",
       "    <tr>\n",
       "      <th>0</th>\n",
       "      <td>3999</td>\n",
       "      <td>0</td>\n",
       "      <td>1</td>\n",
       "    </tr>\n",
       "    <tr>\n",
       "      <th>1</th>\n",
       "      <td>4000</td>\n",
       "      <td>0</td>\n",
       "      <td>1</td>\n",
       "    </tr>\n",
       "  </tbody>\n",
       "</table>\n",
       "</div>"
      ],
      "text/plain": [
       "   Rent  city_Perth  city_Sydney\n",
       "0  3999           0            1\n",
       "1  4000           0            1"
      ]
     },
     "execution_count": 58,
     "metadata": {},
     "output_type": "execute_result"
    }
   ],
   "source": [
    "dummy_df.head(2)"
   ]
  },
  {
   "cell_type": "code",
   "execution_count": 59,
   "metadata": {
    "execution": {
     "iopub.execute_input": "2022-04-19T12:24:11.644169Z",
     "iopub.status.busy": "2022-04-19T12:24:11.643544Z",
     "iopub.status.idle": "2022-04-19T12:24:11.646419Z",
     "shell.execute_reply": "2022-04-19T12:24:11.647013Z",
     "shell.execute_reply.started": "2021-06-20T23:13:51.439278Z"
    },
    "papermill": {
     "duration": 0.114291,
     "end_time": "2022-04-19T12:24:11.647143",
     "exception": false,
     "start_time": "2022-04-19T12:24:11.532852",
     "status": "completed"
    },
    "tags": []
   },
   "outputs": [
    {
     "name": "stdout",
     "output_type": "stream",
     "text": [
      "[4000.0000000000005, 4000.0000000000005, 4000.0000000000005, 3500.0, 3500.0, 3500.0, 2500.0, 2500.0, 2500.0]\n",
      "[4000.000000000001, 4000.000000000001, 4000.000000000001, 3500.0, 3500.0, 3500.0, 2500.0, 2500.0, 2500.0]\n"
     ]
    }
   ],
   "source": [
    "# geometry of one-hot vs. dummy encoding\n",
    "\n",
    "# Create a list of values in the best fit line for one-hot encoding\n",
    "one_hot_y = [((w1[0] * one_hot_df.city_Perth[i]) + \n",
    "              (w1[1] * one_hot_df.city_Sydney[i]) +\n",
    "              (w1[2] * one_hot_df.city_Brisbane[i]) + b1) \n",
    "             for i in range(0,one_hot_df.shape[0])]\n",
    "\n",
    "# Create a list of values in the best fit line for dummy coding\n",
    "dummy_y = [((w2[0] * dummy_df.city_Perth[i]) +\n",
    "            (w2[1] * dummy_df.city_Sydney[i]) + b2)\n",
    "           for i in range(0,dummy_df.shape[0])]\n",
    "\n",
    "print(one_hot_y)\n",
    "print(dummy_y)"
   ]
  },
  {
   "cell_type": "markdown",
   "metadata": {
    "papermill": {
     "duration": 0.099972,
     "end_time": "2022-04-19T12:24:11.847200",
     "exception": false,
     "start_time": "2022-04-19T12:24:11.747228",
     "status": "completed"
    },
    "tags": []
   },
   "source": [
    "# Pros and Cons of Categorical Variable Encodings\n",
    "\n",
    "One-hot, dummy, and effect coding are very similar to one another. They each have\n",
    "pros and cons. One-hot encoding is redundant, which allows for multiple valid mod‐\n",
    "els for the same problem. The nonuniqueness is sometimes problematic for interpre‐\n",
    "tation, but the advantage is that each feature clearly corresponds to a category.\n",
    "Moreover, missing data can be encoded as the all-zeros vector, and the output should\n",
    "be the overall mean of the target variable.\n",
    "\n",
    "Dummy coding and effect coding are not redundant. They give rise to unique and\n",
    "interpretable models. The downside of dummy coding is that it cannot easily handle\n",
    "missing data, since the all-zeros vector is already mapped to the reference category. It\n",
    "also encodes the effect of each category relative to the reference category, which may\n",
    "look strange.\n",
    "\n",
    "Effect coding avoids this problem by using a different code for the reference category,\n",
    "but the vector of all –1’s is a dense vector, which is expensive for both storage and\n",
    "computation. For this reason, popular ML software packages such as Pandas and\n",
    "scikit-learn have opted for dummy coding or one-hot encoding instead of effect\n",
    "coding.\n",
    "All three encoding techniques break down when the number of categories becomes\n",
    "very large. Different strategies are needed to handle extremely large categorical\n",
    "variables.\n"
   ]
  }
 ],
 "metadata": {
  "kernelspec": {
   "display_name": "Python 3",
   "language": "python",
   "name": "python3"
  },
  "language_info": {
   "codemirror_mode": {
    "name": "ipython",
    "version": 3
   },
   "file_extension": ".py",
   "mimetype": "text/x-python",
   "name": "python",
   "nbconvert_exporter": "python",
   "pygments_lexer": "ipython3",
   "version": "3.7.6"
  },
  "papermill": {
   "duration": 26.86099,
   "end_time": "2022-04-19T12:24:12.053126",
   "environment_variables": {},
   "exception": null,
   "input_path": "__notebook__.ipynb",
   "output_path": "__notebook__.ipynb",
   "parameters": {},
   "start_time": "2022-04-19T12:23:45.192136",
   "version": "2.1.0"
  }
 },
 "nbformat": 4,
 "nbformat_minor": 4
}
